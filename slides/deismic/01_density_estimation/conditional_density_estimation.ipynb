{
 "cells": [
  {
   "cell_type": "markdown",
   "metadata": {
    "slideshow": {
     "slide_type": "slide"
    }
   },
   "source": [
    "# Introduction to Conditional Density Estimation\n",
    "\n",
    "<br/>"
   ]
  },
  {
   "cell_type": "code",
   "execution_count": 114,
   "metadata": {
    "slideshow": {
     "slide_type": "skip"
    }
   },
   "outputs": [],
   "source": [
    "import os\n",
    "os.environ['KMP_DUPLICATE_LIB_OK']='True'"
   ]
  },
  {
   "cell_type": "code",
   "execution_count": 115,
   "metadata": {
    "slideshow": {
     "slide_type": "skip"
    }
   },
   "outputs": [],
   "source": [
    "import math\n",
    "\n",
    "import matplotlib.pyplot as plt\n",
    "import torch\n",
    "import torch.nn as nn\n",
    "import torch.nn.functional as F\n",
    "import torch.optim as optim\n",
    "from math import pi, log\n",
    "from torch.utils import data\n",
    "import numpy as np\n",
    "from torch import tensor\n",
    "torch.manual_seed(0)\n",
    "from torch.distributions import Normal"
   ]
  },
  {
   "cell_type": "markdown",
   "metadata": {
    "slideshow": {
     "slide_type": "slide"
    }
   },
   "source": [
    "### Density estimation\n",
    "\n",
    "Density estimation means to estimate the probability distribution $p(\\theta)$ from samples $\\theta_1, \\theta_2, ...$."
   ]
  },
  {
   "cell_type": "code",
   "execution_count": 116,
   "metadata": {
    "slideshow": {
     "slide_type": "fragment"
    }
   },
   "outputs": [],
   "source": [
    "mean = 1.0\n",
    "std = 0.4\n",
    "\n",
    "normal_dist = Normal(mean, std)  # We do not usually know this...\n",
    "samples = normal_dist.sample((50,))  # ...but all we have are these samples."
   ]
  },
  {
   "cell_type": "code",
   "execution_count": 117,
   "metadata": {
    "slideshow": {
     "slide_type": "skip"
    }
   },
   "outputs": [
    {
     "data": {
      "image/png": "[encoded data removed]",
      "text/plain": [
       "<Figure size 432x144 with 1 Axes>"
      ]
     },
     "metadata": {
      "needs_background": "light"
     },
     "output_type": "display_data"
    }
   ],
   "source": [
    "fig = plt.figure(figsize=(6, 2))\n",
    "plt.plot(samples, np.zeros_like(samples), 'bx', alpha=0.5, markerfacecolor='none')\n",
    "_ = plt.xlim([-4, 4]); _ = plt.ylim([-0.12, 1.2])\n",
    "plt.savefig(\"figures/samples.png\", dpi=200, bbox_inches=\"tight\")"
   ]
  },
  {
   "cell_type": "markdown",
   "metadata": {
    "slideshow": {
     "slide_type": "fragment"
    }
   },
   "source": [
    "<img src=\"figures/samples.png\" alt=\"drawing\" width=\"800\"/>\n",
    "\n",
    "Our goal is to estimate the underlying distribution of these samples."
   ]
  },
  {
   "cell_type": "markdown",
   "metadata": {
    "slideshow": {
     "slide_type": "slide"
    }
   },
   "source": [
    "# Exercise 1: fitting a Gaussian to data with maximum likelihood\n",
    "\n",
    "### Learning mean and standard deviation"
   ]
  },
  {
   "cell_type": "code",
   "execution_count": 118,
   "metadata": {
    "slideshow": {
     "slide_type": "fragment"
    }
   },
   "outputs": [],
   "source": [
    "dataset = data.TensorDataset(samples)\n",
    "train_loader = data.DataLoader(samples, batch_size=10)\n",
    "\n",
    "learned_mean = torch.nn.Parameter(torch.zeros(1))\n",
    "learned_log_std = torch.nn.Parameter(torch.zeros(1))\n",
    "\n",
    "opt = optim.Adam([learned_mean, learned_log_std], lr=0.005)\n",
    "\n",
    "for e in range(500):\n",
    "    for sample_batch in samples:\n",
    "        opt.zero_grad()\n",
    "        learned_std = torch.exp(learned_log_std)\n",
    "        prob_Gauss = 1/torch.sqrt(2*pi*learned_std**2) * torch.exp(-.5/learned_std**2*(sample_batch-learned_mean)**2)\n",
    "        loss = -torch.log(prob_Gauss).sum()\n",
    "        loss.backward() \n",
    "        opt.step()"
   ]
  },
  {
   "cell_type": "code",
   "execution_count": 119,
   "metadata": {
    "slideshow": {
     "slide_type": "fragment"
    }
   },
   "outputs": [
    {
     "name": "stdout",
     "output_type": "stream",
     "text": [
      "Learned mean:  1.0295751094818115 , learned standard deviation:  0.4328019917011261\n"
     ]
    }
   ],
   "source": [
    "print(\"Learned mean: \", learned_mean.item(), \", learned standard deviation: \", torch.exp(learned_log_std).item())"
   ]
  },
  {
   "cell_type": "code",
   "execution_count": 120,
   "metadata": {
    "slideshow": {
     "slide_type": "skip"
    }
   },
   "outputs": [],
   "source": [
    "true_dist = Normal(mean, std)\n",
    "learned_dist = Normal(learned_mean, torch.exp(learned_log_std))"
   ]
  },
  {
   "cell_type": "code",
   "execution_count": 121,
   "metadata": {
    "slideshow": {
     "slide_type": "skip"
    }
   },
   "outputs": [],
   "source": [
    "x = torch.linspace(-4, 4, 100)\n",
    "true_probs = torch.exp(normal_dist.log_prob(x))\n",
    "learned_probs = torch.exp(learned_dist.log_prob(x)).detach()"
   ]
  },
  {
   "cell_type": "code",
   "execution_count": 122,
   "metadata": {
    "slideshow": {
     "slide_type": "skip"
    }
   },
   "outputs": [
    {
     "data": {
      "image/png": "[encoded data removed]",
      "text/plain": [
       "<Figure size 432x144 with 1 Axes>"
      ]
     },
     "metadata": {
      "needs_background": "light"
     },
     "output_type": "display_data"
    }
   ],
   "source": [
    "fig = plt.figure(figsize=(6, 2))\n",
    "plt.plot(samples, np.zeros_like(samples), 'bx', alpha=0.5, markerfacecolor='none')\n",
    "plt.plot(x, true_probs)\n",
    "plt.plot(x, learned_probs)\n",
    "plt.legend([\"Samples\", \"Ground truth\", \"Learned\"], loc=\"upper left\")\n",
    "_ = plt.xlim([-4, 4]); _ = plt.ylim([-0.12, 1.2])\n",
    "plt.savefig(\"figures/fitted_samples.png\", dpi=200, bbox_inches=\"tight\")"
   ]
  },
  {
   "cell_type": "markdown",
   "metadata": {
    "slideshow": {
     "slide_type": "slide"
    }
   },
   "source": [
    "<img src=\"figures/fitted_samples.png\" alt=\"drawing\" width=\"800\"/>"
   ]
  },
  {
   "cell_type": "markdown",
   "metadata": {
    "slideshow": {
     "slide_type": "slide"
    }
   },
   "source": [
    "### Questions to think about\n",
    "\n",
    "1) Why do we parameterize the logarithm of the standard deviation instead of the standard deviation itself?  \n",
    "2) We are evaluating the probability in batches of samples. Does this also work for single parameters (i.e. non-batched)?"
   ]
  },
  {
   "cell_type": "markdown",
   "metadata": {
    "slideshow": {
     "slide_type": "slide"
    },
    "tags": []
   },
   "source": [
    "# Conditional density estimation"
   ]
  },
  {
   "cell_type": "markdown",
   "metadata": {
    "jp-MarkdownHeadingCollapsed": true,
    "slideshow": {
     "slide_type": "fragment"
    },
    "tags": []
   },
   "source": [
    "### Example problem:\n",
    "Generate data from $x = t + 0.3 \\sin(2 \\pi t) + \\epsilon$"
   ]
  },
  {
   "cell_type": "code",
   "execution_count": 123,
   "metadata": {
    "slideshow": {
     "slide_type": "skip"
    }
   },
   "outputs": [],
   "source": [
    "# generate data\n",
    "n = 4000\n",
    "d = 1\n",
    "t = 1"
   ]
  },
  {
   "cell_type": "code",
   "execution_count": 124,
   "metadata": {
    "slideshow": {
     "slide_type": "skip"
    }
   },
   "outputs": [],
   "source": [
    "theta = torch.rand((n, d))\n",
    "\n",
    "noise = torch.rand((n, d)) * 0.2 - 0.1 # uniform in [-0.1, 0.1]\n",
    "x = theta + 0.3*torch.sin(2*pi*theta) + noise"
   ]
  },
  {
   "cell_type": "code",
   "execution_count": 125,
   "metadata": {
    "slideshow": {
     "slide_type": "skip"
    }
   },
   "outputs": [
    {
     "data": {
      "image/png": "[encoded data removed]",
      "text/plain": [
       "<Figure size 432x216 with 1 Axes>"
      ]
     },
     "metadata": {
      "needs_background": "light"
     },
     "output_type": "display_data"
    }
   ],
   "source": [
    "# Data t_train and x_train\n",
    "fig = plt.figure(figsize=(6, 3))\n",
    "plt.plot(theta[:400], x[:400], 'go', alpha=0.4, markerfacecolor='none')\n",
    "plt.xlabel('t')\n",
    "plt.ylabel('x')\n",
    "plt.savefig(\"figures/cde_samples.png\", dpi=200, bbox_inches=\"tight\")\n",
    "plt.show()"
   ]
  },
  {
   "cell_type": "markdown",
   "metadata": {
    "slideshow": {
     "slide_type": "fragment"
    }
   },
   "source": [
    "The goal is to estimate parameters of a conditional distribution:\n",
    "<img src=\"figures/cde_samples.png\" alt=\"drawing\" width=\"500\"/>  \n",
    "We now assume a **conditional** Gaussian distribution:  \n",
    "$\\mathcal{L} = -\\sum_i \\log q(t_i|x_i) = -\\sum_i \\log \\mathcal{N}(t_i; \\mu(x_i), \\sigma(x_i))$  "
   ]
  },
  {
   "cell_type": "markdown",
   "metadata": {
    "slideshow": {
     "slide_type": "slide"
    }
   },
   "source": [
    "# Exercise 2\n",
    "\n",
    "### Learning mean and standard deviation conditional on inputs"
   ]
  },
  {
   "cell_type": "code",
   "execution_count": 126,
   "metadata": {
    "slideshow": {
     "slide_type": "fragment"
    }
   },
   "outputs": [],
   "source": [
    "dataset = data.TensorDataset(theta, x)\n",
    "train_loader = data.DataLoader(\n",
    "    dataset, batch_size=20)\n",
    "\n",
    "net = nn.Sequential(\n",
    "    nn.Linear(1, 20), nn.ReLU(),\n",
    "    nn.Linear(20, 20), nn.ReLU(),\n",
    "    nn.Linear(20, 2))\n",
    "\n",
    "opt = optim.Adam(net.parameters(), lr=0.01)\n",
    "for e in range(100):\n",
    "    for theta_batch, x_batch in train_loader:\n",
    "        opt.zero_grad()\n",
    "        nn_output = net(theta_batch)\n",
    "        mean = nn_output[:, 0].unsqueeze(1)\n",
    "        std = torch.exp(nn_output[:,1]).unsqueeze(1)\n",
    "        prob_Gauss = 1/torch.sqrt(2*pi*std**2) * torch.exp(-.5/std**2*(mean-x_batch)**2)\n",
    "        loss = -torch.log(prob_Gauss).sum()\n",
    "        loss.backward()\n",
    "        opt.step()"
   ]
  },
  {
   "cell_type": "markdown",
   "metadata": {
    "slideshow": {
     "slide_type": "fragment"
    }
   },
   "source": [
    "We now have a neural network which outputs the parameters of a probability density distribution given inputs.\n",
    "In this case, it was a Gaussian distribution of which we learned the mean and standard deviation. To evaluate the result, we can look at samples from the returned distribution."
   ]
  },
  {
   "cell_type": "markdown",
   "metadata": {
    "slideshow": {
     "slide_type": "slide"
    }
   },
   "source": [
    "### Inspect the distribution for t = 0.2"
   ]
  },
  {
   "cell_type": "code",
   "execution_count": 127,
   "metadata": {
    "slideshow": {
     "slide_type": "fragment"
    }
   },
   "outputs": [],
   "source": [
    "theta_test = tensor([0.2])\n",
    "nn_output = net(theta_test)\n",
    "conditional_mean = nn_output[0].detach().numpy()\n",
    "conditional_std = torch.exp(nn_output[1]).detach().numpy()"
   ]
  },
  {
   "cell_type": "code",
   "execution_count": 128,
   "metadata": {
    "slideshow": {
     "slide_type": "skip"
    }
   },
   "outputs": [
    {
     "name": "stderr",
     "output_type": "stream",
     "text": [
      "/home/michael/anaconda3/envs/workshop/lib/python3.8/site-packages/numpy/core/shape_base.py:65: FutureWarning: The input object of type 'Tensor' is an array-like implementing one of the corresponding protocols (`__array__`, `__array_interface__` or `__array_struct__`); but not a sequence (or 0-D). In the future, this object will be coerced as if it was first converted using `np.array(obj)`. To retain the old behaviour, you have to either modify the type 'Tensor', or assign to an empty array created with `np.empty(correct_shape, dtype=object)`.\n",
      "  ary = asanyarray(ary)\n",
      "/home/michael/anaconda3/envs/workshop/lib/python3.8/site-packages/numpy/core/shape_base.py:65: VisibleDeprecationWarning: Creating an ndarray from ragged nested sequences (which is a list-or-tuple of lists-or-tuples-or ndarrays with different lengths or shapes) is deprecated. If you meant to do this, you must specify 'dtype=object' when creating the ndarray.\n",
      "  ary = asanyarray(ary)\n"
     ]
    },
    {
     "data": {
      "image/png": "[encoded data removed]",
      "text/plain": [
       "<Figure size 432x216 with 1 Axes>"
      ]
     },
     "metadata": {
      "needs_background": "light"
     },
     "output_type": "display_data"
    }
   ],
   "source": [
    "# Data t_train and x_train\n",
    "fig = plt.figure(figsize=(6, 3))\n",
    "plt.plot(theta[:400], x[:400], 'go', alpha=0.4, markerfacecolor='none')\n",
    "plt.scatter(theta_test, conditional_mean, c=\"r\", s=80)\n",
    "plt.plot([theta_test, theta_test], [conditional_mean-conditional_std, conditional_mean+conditional_std], c=\"r\", linewidth=3)\n",
    "plt.xlabel('t')\n",
    "plt.ylabel('x')\n",
    "plt.savefig(\"figures/cde_fitted.png\", dpi=200, bbox_inches=\"tight\")\n",
    "plt.show()"
   ]
  },
  {
   "cell_type": "markdown",
   "metadata": {
    "slideshow": {
     "slide_type": "fragment"
    }
   },
   "source": [
    "<img src=\"figures/cde_fitted.png\" alt=\"drawing\" width=\"600\"/>"
   ]
  },
  {
   "cell_type": "markdown",
   "metadata": {
    "slideshow": {
     "slide_type": "slide"
    }
   },
   "source": [
    "### Alternative evaluation: for every $t$, sample from the Gaussian"
   ]
  },
  {
   "cell_type": "code",
   "execution_count": 129,
   "metadata": {
    "slideshow": {
     "slide_type": "fragment"
    }
   },
   "outputs": [],
   "source": [
    "samples = []\n",
    "theta_test = torch.linspace(0.0, 1.0, 500).unsqueeze(1)\n",
    "\n",
    "for single_theta in theta_test:\n",
    "    network_outs = net(single_theta.unsqueeze(1))\n",
    "    m = network_outs[:,0]\n",
    "    s = torch.exp(network_outs[:,1])\n",
    "    conditional_distribution = Normal(m, s)\n",
    "    sample = conditional_distribution.sample((1,))\n",
    "    \n",
    "    samples.append(sample)\n",
    "samples = torch.cat(samples).data"
   ]
  },
  {
   "cell_type": "code",
   "execution_count": 130,
   "metadata": {
    "slideshow": {
     "slide_type": "skip"
    }
   },
   "outputs": [
    {
     "data": {
      "image/png": "[encoded data removed]",
      "text/plain": [
       "<Figure size 432x216 with 1 Axes>"
      ]
     },
     "metadata": {
      "needs_background": "light"
     },
     "output_type": "display_data"
    }
   ],
   "source": [
    "# plot\n",
    "fig = plt.figure(figsize=(6, 3))\n",
    "plt.plot(theta[:400], x[:400], 'go', alpha=0.5, markerfacecolor='none')\n",
    "plt.plot(theta_test, samples.squeeze().detach(), 'ro', linewidth=3.0)\n",
    "plt.xlabel('x')\n",
    "plt.ylabel('t')\n",
    "# plt.savefig(\"data_prob_std_fit.png\", dpi=200)\n",
    "plt.savefig(\"figures/cde_fitted_samples\", dpi=200, bbox_inches=\"tight\")\n",
    "plt.show()"
   ]
  },
  {
   "cell_type": "markdown",
   "metadata": {
    "slideshow": {
     "slide_type": "fragment"
    }
   },
   "source": [
    "<img src=\"figures/cde_fitted_samples.png\" alt=\"drawing\" width=\"500\"/>"
   ]
  },
  {
   "cell_type": "markdown",
   "metadata": {
    "slideshow": {
     "slide_type": "slide"
    }
   },
   "source": [
    "# But what if the conditional distribution is not Gaussian?"
   ]
  },
  {
   "cell_type": "markdown",
   "metadata": {
    "slideshow": {
     "slide_type": "fragment"
    },
    "tags": []
   },
   "source": [
    "Again, generate data from $x = t + 0.3 \\sin(2 \\pi t) + \\epsilon$. But now, predict $t$ from $x$."
   ]
  },
  {
   "cell_type": "code",
   "execution_count": 131,
   "metadata": {
    "slideshow": {
     "slide_type": "skip"
    }
   },
   "outputs": [
    {
     "data": {
      "image/png": "[encoded data removed]",
      "text/plain": [
       "<Figure size 360x216 with 1 Axes>"
      ]
     },
     "metadata": {
      "needs_background": "light"
     },
     "output_type": "display_data"
    }
   ],
   "source": [
    "fig = plt.figure(figsize=(5, 3))\n",
    "plt.plot(x[:400], theta[:400], 'go', alpha=0.5, markerfacecolor='none')\n",
    "plt.xlabel('x')\n",
    "plt.ylabel('t')\n",
    "plt.savefig(\"figures/cde_samples_inv.png\", dpi=200, bbox_inches=\"tight\")\n",
    "plt.show()"
   ]
  },
  {
   "cell_type": "markdown",
   "metadata": {
    "slideshow": {
     "slide_type": "fragment"
    }
   },
   "source": [
    "<img src=\"figures/cde_samples_inv.png\" alt=\"drawing\" width=\"600\"/>"
   ]
  },
  {
   "cell_type": "code",
   "execution_count": 138,
   "metadata": {
    "slideshow": {
     "slide_type": "skip"
    }
   },
   "outputs": [],
   "source": [
    "_ = torch.manual_seed(1)"
   ]
  },
  {
   "cell_type": "code",
   "execution_count": 139,
   "metadata": {
    "slideshow": {
     "slide_type": "slide"
    }
   },
   "outputs": [],
   "source": [
    "dataset = data.TensorDataset(x, theta)\n",
    "train_loader = data.DataLoader(\n",
    "    dataset, batch_size=20)\n",
    "\n",
    "net = nn.Sequential(\n",
    "    nn.Linear(1, 20), nn.ReLU(),\n",
    "    nn.Linear(20, 20), nn.ReLU(),\n",
    "    nn.Linear(20, 2))\n",
    "\n",
    "opt = optim.Adam(net.parameters(), lr=0.01)\n",
    "for e in range(100):\n",
    "    for x_batch, theta_batch in train_loader:\n",
    "        opt.zero_grad()\n",
    "        nn_output = net(x_batch)\n",
    "        mean = nn_output[:, 0].unsqueeze(1)\n",
    "        std = torch.exp(nn_output[:,1]).unsqueeze(1)\n",
    "        prob_Gauss = 1/torch.sqrt(2*pi*std**2) * torch.exp(-.5/std**2*(mean-theta_batch)**2)\n",
    "        loss = -torch.log(prob_Gauss).sum()\n",
    "        loss.backward()\n",
    "        opt.step()"
   ]
  },
  {
   "cell_type": "code",
   "execution_count": 140,
   "metadata": {
    "slideshow": {
     "slide_type": "skip"
    }
   },
   "outputs": [],
   "source": [
    "samples = []\n",
    "x_test = torch.linspace(-0.1, 1.1, 500).unsqueeze(1)\n",
    "\n",
    "for single_x in x_test:\n",
    "    network_outs = net(single_x.unsqueeze(1))\n",
    "    mean = network_outs[:,0]\n",
    "    std = torch.exp(network_outs[:,1])\n",
    "    conditional_distribution = Normal(mean, std)\n",
    "    sample = conditional_distribution.sample((1,))\n",
    "    \n",
    "    samples.append(sample)\n",
    "samples = torch.cat(samples).data"
   ]
  },
  {
   "cell_type": "code",
   "execution_count": 141,
   "metadata": {
    "slideshow": {
     "slide_type": "skip"
    }
   },
   "outputs": [
    {
     "data": {
      "image/png": "[encoded data removed]",
      "text/plain": [
       "<Figure size 432x216 with 1 Axes>"
      ]
     },
     "metadata": {
      "needs_background": "light"
     },
     "output_type": "display_data"
    }
   ],
   "source": [
    "# plot\n",
    "fig = plt.figure(figsize=(6, 3))\n",
    "plt.plot(x[:400], theta[:400], 'go', alpha=0.5, markerfacecolor='none')\n",
    "plt.plot(x_test, samples.squeeze().detach(), 'ro', linewidth=3.0)\n",
    "plt.xlabel('x')\n",
    "plt.ylabel('t')\n",
    "plt.savefig(\"figures/cde_fitted_inv_samples.png\", dpi=200, bbox_inches=\"tight\")\n",
    "plt.show()"
   ]
  },
  {
   "cell_type": "markdown",
   "metadata": {
    "slideshow": {
     "slide_type": "fragment"
    }
   },
   "source": [
    "<img src=\"figures/cde_fitted_inv_samples.png\" alt=\"drawing\" width=\"500\"/>"
   ]
  },
  {
   "cell_type": "markdown",
   "metadata": {
    "slideshow": {
     "slide_type": "slide"
    },
    "tags": []
   },
   "source": [
    "# Mixture Density Networks\n",
    "\n",
    "<img src=\"./figures/architecture.png\" alt=\"drawing\" width=\"600\"/>\n",
    "\n",
    "The loss is now the probability under this mixture of Gaussians  <br/>\n",
    "\n",
    "$\\mathcal{L} = -\\sum_i \\log q(\\theta_i) = -\\sum_i \\log \\sum_j \\alpha_{j,i} \\mathcal{N}(\\theta_i; \\mu_{j,i}, \\sigma_{j,i})$  <br/>\n",
    "\n",
    "We learn the mixture components $\\alpha_j$, the means $\\mu_j$, and the variances $\\sigma_j$."
   ]
  },
  {
   "cell_type": "code",
   "execution_count": 142,
   "metadata": {
    "slideshow": {
     "slide_type": "skip"
    }
   },
   "outputs": [],
   "source": [
    "class MultivariateGaussianMDN(nn.Module):\n",
    "    \"\"\"\n",
    "    For a documented version of this code, see: \n",
    "    https://github.com/mackelab/pyknos/blob/main/pyknos/mdn/mdn.py\n",
    "    \"\"\"\n",
    "\n",
    "    def __init__(\n",
    "        self,\n",
    "        features,\n",
    "        hidden_net,\n",
    "        num_components,\n",
    "        hidden_features,\n",
    "    ):\n",
    "\n",
    "        super().__init__()\n",
    "\n",
    "        self._features = features\n",
    "        self._num_components = num_components\n",
    "        \n",
    "        self._hidden_net = hidden_net\n",
    "        self._logits_layer = nn.Linear(hidden_features, num_components)\n",
    "        self._means_layer = nn.Linear(hidden_features, num_components * features)\n",
    "        self._unconstrained_diagonal_layer = nn.Linear(\n",
    "            hidden_features, num_components * features\n",
    "        )\n",
    "\n",
    "    def get_mixture_components(\n",
    "        self, context\n",
    "    ):\n",
    "        h = self._hidden_net(context)\n",
    "\n",
    "        logits = self._logits_layer(h)\n",
    "        logits = logits - torch.logsumexp(logits, dim=1).unsqueeze(1)\n",
    "        means = self._means_layer(h).view(-1, self._num_components, self._features)\n",
    "\n",
    "        log_variances = self._unconstrained_diagonal_layer(h).view(\n",
    "            -1, self._num_components, self._features\n",
    "        )\n",
    "        variances = torch.exp(log_variances)\n",
    "\n",
    "        return logits, means, variances"
   ]
  },
  {
   "cell_type": "code",
   "execution_count": 143,
   "metadata": {
    "slideshow": {
     "slide_type": "skip"
    }
   },
   "outputs": [],
   "source": [
    "def mog_log_prob(theta, logits, means, variances):\n",
    "\n",
    "    _, _, theta_dim = means.size()\n",
    "    theta = theta.view(-1, 1, theta_dim)\n",
    "\n",
    "    log_cov_det = -0.5*torch.log(torch.prod(variances, dim=2))\n",
    "\n",
    "    a = logits\n",
    "    b = -(theta_dim / 2.0) * log(2 * pi)\n",
    "    c = log_cov_det\n",
    "    d1 = theta.expand_as(means) - means\n",
    "    precisions = 1.0 / variances\n",
    "    exponent = torch.sum(d1 * precisions * d1, dim=2)\n",
    "    exponent = tensor(-0.5) * exponent\n",
    "\n",
    "    return torch.logsumexp(a + b + c + exponent, dim=-1)"
   ]
  },
  {
   "cell_type": "markdown",
   "metadata": {
    "slideshow": {
     "slide_type": "slide"
    }
   },
   "source": [
    "## Training the network"
   ]
  },
  {
   "cell_type": "code",
   "execution_count": 145,
   "metadata": {
    "slideshow": {
     "slide_type": "fragment"
    }
   },
   "outputs": [],
   "source": [
    "def mog_log_prob(theta, logits, means, variances):\n",
    "    # Evaluate the log probability of a mixture of Gaussians.\n",
    "    \n",
    "def mog_samples(logits, means, variances):\n",
    "    # Draw a sample from a mixture of Gaussians."
   ]
  },
  {
   "cell_type": "code",
   "execution_count": 146,
   "metadata": {},
   "outputs": [],
   "source": [
    "_= torch.manual_seed(1)"
   ]
  },
  {
   "cell_type": "code",
   "execution_count": 147,
   "metadata": {
    "slideshow": {
     "slide_type": "fragment"
    }
   },
   "outputs": [],
   "source": [
    "dataset = data.TensorDataset(x, theta)\n",
    "train_loader = data.DataLoader(\n",
    "    dataset, batch_size=50,\n",
    ")\n",
    "mdn = MultivariateGaussianMDN(\n",
    "    features=1,\n",
    "    hidden_net=nn.Sequential(\n",
    "        nn.Linear(1, 30),\n",
    "        nn.ReLU(),\n",
    "        nn.Linear(30, 30),\n",
    "        nn.ReLU(),\n",
    "        nn.Linear(30, 30),\n",
    "        nn.ReLU(),\n",
    "    ),\n",
    "    num_components=5,\n",
    "    hidden_features=30,\n",
    ")\n",
    "opt = optim.Adam(mdn.parameters(), lr=0.001)\n",
    "for e in range(200):\n",
    "    for x_batch, theta_batch in train_loader:\n",
    "        opt.zero_grad()\n",
    "        logits, means, variances = mdn.get_mixture_components(x_batch)\n",
    "        log_probs = mog_log_prob(theta_batch, logits, means, variances)\n",
    "        loss = -log_probs.sum()\n",
    "        loss.backward()\n",
    "        opt.step()"
   ]
  },
  {
   "cell_type": "code",
   "execution_count": 148,
   "metadata": {
    "slideshow": {
     "slide_type": "skip"
    }
   },
   "outputs": [],
   "source": [
    "def mog_sample(logits, means, variances):\n",
    "\n",
    "    coefficients = F.softmax(logits, dim=-1)\n",
    "    choices = torch.multinomial(\n",
    "        coefficients, num_samples=1, replacement=True\n",
    "    ).view(-1)\n",
    "\n",
    "    chosen_means = means[0, choices, :] # 0 for first batch position\n",
    "    chosen_variances = variances[0, choices, :]\n",
    "\n",
    "    _, _, output_dim = means.shape\n",
    "    standard_normal_samples = torch.randn(output_dim)\n",
    "    zero_mean_samples = standard_normal_samples * torch.sqrt(chosen_variances)\n",
    "    samples = chosen_means + zero_mean_samples\n",
    "\n",
    "    return samples"
   ]
  },
  {
   "cell_type": "code",
   "execution_count": 149,
   "metadata": {
    "slideshow": {
     "slide_type": "slide"
    }
   },
   "outputs": [],
   "source": [
    "samples = []\n",
    "x_test = torch.linspace(-0.1, 1.1, 500).unsqueeze(1)\n",
    "\n",
    "for single_x in x_test:\n",
    "    logits, means, variances = mdn.get_mixture_components(single_x.unsqueeze(1))\n",
    "    sample = mog_sample(logits, means, variances)\n",
    "    \n",
    "    samples.append(sample)\n",
    "samples = torch.cat(samples).data"
   ]
  },
  {
   "cell_type": "code",
   "execution_count": 150,
   "metadata": {
    "slideshow": {
     "slide_type": "skip"
    }
   },
   "outputs": [
    {
     "data": {
      "image/png": "[encoded data removed]",
      "text/plain": [
       "<Figure size 432x288 with 1 Axes>"
      ]
     },
     "metadata": {
      "needs_background": "light"
     },
     "output_type": "display_data"
    }
   ],
   "source": [
    "fig = plt.figure(figsize=(6, 4))\n",
    "plt.plot(x[:400], theta[:400], 'go', alpha=0.5, markerfacecolor='none')\n",
    "plt.plot(x_test, samples.squeeze().detach(), 'ro', linewidth=3.0)\n",
    "plt.xlabel('x')\n",
    "plt.ylabel('t')\n",
    "plt.savefig(\"figures/cde_fitted_inv_samples_mdn.png\", dpi=200, bbox_inches=\"tight\")\n",
    "plt.show()"
   ]
  },
  {
   "cell_type": "markdown",
   "metadata": {
    "slideshow": {
     "slide_type": "fragment"
    }
   },
   "source": [
    "<img src=\"figures/cde_fitted_inv_samples_mdn.png\" alt=\"drawing\" width=\"600\"/>"
   ]
  },
  {
   "cell_type": "markdown",
   "metadata": {
    "slideshow": {
     "slide_type": "slide"
    }
   },
   "source": [
    "## Summary: mixture density networks\n",
    "\n",
    "<br/>\n",
    "- Mixture density networks predict parameters of a mixture of Gaussians <br/>\n",
    "<br/>\n",
    "- Because of this, this can capture variability and multi-modality <br/>\n",
    "<br/>\n",
    "- To look at their predictions, one can either draw samples from the predicted mixture of Gaussians or evaluate the probability of the prediction"
   ]
  },
  {
   "cell_type": "markdown",
   "metadata": {
    "slideshow": {
     "slide_type": "slide"
    }
   },
   "source": [
    "# What are the limitations?\n",
    "<br/>\n",
    "- One has to decide on hyperparameters: e.g. how many components (i.e. Gaussians) will I need? <br/>\n",
    "<br/>\n",
    "- Training often does not converge perfectly. <br/>\n",
    "<br/>\n",
    "- In practice, high-dimensional distributions might not be captured perfectly even with a high number of components. <br/>"
   ]
  },
  {
   "cell_type": "markdown",
   "metadata": {
    "slideshow": {
     "slide_type": "slide"
    }
   },
   "source": [
    "# Acknowledgments\n",
    "<br/>\n",
    "<br/>\n",
    "\n",
    "Parts of the code from: https://mikedusenberry.com/mixture-density-networks  <br/>\n",
    "Code of MDNs based on Conor Durkan's `lfi` package.  <br/>\n",
    "Bishop, 1994  <br/>\n",
    "[MDN graphic](https://towardsdatascience.com/a-hitchhikers-guide-to-mixture-density-networks-76b435826cca)\n",
    "Pedro Gonçalves et al. for figure."
   ]
  }
 ],
 "metadata": {
  "celltoolbar": "Slideshow",
  "kernelspec": {
   "display_name": "Python 3 (ipykernel)",
   "language": "python",
   "name": "python3"
  },
  "language_info": {
   "codemirror_mode": {
    "name": "ipython",
    "version": 3
   },
   "file_extension": ".py",
   "mimetype": "text/x-python",
   "name": "python",
   "nbconvert_exporter": "python",
   "pygments_lexer": "ipython3",
   "version": "3.8.10"
  }
 },
 "nbformat": 4,
 "nbformat_minor": 4
}
