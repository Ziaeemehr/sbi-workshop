{
 "cells": [
  {
   "cell_type": "markdown",
   "metadata": {
    "slideshow": {
     "slide_type": "slide"
    }
   },
   "source": [
    "# Introduction to SNPE\n",
    "\n",
    "<br/>"
   ]
  },
  {
   "cell_type": "code",
   "execution_count": 1,
   "metadata": {
    "slideshow": {
     "slide_type": "skip"
    }
   },
   "outputs": [],
   "source": [
    "%load_ext autoreload\n",
    "%autoreload 2"
   ]
  },
  {
   "cell_type": "code",
   "execution_count": 2,
   "metadata": {
    "slideshow": {
     "slide_type": "skip"
    }
   },
   "outputs": [],
   "source": [
    "import sys"
   ]
  },
  {
   "cell_type": "code",
   "execution_count": 3,
   "metadata": {
    "slideshow": {
     "slide_type": "skip"
    }
   },
   "outputs": [],
   "source": [
    "sys.path.append(\"../\")\n",
    "from common import MultivariateGaussianMDN, mog_log_prob, mog_sample"
   ]
  },
  {
   "cell_type": "code",
   "execution_count": 4,
   "metadata": {
    "slideshow": {
     "slide_type": "skip"
    }
   },
   "outputs": [],
   "source": [
    "import os\n",
    "os.environ['KMP_DUPLICATE_LIB_OK']='True'"
   ]
  },
  {
   "cell_type": "code",
   "execution_count": 5,
   "metadata": {
    "slideshow": {
     "slide_type": "skip"
    }
   },
   "outputs": [],
   "source": [
    "import math\n",
    "\n",
    "import matplotlib.pyplot as plt\n",
    "import torch\n",
    "import torch.nn as nn\n",
    "import torch.nn.functional as F\n",
    "import torch.optim as optim\n",
    "from math import pi\n",
    "from torch.utils import data\n",
    "import numpy as np\n",
    "from torch import tensor, ones, zeros, eye\n",
    "from scipy.signal import argrelextrema\n",
    "from sbi.utils import pairplot\n",
    "_ = torch.manual_seed(0)"
   ]
  },
  {
   "cell_type": "code",
   "execution_count": 6,
   "metadata": {},
   "outputs": [],
   "source": [
    "from numpy import *\n",
    "from scipy import integrate"
   ]
  },
  {
   "cell_type": "markdown",
   "metadata": {
    "slideshow": {
     "slide_type": "slide"
    }
   },
   "source": [
    "### Define a simulator: Lotka-Volterra\n",
    "Code taken from: https://scipy-cookbook.readthedocs.io/items/LoktaVolterraTutorial.html\n",
    "\n",
    "du/dt = au - buv  \n",
    "dv/dt = -cv + dbu*v"
   ]
  },
  {
   "cell_type": "code",
   "execution_count": 7,
   "metadata": {
    "slideshow": {
     "slide_type": "slide"
    }
   },
   "outputs": [],
   "source": [
    "t = linspace(0, 15,  1000)      # time\n",
    "X0 = array([10, 5])             # initials conditions: 10 rabbits and 5 foxes"
   ]
  },
  {
   "cell_type": "code",
   "execution_count": 8,
   "metadata": {
    "slideshow": {
     "slide_type": "fragment"
    }
   },
   "outputs": [],
   "source": [
    "def run_model(theta):\n",
    "    a = theta[0]\n",
    "    b = theta[1]\n",
    "    c = 1.5 # theta[2]\n",
    "    d = 0.75  # theta[3]\n",
    "    def dX_dt(X, t=0):\n",
    "        return array([ a*X[0] -   b*X[0]*X[1] ,\n",
    "                      -c*X[1] + d*b*X[0]*X[1] ])\n",
    "\n",
    "    X, _ = integrate.odeint(dX_dt, X0, t, full_output=True)\n",
    "    return X"
   ]
  },
  {
   "cell_type": "code",
   "execution_count": 9,
   "metadata": {
    "slideshow": {
     "slide_type": "fragment"
    }
   },
   "outputs": [],
   "source": [
    "X = run_model([1.0, 0.1])"
   ]
  },
  {
   "cell_type": "code",
   "execution_count": 10,
   "metadata": {
    "slideshow": {
     "slide_type": "skip"
    }
   },
   "outputs": [
    {
     "data": {
      "text/plain": [
       "Text(0.5, 1.0, 'Evolution of fox and rabbit populations')"
      ]
     },
     "execution_count": 10,
     "metadata": {},
     "output_type": "execute_result"
    },
    {
     "data": {
      "image/png": "[encoded data removed]",
      "text/plain": [
       "<Figure size 432x216 with 1 Axes>"
      ]
     },
     "metadata": {
      "needs_background": "light"
     },
     "output_type": "display_data"
    }
   ],
   "source": [
    "rabbits, foxes = X.T\n",
    "f1 = plt.subplots(1, 1, figsize=(6, 3))\n",
    "plt.plot(t, rabbits, 'r-', label='Rabbits')\n",
    "plt.plot(t, foxes  , 'b-', label='Foxes')\n",
    "plt.grid()\n",
    "plt.legend(loc='best')\n",
    "plt.xlabel('time')\n",
    "plt.ylabel('population')\n",
    "plt.title('Evolution of fox and rabbit populations')"
   ]
  },
  {
   "cell_type": "markdown",
   "metadata": {
    "slideshow": {
     "slide_type": "slide"
    }
   },
   "source": [
    "# Summary statistics\n",
    "\n",
    "In principle, we can run SNPE on the raw trace (more on that later). However, it is often preferable to define summary statistics that are of interest and try reproducing only those."
   ]
  },
  {
   "cell_type": "code",
   "execution_count": 11,
   "metadata": {},
   "outputs": [],
   "source": [
    "def summary_stats(trace):\n",
    "\n",
    "    # for local maxima\n",
    "    rabbits_maxima_times = argrelextrema(trace[:, 0], np.greater)[0]\n",
    "    foxes_maxima_times = argrelextrema(trace[:, 1], np.greater)[0]\n",
    "    \n",
    "    rabbits_times_diffs = np.mean(np.diff(rabbits_maxima_times))\n",
    "    foxes_times_diffs = np.mean(np.diff(foxes_maxima_times))\n",
    "    \n",
    "    rabbits_maxima_values = trace[:, 0][rabbits_maxima_times]\n",
    "    foxes_maxima_values = trace[:, 1][foxes_maxima_times]\n",
    "    \n",
    "    rabbits_av_max_val = np.mean(rabbits_maxima_values)\n",
    "    foxes_av_max_val = np.mean(foxes_maxima_values)\n",
    "    \n",
    "    return np.asarray([np.mean([rabbits_times_diffs, foxes_times_diffs]), rabbits_av_max_val, foxes_av_max_val])"
   ]
  },
  {
   "cell_type": "code",
   "execution_count": 12,
   "metadata": {},
   "outputs": [],
   "source": [
    "def new_summstats(trace):\n",
    "#     original = summary_stats(trace)\n",
    "    new1 = [np.mean(trace[:, 0])]\n",
    "    new2 = [np.mean(trace[:, 1])]\n",
    "    new3 = [np.var(trace[:, 0])]\n",
    "    new4 = [np.var(trace[:, 1])]\n",
    "    new5 = [np.correlate(trace[:, 0], trace[:, 0], \"full\")[100]]\n",
    "    new6 = [np.correlate(trace[:, 0], trace[:, 0], \"full\")[200]]\n",
    "    new7 = [np.correlate(trace[:, 1], trace[:, 1], \"full\")[100]]\n",
    "    new8 = [np.correlate(trace[:, 1], trace[:, 1], \"full\")[200]]\n",
    "    new9 = np.correlate(trace[:, 0], trace[:, 1])\n",
    "    return np.concatenate([new1, new2, new3, new4, new5, new6, new7, new8, new9])"
   ]
  },
  {
   "cell_type": "code",
   "execution_count": 13,
   "metadata": {},
   "outputs": [],
   "source": [
    "def simulate(theta):\n",
    "    trace = run_model(theta)\n",
    "    summ_stats = new_summstats(trace)\n",
    "    return summ_stats"
   ]
  },
  {
   "cell_type": "markdown",
   "metadata": {},
   "source": [
    "### Define a prior"
   ]
  },
  {
   "cell_type": "code",
   "execution_count": 14,
   "metadata": {},
   "outputs": [],
   "source": [
    "from sbi.utils import BoxUniform\n",
    "\n",
    "N = 500\n",
    "\n",
    "l = 0.1\n",
    "u = 3.0\n",
    "lower_bound = [l, l]\n",
    "upper_bound = [u, u]\n",
    "prior = BoxUniform(lower_bound, upper_bound)"
   ]
  },
  {
   "cell_type": "markdown",
   "metadata": {},
   "source": [
    "### Generate simulated data"
   ]
  },
  {
   "cell_type": "code",
   "execution_count": 15,
   "metadata": {},
   "outputs": [],
   "source": [
    "thetas = prior.sample((N,))\n",
    "xs = []\n",
    "for theta in thetas:\n",
    "    xs.append(simulate(theta))\n",
    "xs = np.stack(xs)"
   ]
  },
  {
   "cell_type": "code",
   "execution_count": 16,
   "metadata": {},
   "outputs": [],
   "source": [
    "xs_mean = np.nanmean(xs, axis=0)\n",
    "xs_std = np.nanstd(xs, axis=0)\n",
    "\n",
    "xs_zscored = (xs - xs_mean) / xs_std\n",
    "\n",
    "theta_mean = torch.mean(thetas, dim=0)\n",
    "theta_std = torch.std(theta, dim=0)\n",
    "theta_zscored = (thetas - theta_mean) / theta_std"
   ]
  },
  {
   "cell_type": "code",
   "execution_count": 17,
   "metadata": {},
   "outputs": [],
   "source": [
    "contains_no_nan = np.invert(np.any(np.isnan(xs_zscored), axis=1))\n",
    "thetas_train = theta_zscored[contains_no_nan]\n",
    "xs_train = xs_zscored[contains_no_nan]\n",
    "\n",
    "xs_torch = torch.as_tensor(xs_train, dtype=torch.float32)"
   ]
  },
  {
   "cell_type": "markdown",
   "metadata": {},
   "source": [
    "# Exercise 1: Train neural network to learn $p(\\theta | x)$"
   ]
  },
  {
   "cell_type": "code",
   "execution_count": 21,
   "metadata": {
    "scrolled": true,
    "slideshow": {
     "slide_type": "slide"
    }
   },
   "outputs": [],
   "source": [
    "dataset = data.TensorDataset(thetas_train, xs_torch)\n",
    "train_loader = data.DataLoader(\n",
    "    dataset, batch_size=50,\n",
    ")\n",
    "mdn = MultivariateGaussianMDN(\n",
    "    features=2,\n",
    "    hidden_net=nn.Sequential(\n",
    "        nn.Linear(9, 10),\n",
    "        nn.ReLU(),\n",
    "        nn.Linear(10, 10),\n",
    "        nn.ReLU(),\n",
    "        nn.Linear(10, 10),\n",
    "        nn.ReLU(),\n",
    "    ),\n",
    "    num_components=1,\n",
    "    hidden_features=10,\n",
    ")\n",
    "\n",
    "opt = optim.Adam(mdn.parameters(), lr=0.001)\n",
    "for e in range(500):\n",
    "    for theta_batch, x_batch in train_loader:\n",
    "        opt.zero_grad()\n",
    "        logits, means, variances = mdn.get_mixture_components(x_batch)\n",
    "        out = mog_log_prob(theta_batch, logits, means, variances)\n",
    "        loss = -out.sum()\n",
    "        loss.backward()\n",
    "        opt.step()"
   ]
  },
  {
   "cell_type": "code",
   "execution_count": 22,
   "metadata": {},
   "outputs": [
    {
     "data": {
      "text/plain": [
       "[<matplotlib.lines.Line2D at 0x7f2495e61ac0>]"
      ]
     },
     "execution_count": 22,
     "metadata": {},
     "output_type": "execute_result"
    },
    {
     "data": {
      "image/png": "[encoded data removed]",
      "text/plain": [
       "<Figure size 432x288 with 1 Axes>"
      ]
     },
     "metadata": {
      "needs_background": "light"
     },
     "output_type": "display_data"
    }
   ],
   "source": [
    "plt.plot(losses)"
   ]
  },
  {
   "cell_type": "markdown",
   "metadata": {},
   "source": [
    "### Define an observation"
   ]
  },
  {
   "cell_type": "code",
   "execution_count": 100,
   "metadata": {},
   "outputs": [],
   "source": [
    "gt = [1.0, 0.3]\n",
    "xo = simulate(gt)\n",
    "\n",
    "xo_zscored = (xo - xs_mean) / xs_std\n",
    "xo_torch = torch.as_tensor([xo_zscored], dtype=torch.float32)"
   ]
  },
  {
   "cell_type": "markdown",
   "metadata": {},
   "source": [
    "### Draw samples from posterior"
   ]
  },
  {
   "cell_type": "code",
   "execution_count": 101,
   "metadata": {},
   "outputs": [],
   "source": [
    "n = 500\n",
    "\n",
    "logits, means, variances = mdn.get_mixture_components(xo_torch)\n",
    "\n",
    "samples = []\n",
    "for _ in range(n):\n",
    "    samples.append(mog_sample(logits, means, variances))"
   ]
  },
  {
   "cell_type": "code",
   "execution_count": 102,
   "metadata": {},
   "outputs": [],
   "source": [
    "samples = torch.cat(samples).detach()\n",
    "samples = samples * theta_std + theta_mean"
   ]
  },
  {
   "cell_type": "code",
   "execution_count": 103,
   "metadata": {},
   "outputs": [
    {
     "name": "stderr",
     "output_type": "stream",
     "text": [
      "/home/michael/Documents/sbi/sbi/utils/plot.py:188: UserWarning: Importing `pairplot` from `sbi.utils` is deprecated since sbi v0.15.0. Instead, use `from sbi.analysis import pairplot`.\n",
      "  warn(\n"
     ]
    },
    {
     "data": {
      "image/png": "[encoded data removed]",
      "text/plain": [
       "<Figure size 360x360 with 4 Axes>"
      ]
     },
     "metadata": {
      "needs_background": "light"
     },
     "output_type": "display_data"
    }
   ],
   "source": [
    "_ = pairplot(samples, limits=np.asarray([lower_bound, upper_bound]).T, points=[gt], figsize=(5, 5))"
   ]
  },
  {
   "cell_type": "markdown",
   "metadata": {},
   "source": [
    "### Posterior predictive checks"
   ]
  },
  {
   "cell_type": "code",
   "execution_count": 104,
   "metadata": {},
   "outputs": [],
   "source": [
    "gt_simulation = run_model(gt)\n",
    "rabbits, foxes = gt_simulation.T\n",
    "\n",
    "posterior_simulation = run_model(samples[0])\n",
    "rabbits, foxes = posterior_simulation.T"
   ]
  },
  {
   "cell_type": "code",
   "execution_count": 105,
   "metadata": {},
   "outputs": [
    {
     "data": {
      "text/plain": [
       "Text(0.5, 1.0, 'Posterior sample')"
      ]
     },
     "execution_count": 105,
     "metadata": {},
     "output_type": "execute_result"
    },
    {
     "data": {
      "image/png": "[encoded data removed]",
      "text/plain": [
       "<Figure size 720x216 with 2 Axes>"
      ]
     },
     "metadata": {
      "needs_background": "light"
     },
     "output_type": "display_data"
    }
   ],
   "source": [
    "fig, ax = plt.subplots(1, 2, figsize=(10, 3))\n",
    "ax[0].plot(t, rabbits, 'r-', label='Rabbits')\n",
    "ax[0].plot(t, foxes  , 'b-', label='Foxes')\n",
    "ax[0].grid()\n",
    "ax[0].legend(loc='best')\n",
    "ax[0].set_xlabel('time')\n",
    "ax[0].set_ylabel('population')\n",
    "ax[0].set_title(\"Observation\")\n",
    "\n",
    "ax[1].plot(t, rabbits, 'r-', label='Rabbits')\n",
    "ax[1].plot(t, foxes  , 'b-', label='Foxes')\n",
    "ax[1].grid()\n",
    "ax[1].legend(loc='best')\n",
    "ax[1].set_xlabel('time')\n",
    "ax[1].set_ylabel('population')\n",
    "ax[1].set_title(\"Posterior sample\")"
   ]
  },
  {
   "cell_type": "markdown",
   "metadata": {},
   "source": [
    "# Exercise 2: Test amortization for a few different xo"
   ]
  },
  {
   "cell_type": "markdown",
   "metadata": {},
   "source": [
    "### Amortization"
   ]
  },
  {
   "cell_type": "code",
   "execution_count": 106,
   "metadata": {},
   "outputs": [],
   "source": [
    "gt2 = [2.0, 1.3]\n",
    "xo2 = simulate(gt2)\n",
    "\n",
    "xo_zscored2 = (xo2 - xs_mean) / xs_std\n",
    "xo_torch2 = torch.as_tensor([xo_zscored2], dtype=torch.float32)"
   ]
  },
  {
   "cell_type": "code",
   "execution_count": 107,
   "metadata": {},
   "outputs": [],
   "source": [
    "logits, means, variances = mdn.get_mixture_components(xo_torch2)\n",
    "\n",
    "samples = []\n",
    "for _ in range(n):\n",
    "    samples.append(mog_sample(logits, means, variances)) \n",
    "\n",
    "samples = torch.cat(samples).detach()"
   ]
  },
  {
   "cell_type": "code",
   "execution_count": 108,
   "metadata": {},
   "outputs": [],
   "source": [
    "samples = samples * theta_std + theta_mean"
   ]
  },
  {
   "cell_type": "code",
   "execution_count": 109,
   "metadata": {},
   "outputs": [
    {
     "name": "stderr",
     "output_type": "stream",
     "text": [
      "/home/michael/Documents/sbi/sbi/utils/plot.py:188: UserWarning: Importing `pairplot` from `sbi.utils` is deprecated since sbi v0.15.0. Instead, use `from sbi.analysis import pairplot`.\n",
      "  warn(\n"
     ]
    },
    {
     "data": {
      "image/png": "[encoded data removed]",
      "text/plain": [
       "<Figure size 360x360 with 4 Axes>"
      ]
     },
     "metadata": {
      "needs_background": "light"
     },
     "output_type": "display_data"
    }
   ],
   "source": [
    "_ = pairplot(samples, limits=np.asarray([lower_bound, upper_bound]).T, points=[gt2], figsize=(5, 5))"
   ]
  },
  {
   "cell_type": "code",
   "execution_count": 110,
   "metadata": {},
   "outputs": [],
   "source": [
    "gt_simulation = run_model(gt2)\n",
    "rabbits, foxes = gt_simulation.T\n",
    "\n",
    "posterior_simulation = run_model(samples[0])\n",
    "rabbits, foxes = posterior_simulation.T"
   ]
  },
  {
   "cell_type": "code",
   "execution_count": 111,
   "metadata": {},
   "outputs": [
    {
     "data": {
      "text/plain": [
       "Text(0.5, 1.0, 'Posterior sample')"
      ]
     },
     "execution_count": 111,
     "metadata": {},
     "output_type": "execute_result"
    },
    {
     "data": {
      "image/png": "[encoded data removed]",
      "text/plain": [
       "<Figure size 720x216 with 2 Axes>"
      ]
     },
     "metadata": {
      "needs_background": "light"
     },
     "output_type": "display_data"
    }
   ],
   "source": [
    "fig, ax = plt.subplots(1, 2, figsize=(10, 3))\n",
    "ax[0].plot(t, rabbits, 'r-', label='Rabbits')\n",
    "ax[0].plot(t, foxes  , 'b-', label='Foxes')\n",
    "ax[0].grid()\n",
    "ax[0].legend(loc='best')\n",
    "ax[0].set_xlabel('time')\n",
    "ax[0].set_ylabel('population')\n",
    "ax[0].set_title(\"Observation\")\n",
    "\n",
    "posterior_simulation = run_model(samples[0])\n",
    "rabbits, foxes = posterior_simulation.T\n",
    "ax[1].plot(t, rabbits, 'r-', label='Rabbits')\n",
    "ax[1].plot(t, foxes  , 'b-', label='Foxes')\n",
    "ax[1].grid()\n",
    "ax[1].legend(loc='best')\n",
    "ax[1].set_xlabel('time')\n",
    "ax[1].set_ylabel('population')\n",
    "ax[1].set_title(\"Posterior sample\")"
   ]
  },
  {
   "cell_type": "markdown",
   "metadata": {},
   "source": [
    "# Embedding network"
   ]
  },
  {
   "cell_type": "markdown",
   "metadata": {},
   "source": [
    "One can pass the simulated data $x$ through **any** neural network before regressing on the Mixture Parameters (e.g. CNN, LSTM, GNN,...)"
   ]
  },
  {
   "cell_type": "markdown",
   "metadata": {},
   "source": [
    "### Mixture Density Networks\n",
    "\n",
    "<img src=\"../01_density_estimation/figures/architecture.png\" alt=\"drawing\" width=\"600\"/>\n",
    "\n",
    "The loss is now the probability under this mixture of Gaussians  <br/>\n",
    "\n",
    "$L = -\\sum_i \\log p(t_i) = -\\sum_i \\log \\sum_j \\alpha_{j,i} N(t_i; \\mu_{j,i}, \\sigma_{j,i})$  <br/>\n",
    "\n",
    "We learn the mixture components $\\alpha_j$, the means $\\mu_j$, and the variances $\\sigma_j$."
   ]
  },
  {
   "cell_type": "markdown",
   "metadata": {},
   "source": [
    "# Example from Neuroscience\n",
    "\n",
    "At this point, we should maybe add a HH example.\n",
    "\n",
    "Try to predict membrane conductances (Sodium and Potassium) from observed voltage trace (left). Ground truth in yellow, the prediction of the MDN in red.\n",
    "\n",
    "<img src=\"../01_density_estimation/figures/full_HH_fig.png\" alt=\"drawing\" width=\"600\"/>\n",
    "\n",
    "Picture credit to Pedro Gonçalves et al., Cosyne 2017"
   ]
  },
  {
   "cell_type": "markdown",
   "metadata": {},
   "source": [
    "# Focused (multi-round) inference"
   ]
  },
  {
   "cell_type": "markdown",
   "metadata": {},
   "source": [
    "Not really sure what to say here yet..."
   ]
  },
  {
   "cell_type": "code",
   "execution_count": null,
   "metadata": {},
   "outputs": [],
   "source": []
  }
 ],
 "metadata": {
  "kernelspec": {
   "display_name": "Python 3 (ipykernel)",
   "language": "python",
   "name": "python3"
  },
  "language_info": {
   "codemirror_mode": {
    "name": "ipython",
    "version": 3
   },
   "file_extension": ".py",
   "mimetype": "text/x-python",
   "name": "python",
   "nbconvert_exporter": "python",
   "pygments_lexer": "ipython3",
   "version": "3.8.10"
  }
 },
 "nbformat": 4,
 "nbformat_minor": 4
}
