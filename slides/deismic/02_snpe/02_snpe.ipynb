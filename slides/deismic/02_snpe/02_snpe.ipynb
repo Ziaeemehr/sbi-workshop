{
 "cells": [
  {
   "cell_type": "markdown",
   "metadata": {
    "slideshow": {
     "slide_type": "slide"
    }
   },
   "source": [
    "# Introduction to SNPE\n",
    "\n",
    "<br/>"
   ]
  },
  {
   "cell_type": "code",
   "execution_count": 1,
   "metadata": {},
   "outputs": [],
   "source": [
    "%load_ext autoreload\n",
    "%autoreload 2"
   ]
  },
  {
   "cell_type": "code",
   "execution_count": 2,
   "metadata": {},
   "outputs": [],
   "source": [
    "import sys"
   ]
  },
  {
   "cell_type": "code",
   "execution_count": 3,
   "metadata": {},
   "outputs": [],
   "source": [
    "sys.path.append(\"../\")\n",
    "from common import MultivariateGaussianMDN, mog_log_prob, mog_sample"
   ]
  },
  {
   "cell_type": "code",
   "execution_count": 4,
   "metadata": {
    "slideshow": {
     "slide_type": "skip"
    }
   },
   "outputs": [],
   "source": [
    "import os\n",
    "os.environ['KMP_DUPLICATE_LIB_OK']='True'"
   ]
  },
  {
   "cell_type": "code",
   "execution_count": 90,
   "metadata": {
    "slideshow": {
     "slide_type": "skip"
    }
   },
   "outputs": [],
   "source": [
    "import math\n",
    "\n",
    "import matplotlib.pyplot as plt\n",
    "import torch\n",
    "import torch.nn as nn\n",
    "import torch.nn.functional as F\n",
    "import torch.optim as optim\n",
    "from math import pi\n",
    "from torch.utils import data\n",
    "import numpy as np\n",
    "from torch import tensor, ones, zeros, eye\n",
    "_ = torch.manual_seed(0)"
   ]
  },
  {
   "cell_type": "markdown",
   "metadata": {},
   "source": [
    "### Define a toy simulator"
   ]
  },
  {
   "cell_type": "code",
   "execution_count": 6,
   "metadata": {},
   "outputs": [],
   "source": [
    "def simulate(theta):\n",
    "    return theta + 0.3*torch.sin(2*pi*theta) + torch.rand((theta.shape[0], 1)) * 0.2 - 0.1"
   ]
  },
  {
   "cell_type": "markdown",
   "metadata": {},
   "source": [
    "### Define an observation"
   ]
  },
  {
   "cell_type": "code",
   "execution_count": 93,
   "metadata": {},
   "outputs": [],
   "source": [
    "xo = tensor([[0.9]])"
   ]
  },
  {
   "cell_type": "markdown",
   "metadata": {},
   "source": [
    "### Define a prior"
   ]
  },
  {
   "cell_type": "code",
   "execution_count": 94,
   "metadata": {},
   "outputs": [],
   "source": [
    "from torch.distributions import Normal\n",
    "\n",
    "N = 4000\n",
    "prior = Normal(0.5*ones(1), 0.3*ones(1))"
   ]
  },
  {
   "cell_type": "markdown",
   "metadata": {},
   "source": [
    "### Generate simulated data"
   ]
  },
  {
   "cell_type": "code",
   "execution_count": 95,
   "metadata": {},
   "outputs": [],
   "source": [
    "thetas = prior.sample((N,))\n",
    "xs = []\n",
    "for theta in thetas:\n",
    "    xs.append(simulate(theta))"
   ]
  },
  {
   "cell_type": "code",
   "execution_count": 96,
   "metadata": {},
   "outputs": [],
   "source": [
    "xs = torch.cat(xs)"
   ]
  },
  {
   "cell_type": "markdown",
   "metadata": {},
   "source": [
    "# Exercise 1: Train neural network to learn $p(\\theta | x)$"
   ]
  },
  {
   "cell_type": "code",
   "execution_count": 54,
   "metadata": {
    "slideshow": {
     "slide_type": "slide"
    }
   },
   "outputs": [],
   "source": [
    "dataset = data.TensorDataset(thetas, xs)\n",
    "train_loader = data.DataLoader(\n",
    "    dataset, batch_size=50,\n",
    ")\n",
    "mdn = MultivariateGaussianMDN(\n",
    "    features=1,\n",
    "    hidden_net=nn.Sequential(\n",
    "        nn.Linear(1, 30),\n",
    "        nn.ReLU(),\n",
    "        nn.Linear(30, 30),\n",
    "        nn.ReLU(),\n",
    "        nn.Linear(30, 30),\n",
    "        nn.ReLU(),\n",
    "    ),\n",
    "    num_components=5,\n",
    "\n",
    "    hidden_features=30,\n",
    ")\n",
    "opt = optim.Adam(mdn.parameters(), lr=0.001)\n",
    "for e in range(200):\n",
    "    for theta_batch, x_batch in train_loader:\n",
    "        opt.zero_grad()\n",
    "        logits, means, variances = mdn.get_mixture_components(x_batch)\n",
    "        out = mog_log_prob(theta_batch, logits, means, variances)\n",
    "        loss = -out.sum()\n",
    "        loss.backward()\n",
    "        opt.step()"
   ]
  },
  {
   "cell_type": "markdown",
   "metadata": {},
   "source": [
    "### Draw samples from posterior"
   ]
  },
  {
   "cell_type": "code",
   "execution_count": 71,
   "metadata": {},
   "outputs": [],
   "source": [
    "n = 100\n",
    "\n",
    "logits, means, variances = mdn.get_mixture_components(xo)\n",
    "\n",
    "samples = []\n",
    "for _ in range(n):\n",
    "    samples.append(mog_sample(logits, means, variances))"
   ]
  },
  {
   "cell_type": "code",
   "execution_count": 72,
   "metadata": {},
   "outputs": [],
   "source": [
    "samples = torch.cat(samples).detach()"
   ]
  },
  {
   "cell_type": "code",
   "execution_count": 73,
   "metadata": {},
   "outputs": [
    {
     "data": {
      "image/png": "[encoded data removed]",
      "text/plain": [
       "<Figure size 432x288 with 1 Axes>"
      ]
     },
     "metadata": {
      "needs_background": "light"
     },
     "output_type": "display_data"
    }
   ],
   "source": [
    "fig = plt.figure(figsize=(6, 4))\n",
    "plt.hist(thetas.numpy(), range=(-0.5, 1.5), bins=100, weights=0.2*np.ones(4000))\n",
    "plt.hist(samples.numpy(), range=(-0.5, 1.5), bins=100)\n",
    "plt.xlabel('theta')\n",
    "plt.show()"
   ]
  },
  {
   "cell_type": "markdown",
   "metadata": {},
   "source": [
    "# Exercise 2: Test amortization for a few different xo"
   ]
  },
  {
   "cell_type": "markdown",
   "metadata": {},
   "source": [
    "### Amortization"
   ]
  },
  {
   "cell_type": "code",
   "execution_count": 74,
   "metadata": {},
   "outputs": [],
   "source": [
    "xo = tensor([[0.35]])\n",
    "\n",
    "logits, means, variances = mdn.get_mixture_components(xo)\n",
    "\n",
    "samples = []\n",
    "for _ in range(n):\n",
    "    samples.append(mog_sample(logits, means, variances)) \n",
    "\n",
    "samples = torch.cat(samples).detach()"
   ]
  },
  {
   "cell_type": "code",
   "execution_count": 75,
   "metadata": {},
   "outputs": [
    {
     "data": {
      "image/png": "[encoded data removed]",
      "text/plain": [
       "<Figure size 432x288 with 1 Axes>"
      ]
     },
     "metadata": {
      "needs_background": "light"
     },
     "output_type": "display_data"
    }
   ],
   "source": [
    "fig = plt.figure(figsize=(6, 4))\n",
    "plt.hist(thetas.numpy(), range=(-0.5, 1.5), bins=100, weights=0.2*np.ones(4000))\n",
    "plt.hist(samples.numpy(), range=(-0.5, 1.5), bins=100)\n",
    "plt.xlabel('theta')\n",
    "plt.show()"
   ]
  },
  {
   "cell_type": "markdown",
   "metadata": {},
   "source": [
    "### Assessing performance via posterior predictives"
   ]
  },
  {
   "cell_type": "code",
   "execution_count": 78,
   "metadata": {},
   "outputs": [],
   "source": [
    "xo = tensor([[0.35]])\n",
    "\n",
    "logits, means, variances = mdn.get_mixture_components(xo)\n",
    "\n",
    "samples = []\n",
    "for _ in range(n):\n",
    "    samples.append(mog_sample(logits, means, variances)) \n",
    "\n",
    "samples = torch.cat(samples).detach()\n",
    "\n",
    "posterior_predictives = simulate(samples)"
   ]
  },
  {
   "cell_type": "code",
   "execution_count": 86,
   "metadata": {},
   "outputs": [
    {
     "data": {
      "image/png": "[encoded data removed]",
      "text/plain": [
       "<Figure size 432x288 with 1 Axes>"
      ]
     },
     "metadata": {
      "needs_background": "light"
     },
     "output_type": "display_data"
    }
   ],
   "source": [
    "fig = plt.figure(figsize=(6, 4))\n",
    "plt.hist(posterior_predictives[:,0].numpy(), range=(-0.5, 1.5), bins=100)\n",
    "plt.axvline(xo.numpy(), c=\"r\")\n",
    "plt.xlabel('theta')\n",
    "plt.show()"
   ]
  },
  {
   "cell_type": "markdown",
   "metadata": {},
   "source": [
    "# Exercise 3: Assess performance for a different observation"
   ]
  },
  {
   "cell_type": "code",
   "execution_count": 87,
   "metadata": {},
   "outputs": [],
   "source": [
    "xo = tensor([[0.9]])\n",
    "\n",
    "logits, means, variances = mdn.get_mixture_components(xo)\n",
    "\n",
    "samples = []\n",
    "for _ in range(n):\n",
    "    samples.append(mog_sample(logits, means, variances)) \n",
    "\n",
    "samples = torch.cat(samples).detach()\n",
    "\n",
    "posterior_predictives = simulate(samples)"
   ]
  },
  {
   "cell_type": "code",
   "execution_count": 88,
   "metadata": {},
   "outputs": [
    {
     "data": {
      "image/png": "[encoded data removed]",
      "text/plain": [
       "<Figure size 432x288 with 1 Axes>"
      ]
     },
     "metadata": {
      "needs_background": "light"
     },
     "output_type": "display_data"
    }
   ],
   "source": [
    "fig = plt.figure(figsize=(6, 4))\n",
    "plt.hist(posterior_predictives[:,0].numpy(), range=(-0.5, 1.5), bins=100)\n",
    "plt.axvline(xo.numpy(), c=\"r\")\n",
    "plt.xlabel('theta')\n",
    "plt.show()"
   ]
  },
  {
   "cell_type": "markdown",
   "metadata": {},
   "source": [
    "# Embedding network"
   ]
  },
  {
   "cell_type": "markdown",
   "metadata": {},
   "source": [
    "One can pass the simulated data $x$ through **any** neural network before regressing on the Mixture Parameters (e.g. CNN, LSTM, GNN,...)"
   ]
  },
  {
   "cell_type": "markdown",
   "metadata": {},
   "source": [
    "### Mixture Density Networks\n",
    "\n",
    "<img src=\"../01_density_estimation/figures/architecture.png\" alt=\"drawing\" width=\"600\"/>\n",
    "\n",
    "The loss is now the probability under this mixture of Gaussians  <br/>\n",
    "\n",
    "$L = -\\sum_i \\log p(t_i) = -\\sum_i \\log \\sum_j \\alpha_{j,i} N(t_i; \\mu_{j,i}, \\sigma_{j,i})$  <br/>\n",
    "\n",
    "We learn the mixture components $\\alpha_j$, the means $\\mu_j$, and the variances $\\sigma_j$."
   ]
  },
  {
   "cell_type": "markdown",
   "metadata": {},
   "source": [
    "# Example from Neuroscience\n",
    "\n",
    "At this point, we should maybe add a HH example.\n",
    "\n",
    "Try to predict membrane conductances (Sodium and Potassium) from observed voltage trace (left). Ground truth in yellow, the prediction of the MDN in red.\n",
    "\n",
    "<img src=\"../01_density_estimation/figures/full_HH_fig.png\" alt=\"drawing\" width=\"600\"/>\n",
    "\n",
    "Picture credit to Pedro Gonçalves et al., Cosyne 2017"
   ]
  },
  {
   "cell_type": "markdown",
   "metadata": {},
   "source": [
    "# Focused (multi-round) inference"
   ]
  },
  {
   "cell_type": "markdown",
   "metadata": {},
   "source": [
    "Not really sure what to say here yet..."
   ]
  },
  {
   "cell_type": "code",
   "execution_count": null,
   "metadata": {},
   "outputs": [],
   "source": []
  }
 ],
 "metadata": {
  "celltoolbar": "Slideshow",
  "kernelspec": {
   "display_name": "Python 3 (ipykernel)",
   "language": "python",
   "name": "python3"
  },
  "language_info": {
   "codemirror_mode": {
    "name": "ipython",
    "version": 3
   },
   "file_extension": ".py",
   "mimetype": "text/x-python",
   "name": "python",
   "nbconvert_exporter": "python",
   "pygments_lexer": "ipython3",
   "version": "3.8.10"
  }
 },
 "nbformat": 4,
 "nbformat_minor": 4
}
