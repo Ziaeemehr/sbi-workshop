{
 "cells": [
  {
   "cell_type": "markdown",
   "metadata": {},
   "source": [
    "### Interactive Elements\n",
    "`Interact` creates widgets that allow for interactively executable code. You can find its documentation and nice examples [here](https://ipywidgets.readthedocs.io/en/latest/examples/Using%20Interact.html). The cells below will handle basic imports and give an example on how to create an interactive widget.\n",
    "### Notebooks as Slides\n",
    "If you use `RISE`, you will find a 'Slide Type' dropdown menu in each cell's top right from which you can choose how/whether you cell should be displayed when in presentation mode. The presentation mode can be entered by clicking the button with the histogram icon on the top panel. A good introduction is given [here](https://www.blopig.com/blog/2020/10/from-jupyter-to-slides-using-rise/). Other than that, it can be treated as a regular `jupyter` notebook.\n",
    "If you want to change `RISE`'s default visual configuration, you can so by adjusting the commented out code in the first cell."
   ]
  },
  {
   "cell_type": "code",
   "execution_count": null,
   "metadata": {
    "slideshow": {
     "slide_type": "slide"
    }
   },
   "outputs": [],
   "source": [
    "# # configuration imports\n",
    "# from notebook.services.config import ConfigManager\n",
    "# from traitlets.config.manager import BaseJSONConfigManager\n",
    "# # set jupyter configurations\n",
    "# path = \"/home/USERNAME/.jupyter/nbconfig\" # path to you jupyter config file\n",
    "# cm = BaseJSONConfigManager(config_dir=path)\n",
    "# cm.update('livereveal', {\n",
    "#               'theme': 'white',\n",
    "#               'transition': 'fade',\n",
    "#               'start_slideshow_at': 'selected',\n",
    "#                 'center' : False, # disable vertical centering\n",
    "#                 'width' : 1024, # adapt to you resolution\n",
    "#                 'height': 768,   \n",
    "#                 'scroll': True,\n",
    "#                 'slideNumber': True,\n",
    "# })\n",
    "# other imports\n",
    "import numpy as np\n",
    "import torch\n",
    "import matplotlib.pyplot as plt\n",
    "from ipywidgets import interact, interactive, fixed, interact_manual\n",
    "import ipywidgets as widgets"
   ]
  },
  {
   "cell_type": "markdown",
   "metadata": {},
   "source": [
    "### Interactive Elements\n",
    "\n",
    "A simple example of an interactive element is given below. `Jupyter`'s `interactive` takes in a function and arguments as its arguments. For example, our sine wave simulator function has one argument. It also includes code for plotting. This function is executed each time the `interact` widget is interacted with."
   ]
  },
  {
   "cell_type": "code",
   "execution_count": null,
   "metadata": {},
   "outputs": [],
   "source": [
    "def wave_simulator(theta):\n",
    "    \"\"\" f(x | theta) = theta * sin(x) \"\"\"\n",
    "    xs = np.linspace(0,10,100) # x values\n",
    "    observation = theta * torch.sin(torch.Tensor(xs))  + torch.randn(len(xs)) * 0.1 # y values\n",
    "    plt.plot(observation,label=f'$\\\\theta={theta}$',color='#FF1053')\n",
    "    plt.ylim(-5, 5)\n",
    "    plt.legend()\n",
    "    plt.show()\n",
    "\n",
    "    return observation\n"
   ]
  },
  {
   "cell_type": "markdown",
   "metadata": {},
   "source": [
    "Let's create our interactive plot by calling `interactive`. Its first argument is the function, followed by its argument(s). Make sure to specify a range or default value for each argument, as shown below."
   ]
  },
  {
   "cell_type": "code",
   "execution_count": null,
   "metadata": {},
   "outputs": [],
   "source": [
    "interactive_plot = interactive(wave_simulator, theta=(-2.0, 2.0))\n",
    "interactive_plot"
   ]
  },
  {
   "cell_type": "markdown",
   "metadata": {},
   "source": [
    "These were only the very fundamentals. There is a lot more to discover and we are already excited about what you will come up with!"
   ]
  }
 ],
 "metadata": {
  "celltoolbar": "Slideshow",
  "kernelspec": {
   "display_name": "Python 3",
   "language": "python",
   "name": "python3"
  },
  "language_info": {
   "codemirror_mode": {
    "name": "ipython",
    "version": 3
   },
   "file_extension": ".py",
   "mimetype": "text/x-python",
   "name": "python",
   "nbconvert_exporter": "python",
   "pygments_lexer": "ipython3",
   "version": "3.7.10"
  }
 },
 "nbformat": 4,
 "nbformat_minor": 2
}
