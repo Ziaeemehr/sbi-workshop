{
 "cells": [
  {
   "cell_type": "markdown",
   "id": "e990f189",
   "metadata": {
    "slideshow": {
     "slide_type": "slide"
    }
   },
   "source": [
    "## Simulating Geographical Variance in Material Culture\n",
    "### Introduction\n",
    "\n",
    "<img src=\"https://upload.wikimedia.org/wikipedia/commons/2/27/Pendants%2C_Aurignacian_culture%2C_31000-24000_BC%2C_various_materials_-_Cinquantenaire_Museum_-_Brussels%2C_Belgium_-_DSC08704.jpg\" align=\"right\" alt=\"beadexample\" width=\"100\"/>\n",
    "\n",
    "- by **Mirna McTighe, Stephen Shennan, Marian Vanhaeren, Francesco d’Errico, and Mark G. Thomas**\n",
    "- different types of ornaments in artefacts\n",
    "- from Aurignacian culture in Upper Palaeolithic Europe (43,000 to 26,000 years ago)\n",
    "- different theories about cause of distribution/distinction"
   ]
  },
  {
   "cell_type": "markdown",
   "id": "a89316f5",
   "metadata": {
    "slideshow": {
     "slide_type": "slide"
    }
   },
   "source": [
    "## Simulating Geographical Variance in Material Culture\n",
    "### Hypotheses\n",
    "<img src=\"https://www.researchgate.net/profile/Stephen-Shennan/publication/283770465/figure/fig1/AS:507975723950080@1498122258156/Estimate-of-the-regional-distribution-of-the-metapopulation-of-hunter-gatherers-during.png\" align=\"right\" alt=\"map\"  width=\"200\"/>\n",
    "\n",
    "- ethno-linguistic differentiation?\n",
    "- isolation-by-distance?\n",
    "- authors simulate spatio-temporal distribution of bead ornament types with agent-based model (ABM)\n",
    "- parameters of simulators that match observations (archaeological data for Aurignacian Europe) are inferred using ABC"
   ]
  },
  {
   "cell_type": "markdown",
   "id": "d6276a35",
   "metadata": {
    "slideshow": {
     "slide_type": "slide"
    }
   },
   "source": [
    "## Simulating Geographical Variance in Material Culture\n",
    "### Simulation domain\n",
    "\n",
    "- Time period\n",
    "    - 42 Ka - 29 Ka\n",
    "    - 13000 years/520 Generations (1000 year/40 gen burn-in period), 25 years per generation\n",
    "- Geographic region\n",
    "    - longitute $\\phi =$ [-11°, 30°] (Ireland, Urals)\n",
    "    - latitude $\\lambda=$ [-35°, 60°] (North Africa, Scotland)\n",
    "        - using modern coastlines\n",
    "- Agents\n",
    "    - each cell contains group that is defined through feature vector\n"
   ]
  },
  {
   "cell_type": "markdown",
   "id": "d4b44eed",
   "metadata": {
    "slideshow": {
     "slide_type": "slide"
    }
   },
   "source": [
    "## Simulating Geographical Variance in Material Culture\n",
    "### Factors of cultural variation\n",
    "- group undergo fission/extinction processes\n",
    "- interaction between groups\n",
    "- groups move\n",
    "- mutation and drift"
   ]
  }
 ],
 "metadata": {
  "celltoolbar": "Slideshow",
  "kernelspec": {
   "display_name": "Python 3",
   "language": "python",
   "name": "python3"
  },
  "language_info": {
   "codemirror_mode": {
    "name": "ipython",
    "version": 3
   },
   "file_extension": ".py",
   "mimetype": "text/x-python",
   "name": "python",
   "nbconvert_exporter": "python",
   "pygments_lexer": "ipython3",
   "version": "3.7.10"
  }
 },
 "nbformat": 4,
 "nbformat_minor": 5
}
