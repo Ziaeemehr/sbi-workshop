{
 "cells": [
  {
   "cell_type": "code",
   "execution_count": null,
   "id": "e13ec846",
   "metadata": {
    "slideshow": {
     "slide_type": "slide"
    }
   },
   "outputs": [],
   "source": [
    "import torch\n",
    "from sbi import utils as utils\n",
    "from sbi import analysis as analysis\n",
    "from sbi.inference.base import infer\n",
    "import numpy as np\n",
    "import matplotlib.pyplot as plt\n",
    "from ipywidgets import interact, interactive, fixed, interact_manual\n",
    "import ipywidgets as widgets\n",
    "from scipy.linalg import inv\n",
    "from numpy.random import multivariate_normal\n",
    "from notebook.services.config import ConfigManager\n",
    "from traitlets.config.manager import BaseJSONConfigManager\n",
    "import matplotlib as mpl\n",
    "\n",
    "\n",
    "# set jupyter configurations\n",
    "%matplotlib inline\n",
    "%config InlineBackend.figure_format='retina'\n",
    "default_dpi = mpl.rcParamsDefault['figure.dpi']\n",
    "mpl.rcParams['figure.dpi'] = default_dpi*1.2\n",
    "\n",
    "# the commented out configuration code below enables scrolling in slide mode\n",
    "# TODO figure out a clean way to do this\n",
    "# path = \"/home/stefan/.jupyter/nbconfig\" # update with your path\n",
    "# cm = BaseJSONConfigManager(config_dir=path)\n",
    "# cm.update('livereveal', {\n",
    "#               'theme': 'white',\n",
    "#               'transition': 'fade',\n",
    "#               'start_slideshow_at': 'selected',\n",
    "#                 'center' : False,\n",
    "#                 'width' : 1024,\n",
    "#                 'height': 768,   \n",
    "#                 'scroll': True,\n",
    "#                 'slideNumber': True,\n",
    "# })\n",
    "\n",
    "# set global variables\n",
    "gt_color = 'r'\n",
    "data_color = '#0000FF'\n",
    "linreg_color = '#519872'\n",
    "sbi_color  = '#DE1A1A'\n",
    "\n",
    "domain = np.linspace(0,1,11)\n",
    "SIGMA = 0.3"
   ]
  },
  {
   "cell_type": "code",
   "execution_count": null,
   "id": "d7673861",
   "metadata": {
    "slideshow": {
     "slide_type": "slide"
    }
   },
   "outputs": [],
   "source": [
    "def quadratic(intercept, gain, curvature, sample=False):\n",
    "    \"\"\" Generate a quadratic polynomial for use with interactive widget. \"\"\"\n",
    "    theta = np.array([intercept, gain, curvature])\n",
    "    y = torch.Tensor(np.array([domain**0, domain**1, domain**2]).T) @ theta\n",
    "    samples = y + np.random.randn(domain.shape[0]) * SIGMA\n",
    "    \n",
    "    plt.plot(domain, y,label=f'Ground truth: $f_x={theta[0]} + {theta[1]}x + {theta[2]}x^2$',color=gt_color)\n",
    "    if sample:\n",
    "        plt.scatter(domain, samples, label='Samples', marker='x', color=data_color)\n",
    "    plt.ylim(-1.2, 1.2)\n",
    "    plt.xlabel('$x$')\n",
    "    plt.ylabel('$f_x$')\n",
    "    plt.legend()\n",
    "    plt.show()\n",
    "    \n",
    "    return {\n",
    "        'param':[intercept, gain, curvature],\n",
    "        'y': y,\n",
    "        'samples':samples\n",
    "    }"
   ]
  },
  {
   "cell_type": "markdown",
   "id": "5814d119",
   "metadata": {
    "slideshow": {
     "slide_type": "subslide"
    }
   },
   "source": [
    "- Ground truth function with unknown parameters\n",
    "- Sampling is only possible with measurement noise $\\sigma^2=0.3$\n",
    "- Let's have a look at the function"
   ]
  },
  {
   "cell_type": "code",
   "execution_count": null,
   "id": "b975e456",
   "metadata": {
    "slideshow": {
     "slide_type": "slide"
    }
   },
   "outputs": [],
   "source": [
    "ground_truth = interactive(quadratic, intercept=(-1.,1.), gain=(-0.2, 0.2), curvature=(-2.,2.), sample=False, plot=True)\n",
    "ground_truth "
   ]
  },
  {
   "cell_type": "markdown",
   "id": "ec0343e5",
   "metadata": {
    "slideshow": {
     "slide_type": "subslide"
    }
   },
   "source": [
    "- We desperately want to know the parameters of the original function\n",
    "- It looks suspiciously like a quadratic polynomal $f(x) = ax^2 + bx + c$, so let's assume it is\n",
    "- But we need to find out the weights $a$, $b$, and $c$\n",
    "- How could we find those out?\n",
    "\n",
    "🛠️ Idea for a practical: Use any method you like to find out parameters and see who gets the closest 🛠️"
   ]
  },
  {
   "cell_type": "markdown",
   "id": "80ca2196",
   "metadata": {
    "slideshow": {
     "slide_type": "slide"
    }
   },
   "source": [
    "- Let's try linear regression"
   ]
  },
  {
   "cell_type": "code",
   "execution_count": null,
   "id": "41cf96b0",
   "metadata": {
    "slideshow": {
     "slide_type": "-"
    }
   },
   "outputs": [],
   "source": [
    "# get data from ground truth\n",
    "ground_truth_param = np.array(ground_truth.result['param'])\n",
    "data = ground_truth.result['samples']\n",
    "\n",
    "# linear regression baseline\n",
    "features = np.array([domain**0, domain**1, domain**2]).T\n",
    "linreg_param = inv(features.T @ features).dot(features.T @ data.numpy())\n",
    "linreg_reconstruction = features @ linreg_param\n",
    "# and compute error\n",
    "precicion_matrix = np.array([[(features[:,i]*features[:,j]).sum()/SIGMA**2 for i in range(3)] for j in range(3)])\n",
    "linreg_covariance = inv(precicion_matrix)\n",
    "linreg_error = np.diag(linreg_covariance)**0.5"
   ]
  },
  {
   "cell_type": "code",
   "execution_count": null,
   "id": "542714d1",
   "metadata": {
    "slideshow": {
     "slide_type": "subslide"
    }
   },
   "outputs": [],
   "source": [
    "# plotting\n",
    "plt.plot(domain, linreg_reconstruction, 'k', label = 'Linear regression', color=linreg_color)\n",
    "plt.scatter(domain, data, marker='x', label='Samples', color=data_color)\n",
    "plt.plot(domain,ground_truth.result['y'], 'r:',color=gt_color, alpha=0.3, label='Ground truth')\n",
    "plt.legend()\n",
    "plt.ylim(-1.2, 1.2)\n",
    "plt.xlabel('$x$')\n",
    "plt.ylabel('$f_x$')\n",
    "plt.show()"
   ]
  },
  {
   "cell_type": "markdown",
   "id": "5feb5b87",
   "metadata": {
    "slideshow": {
     "slide_type": "slide"
    }
   },
   "source": [
    "- But this is a Simulation-based Inference workshop\n",
    "- Couldn't we also build a simulator that models interesting polynomials like this? "
   ]
  },
  {
   "cell_type": "code",
   "execution_count": null,
   "id": "5995a4c0",
   "metadata": {
    "slideshow": {
     "slide_type": "-"
    }
   },
   "outputs": [],
   "source": [
    "def quadratic_simulator(param, domain = np.linspace(0, 1, 11), noise_std=SIGMA):\n",
    "    \"\"\" Given parameters, return a quadratic polynomial. \"\"\"\n",
    "    transformed_domain = torch.Tensor(np.array([domain**0, domain**1, domain**2]).T)\n",
    "    noise = torch.randn(domain.shape[0]) * noise_std\n",
    "    \n",
    "    return transformed_domain @ torch.Tensor(param) + noise\n",
    "\n"
   ]
  },
  {
   "cell_type": "markdown",
   "id": "30a7df89",
   "metadata": {
    "slideshow": {
     "slide_type": "slide"
    }
   },
   "source": [
    "- How can we use this simulator? \n",
    "- Simply try out different parameter combinations until we find a one that produces a result similar to our data?\n",
    "- Or, we could use the `sbi` toolbox."
   ]
  },
  {
   "cell_type": "code",
   "execution_count": null,
   "id": "15125a7f",
   "metadata": {
    "slideshow": {
     "slide_type": "-"
    }
   },
   "outputs": [],
   "source": [
    "# perform simulation based inference using a uniform prior and our simulator as likelihood\n",
    "prior = utils.BoxUniform(low=-2*torch.ones(3), high=2*torch.ones(3))\n",
    "posterior = infer(quadratic_simulator, prior, method='SNPE', num_simulations=300)"
   ]
  },
  {
   "cell_type": "code",
   "execution_count": null,
   "id": "e7b0e201",
   "metadata": {
    "slideshow": {
     "slide_type": "slide"
    }
   },
   "outputs": [],
   "source": [
    "# sample from our posterior over parameters\n",
    "sample = posterior.sample((10000,), x=data)\n",
    "sbi_param = sample.mean(dim =0).numpy()\n",
    "sbi_reconstruction = features @ sbi_param\n",
    "\n",
    "# plotting\n",
    "plt.plot(domain, sbi_reconstruction, 'k', label = 'SBI', color=sbi_color)\n",
    "plt.plot(domain, linreg_reconstruction, label='Linear Regression', color=linreg_color)\n",
    "plt.scatter(domain, data, marker='x', label='Samples', color=data_color)\n",
    "plt.plot(domain,ground_truth.result['y'], 'r:',color=gt_color, alpha=0.3, label='Ground truth')\n",
    "plt.legend()\n",
    "plt.xlabel('$x$')\n",
    "plt.ylabel('$f_x$')\n",
    "plt.ylim(-1.2, 1.2)\n",
    "plt.show()"
   ]
  },
  {
   "cell_type": "markdown",
   "id": "b0a3c7b1",
   "metadata": {
    "slideshow": {
     "slide_type": "slide"
    }
   },
   "source": [
    "Let's have a closer look at the parameters predicted by linear regression and SBI respectively."
   ]
  },
  {
   "cell_type": "code",
   "execution_count": null,
   "id": "14708147",
   "metadata": {
    "slideshow": {
     "slide_type": "-"
    }
   },
   "outputs": [],
   "source": [
    "# linreg\n",
    "linreg_samples = multivariate_normal(linreg_param, linreg_covariance, size=10000)\n",
    "fig, axes = analysis.pairplot(linreg_samples,\n",
    "                           points=ground_truth_param,\n",
    "                           points_offdiag={'markersize': 12},\n",
    "                           points_colors='r',\n",
    "                           title='Linear Regression',\n",
    "                           figsize=(6,6))\n",
    "\n",
    "\n",
    "# sbi\n",
    "_ = analysis.pairplot(sample,\n",
    "                      points=ground_truth_param,\n",
    "                      points_offdiag={'markersize': 12},\n",
    "                      points_colors='r',\n",
    "                      title='SBI',\n",
    "                      figsize=(6,6))"
   ]
  }
 ],
 "metadata": {
  "celltoolbar": "Slideshow",
  "kernelspec": {
   "display_name": "Python 3",
   "language": "python",
   "name": "python3"
  },
  "language_info": {
   "codemirror_mode": {
    "name": "ipython",
    "version": 3
   },
   "file_extension": ".py",
   "mimetype": "text/x-python",
   "name": "python",
   "nbconvert_exporter": "python",
   "pygments_lexer": "ipython3",
   "version": "3.7.10"
  }
 },
 "nbformat": 4,
 "nbformat_minor": 5
}
