{
 "cells": [
  {
   "cell_type": "markdown",
   "metadata": {
    "slideshow": {
     "slide_type": "slide"
    }
   },
   "source": [
    "# Introduction to Conditional Density Estimation\n",
    "\n",
    "<br/>\n",
    "\n",
    "Please open `2_1_cde_participants.ipynb`."
   ]
  },
  {
   "cell_type": "code",
   "execution_count": 1,
   "metadata": {
    "slideshow": {
     "slide_type": "skip"
    }
   },
   "outputs": [],
   "source": [
    "import os\n",
    "os.environ['KMP_DUPLICATE_LIB_OK']='True'"
   ]
  },
  {
   "cell_type": "code",
   "execution_count": 2,
   "metadata": {
    "slideshow": {
     "slide_type": "skip"
    }
   },
   "outputs": [],
   "source": [
    "import math\n",
    "\n",
    "import matplotlib.pyplot as plt\n",
    "import torch\n",
    "import torch.nn as nn\n",
    "import torch.nn.functional as F\n",
    "import torch.optim as optim\n",
    "from math import pi, log\n",
    "from torch.utils import data\n",
    "import numpy as np\n",
    "from torch import tensor\n",
    "from torch.distributions import Normal\n",
    "import matplotlib as mpl"
   ]
  },
  {
   "cell_type": "code",
   "execution_count": 3,
   "metadata": {
    "slideshow": {
     "slide_type": "skip"
    }
   },
   "outputs": [],
   "source": [
    "_ = torch.manual_seed(0)"
   ]
  },
  {
   "cell_type": "markdown",
   "metadata": {
    "slideshow": {
     "slide_type": "slide"
    }
   },
   "source": [
    "# A very brief intro to PyTorch\n",
    "\n",
    "Say we are given some data that looks as follows:"
   ]
  },
  {
   "cell_type": "code",
   "execution_count": 6,
   "metadata": {
    "slideshow": {
     "slide_type": "skip"
    }
   },
   "outputs": [
    {
     "data": {
      "image/png": "[encoded data removed]",
      "text/plain": [
       "<Figure size 450x220 with 1 Axes>"
      ]
     },
     "metadata": {},
     "output_type": "display_data"
    }
   ],
   "source": [
    "n = 200  # number of datapoints\n",
    "d = 1  # dimensionality of parameter space theta\n",
    "\n",
    "theta = torch.rand((n, d))  # uniform\n",
    "\n",
    "noise = torch.randn((n, d)) * 0.05\n",
    "x = theta + 0.3*torch.sin(2*pi*theta) + noise\n",
    "\n",
    "# Data t_train and x_train\n",
    "with mpl.rc_context(fname=\".matplotlibrc\"):\n",
    "    fig = plt.figure(figsize=(4.5, 2.2))\n",
    "    plt.plot(theta[:400], x[:400], 'go', alpha=0.4, markerfacecolor='none')\n",
    "    plt.xlabel(r'$\\theta$')\n",
    "    plt.ylabel('x')\n",
    "    plt.savefig(\"figures/2_1_cde/cde_samples_few.png\", dpi=200, bbox_inches=\"tight\")\n",
    "    plt.show()"
   ]
  },
  {
   "cell_type": "markdown",
   "metadata": {
    "slideshow": {
     "slide_type": "fragment"
    }
   },
   "source": [
    "<img src=\"figures/2_1_cde/cde_samples_few.png\" alt=\"drawing\" width=\"900\"/>  "
   ]
  },
  {
   "cell_type": "markdown",
   "metadata": {
    "slideshow": {
     "slide_type": "fragment"
    }
   },
   "source": [
    "We want to train a neural network to predict $x$ from $\\theta$."
   ]
  },
  {
   "cell_type": "markdown",
   "metadata": {
    "slideshow": {
     "slide_type": "slide"
    }
   },
   "source": [
    "<img src=\"figures/2_1_cde/neural_net_illustration.png\" alt=\"drawing\" width=\"1200\"/> \n",
    "\n",
    "Taken from https://texample.net/tikz/examples/neural-network/"
   ]
  },
  {
   "cell_type": "markdown",
   "metadata": {
    "slideshow": {
     "slide_type": "slide"
    }
   },
   "source": [
    "First, let's define our dataset:"
   ]
  },
  {
   "cell_type": "code",
   "execution_count": 5,
   "metadata": {
    "slideshow": {
     "slide_type": "fragment"
    }
   },
   "outputs": [],
   "source": [
    "dataset = data.TensorDataset(theta, x)\n",
    "train_loader = data.DataLoader(dataset, batch_size=20)"
   ]
  },
  {
   "cell_type": "markdown",
   "metadata": {
    "slideshow": {
     "slide_type": "fragment"
    }
   },
   "source": [
    "Then, we build a neural network. The weights of this network will be optimized:"
   ]
  },
  {
   "cell_type": "code",
   "execution_count": 6,
   "metadata": {
    "slideshow": {
     "slide_type": "fragment"
    }
   },
   "outputs": [],
   "source": [
    "net = nn.Sequential(\n",
    "    nn.Linear(1, 20), nn.ReLU(),\n",
    "    nn.Linear(20, 20), nn.ReLU(),\n",
    "    nn.Linear(20, 1))"
   ]
  },
  {
   "cell_type": "markdown",
   "metadata": {
    "slideshow": {
     "slide_type": "fragment"
    }
   },
   "source": [
    "We define an optimizer which optimizes the weights (e.g. with gradient descent):"
   ]
  },
  {
   "cell_type": "code",
   "execution_count": 7,
   "metadata": {
    "slideshow": {
     "slide_type": "fragment"
    }
   },
   "outputs": [],
   "source": [
    "opt = optim.Adam(net.parameters(), lr=0.01)"
   ]
  },
  {
   "cell_type": "markdown",
   "metadata": {
    "slideshow": {
     "slide_type": "fragment"
    }
   },
   "source": [
    "Finally, we build a training loop where we optimize the weights with a Mean-Squared error loss:"
   ]
  },
  {
   "cell_type": "code",
   "execution_count": 8,
   "metadata": {
    "slideshow": {
     "slide_type": "fragment"
    }
   },
   "outputs": [],
   "source": [
    "for e in range(1000):\n",
    "    for theta_batch, x_batch in train_loader:\n",
    "        opt.zero_grad()\n",
    "        nn_output = net(theta_batch)\n",
    "        mse = (nn_output - x_batch)**2\n",
    "        loss = mse.sum()\n",
    "        loss.backward()\n",
    "        opt.step()"
   ]
  },
  {
   "cell_type": "markdown",
   "metadata": {
    "slideshow": {
     "slide_type": "fragment"
    }
   },
   "source": [
    "Let's see if the neural network learned something..."
   ]
  },
  {
   "cell_type": "markdown",
   "metadata": {
    "slideshow": {
     "slide_type": "slide"
    }
   },
   "source": [
    "### Evaluation of the neural network\n",
    "\n",
    "Ask the neural network to predict $x$ for $100$ different values of $\\theta$."
   ]
  },
  {
   "cell_type": "code",
   "execution_count": 9,
   "metadata": {
    "slideshow": {
     "slide_type": "fragment"
    }
   },
   "outputs": [],
   "source": [
    "predictions = []\n",
    "for t in torch.linspace(0, 1, 100):\n",
    "    predictions.append(net(torch.as_tensor([t])))\n",
    "predictions = torch.stack(predictions)"
   ]
  },
  {
   "cell_type": "code",
   "execution_count": 44,
   "metadata": {
    "slideshow": {
     "slide_type": "skip"
    }
   },
   "outputs": [
    {
     "data": {
      "image/png": "[encoded data removed]",
      "text/plain": [
       "<Figure size 450x220 with 1 Axes>"
      ]
     },
     "metadata": {},
     "output_type": "display_data"
    }
   ],
   "source": [
    "with mpl.rc_context(fname=\".matplotlibrc\"):\n",
    "    fig = plt.figure(figsize=(4.5, 2.2))\n",
    "    plt.plot(theta[:400], x[:400], 'go', alpha=0.4, markerfacecolor='none')\n",
    "    plt.xlabel(r'$\\theta$')\n",
    "    plt.ylabel('x')\n",
    "    plt.plot(np.linspace(0, 1, 100), predictions.detach().numpy())\n",
    "    plt.savefig(\"figures/2_1_cde/nn_few.png\", dpi=200, bbox_inches=\"tight\")"
   ]
  },
  {
   "cell_type": "markdown",
   "metadata": {
    "slideshow": {
     "slide_type": "fragment"
    }
   },
   "source": [
    "<img src=\"figures/2_1_cde/nn_few.png\" alt=\"drawing\" width=\"900\"/>  "
   ]
  },
  {
   "cell_type": "markdown",
   "metadata": {
    "slideshow": {
     "slide_type": "slide"
    }
   },
   "source": [
    "# But now, on to the main part..."
   ]
  },
  {
   "cell_type": "markdown",
   "metadata": {
    "slideshow": {
     "slide_type": "slide"
    }
   },
   "source": [
    "# Density estimation\n",
    "\n",
    "Density estimation means to estimate the probability distribution $p(\\theta)$ from samples $\\theta_1, \\theta_2, ...$."
   ]
  },
  {
   "cell_type": "markdown",
   "metadata": {
    "slideshow": {
     "slide_type": "fragment"
    }
   },
   "source": [
    "<img src=\"figures/2_1_cde/species.png\" alt=\"drawing\" width=\"870\"/>\n",
    "Plot from https://scikit-learn.org/stable/auto_examples/neighbors/plot_species_kde.html"
   ]
  },
  {
   "cell_type": "markdown",
   "metadata": {
    "slideshow": {
     "slide_type": "slide"
    }
   },
   "source": [
    "There are many ways to do this:\n",
    "\n",
    "- kernel density estimation\n",
    "- non-parametric approaches with order statistics\n",
    "- many neural network methods (GANs, VAEs, Normalizing flows,...)\n",
    "- ...\n",
    "\n",
    "Here, we will discuss (conditional) density estimation with Mixtures of Gaussians."
   ]
  },
  {
   "cell_type": "markdown",
   "metadata": {
    "slideshow": {
     "slide_type": "slide"
    }
   },
   "source": [
    "# Let's move to a simple example"
   ]
  },
  {
   "cell_type": "code",
   "execution_count": 11,
   "metadata": {
    "slideshow": {
     "slide_type": "fragment"
    }
   },
   "outputs": [],
   "source": [
    "mean = 1.0\n",
    "std = 0.4\n",
    "\n",
    "normal_dist = Normal(mean, std)  # We do not usually know this...\n",
    "samples = normal_dist.sample((50,))  # ...but all we have are these samples."
   ]
  },
  {
   "cell_type": "code",
   "execution_count": 12,
   "metadata": {
    "slideshow": {
     "slide_type": "skip"
    }
   },
   "outputs": [
    {
     "data": {
      "image/png": "[encoded data removed]",
      "text/plain": [
       "<Figure size 600x200 with 1 Axes>"
      ]
     },
     "metadata": {},
     "output_type": "display_data"
    }
   ],
   "source": [
    "with mpl.rc_context(fname=\".matplotlibrc\"):\n",
    "    fig = plt.figure(figsize=(6, 2))\n",
    "    plt.plot(samples, np.zeros_like(samples), 'bx', alpha=0.5, markerfacecolor='none', markersize=6)\n",
    "    _ = plt.xlim([-4, 4]); _ = plt.ylim([-0.12, 1.2])\n",
    "    plt.savefig(\"figures/2_1_cde/samples.png\", dpi=400, bbox_inches=\"tight\")"
   ]
  },
  {
   "cell_type": "markdown",
   "metadata": {
    "slideshow": {
     "slide_type": "fragment"
    }
   },
   "source": [
    "<img src=\"figures/2_1_cde/samples.png\" alt=\"drawing\" width=\"800\"/>\n",
    "\n",
    "Our goal is to estimate the underlying distribution of these samples."
   ]
  },
  {
   "cell_type": "markdown",
   "metadata": {
    "slideshow": {
     "slide_type": "slide"
    }
   },
   "source": [
    "# Fitting a Gaussian to data with maximum likelihood\n",
    "\n",
    "### Learning mean and standard deviation\n",
    "\n",
    "- Maximum likelihood: We maximize the likelihood of the samples {$\\theta_1, \\theta_2, ...$} under the model (i.e. the Gaussian)\n",
    "- Assume that the data comes from a Normal (=Gaussian) distribution.\n",
    "- All we want is to figure out the mean and the standard deviation.\n",
    "\n",
    "$\\mu', \\sigma' = \\text{argmax} p(\\theta; \\mu, \\sigma) = \\text{argmax}_{\\mu, \\sigma}\\prod_i \\mathcal{N}(\\theta_i; \\mu, \\sigma)$"
   ]
  },
  {
   "cell_type": "markdown",
   "metadata": {
    "slideshow": {
     "slide_type": "fragment"
    }
   },
   "source": [
    "We can also find the minimum of the negative logarithm (becaus log is monotonic):\n",
    "\n",
    "$\\mu', \\sigma' =  \\text{argmin}_{\\mu, \\sigma} - \\log \\prod_i \\mathcal{N}(\\theta_i; \\mu, \\sigma) = \\text{argmin}_{\\mu, \\sigma} - \\sum_i \\log \\mathcal{N}(\\theta_i; \\mu, \\sigma)$"
   ]
  },
  {
   "cell_type": "markdown",
   "metadata": {
    "slideshow": {
     "slide_type": "slide"
    }
   },
   "source": [
    "# Exercise 1: Fitting a Gaussian to data with maximum likelihood\n",
    "\n",
    "Your job: implement the probability of samples under a Gaussian model:\n",
    "$p(\\theta; \\mu, \\sigma) = \\frac{1}{\\sqrt{2\\pi\\sigma^2}}\\exp{(-\\frac{(\\mu-\\theta)^2}{2\\sigma^2})}$\n",
    "\n",
    "Then train the model and check if the learned mean and std are around $(1.0, 0.4)$."
   ]
  },
  {
   "cell_type": "code",
   "execution_count": 13,
   "metadata": {
    "slideshow": {
     "slide_type": "fragment"
    }
   },
   "outputs": [],
   "source": [
    "dataset = data.TensorDataset(samples)\n",
    "train_loader = data.DataLoader(samples, batch_size=10)\n",
    "\n",
    "learned_mean = torch.nn.Parameter(torch.zeros(1))\n",
    "learned_log_std = torch.nn.Parameter(torch.zeros(1))\n",
    "\n",
    "opt = optim.Adam([learned_mean, learned_log_std], lr=0.005)\n",
    "\n",
    "for e in range(500):\n",
    "    for sample_batch in samples:\n",
    "        opt.zero_grad()\n",
    "        learned_std = torch.exp(learned_log_std)\n",
    "        ###################################################\n",
    "        # Implement probability of sample_batch under a \n",
    "        # Gaussian with (mu, sigma) = (learned_mean, learned_std) \n",
    "        # prob_Gauss = ...\n",
    "        loss = -torch.log(prob_Gauss).sum()\n",
    "        loss.backward() \n",
    "        opt.step()"
   ]
  },
  {
   "cell_type": "code",
   "execution_count": 14,
   "metadata": {
    "slideshow": {
     "slide_type": "fragment"
    }
   },
   "outputs": [
    {
     "name": "stdout",
     "output_type": "stream",
     "text": [
      "Learned mean:  1.0079320669174194 , learned standard deviation:  0.4179263412952423\n"
     ]
    }
   ],
   "source": [
    "print(\"Learned mean: \", learned_mean.item(), \", learned standard deviation: \", torch.exp(learned_log_std).item())"
   ]
  },
  {
   "cell_type": "code",
   "execution_count": 15,
   "metadata": {
    "slideshow": {
     "slide_type": "skip"
    }
   },
   "outputs": [],
   "source": [
    "true_dist = Normal(mean, std)\n",
    "learned_dist = Normal(learned_mean, torch.exp(learned_log_std))"
   ]
  },
  {
   "cell_type": "code",
   "execution_count": 16,
   "metadata": {
    "slideshow": {
     "slide_type": "skip"
    }
   },
   "outputs": [],
   "source": [
    "x = torch.linspace(-4, 4, 100)\n",
    "true_probs = torch.exp(normal_dist.log_prob(x))\n",
    "learned_probs = torch.exp(learned_dist.log_prob(x)).detach()"
   ]
  },
  {
   "cell_type": "code",
   "execution_count": 17,
   "metadata": {
    "slideshow": {
     "slide_type": "skip"
    }
   },
   "outputs": [
    {
     "data": {
      "image/png": "[encoded data removed]",
      "text/plain": [
       "<Figure size 600x200 with 1 Axes>"
      ]
     },
     "metadata": {},
     "output_type": "display_data"
    }
   ],
   "source": [
    "with mpl.rc_context(fname=\".matplotlibrc\"):\n",
    "    fig = plt.figure(figsize=(6, 2))\n",
    "    plt.plot(samples, np.zeros_like(samples), 'bx', alpha=0.5, markerfacecolor='none', markersize=6)\n",
    "    plt.plot(x, true_probs)\n",
    "    plt.plot(x, learned_probs)\n",
    "    plt.legend([\"Samples\", \"Ground truth\", \"Learned\"], loc=\"upper left\")\n",
    "    _ = plt.xlim([-4, 4]); _ = plt.ylim([-0.12, 1.2])\n",
    "    plt.savefig(\"figures/2_1_cde/fitted_samples.png\", dpi=200, bbox_inches=\"tight\")"
   ]
  },
  {
   "cell_type": "markdown",
   "metadata": {
    "slideshow": {
     "slide_type": "slide"
    }
   },
   "source": [
    "<img src=\"figures/2_1_cde/fitted_samples.png\" alt=\"drawing\" width=\"800\"/>"
   ]
  },
  {
   "cell_type": "markdown",
   "metadata": {
    "slideshow": {
     "slide_type": "slide"
    }
   },
   "source": [
    "# Exercise 2: Theory question\n",
    "\n",
    "Why do we parameterize the logarithm of the standard deviation instead of the standard deviation itself?  \n",
    "\n",
    "```python\n",
    "learned_log_std = torch.nn.Parameter(torch.zeros(1))\n",
    "# ...\n",
    "for e in range(500):\n",
    "    for batch in samples:\n",
    "        learned_std = torch.exp(learned_log_std)\n",
    "        prob_Gauss = 1/torch.sqrt(2*pi*learned_std**2) * exp(-.5/learned_std**2*(batch-learned_mean)**2)\n",
    "        loss = -torch.log(prob_Gauss).sum()\n",
    "```"
   ]
  },
  {
   "cell_type": "markdown",
   "metadata": {
    "slideshow": {
     "slide_type": "slide"
    }
   },
   "source": [
    "# Summary of part 1: Density estimation\n",
    "\n",
    "- goal is to identiy a probability distribution $p(\\theta)$ from samples {$\\theta_1, \\theta_2,...$}.\n",
    "- this is done by:\n",
    "    - assuming a model, e.g. a Gaussian\n",
    "    - learning its parameters with maximum likelihood $\\text{argmax}_{\\mu, \\sigma} \\prod_i p(\\theta_i; \\mu, \\sigma)$\n",
    "    - in practice, we minimize the negative log-likelihood"
   ]
  },
  {
   "cell_type": "markdown",
   "metadata": {
    "slideshow": {
     "slide_type": "slide"
    },
    "tags": []
   },
   "source": [
    "# Conditional density estimation\n",
    "\n",
    "What is the probability of a taxi's drop-off location given the pick-up location?\n",
    "<img src=\"figures/2_1_cde/taxi.png\" alt=\"drawing\" width=\"1500\"/>  \n",
    "We can model this with a conditional probability $p(\\text{drop-off | pick-up = position}) = p(x | \\theta)$\n",
    "\n",
    "Image from Dutordoir et al. 2018"
   ]
  },
  {
   "cell_type": "markdown",
   "metadata": {
    "jp-MarkdownHeadingCollapsed": true,
    "slideshow": {
     "slide_type": "slide"
    },
    "tags": []
   },
   "source": [
    "# Let's look at a simple model\n",
    "Generate data from $x = \\theta + 0.3 \\sin(2 \\pi t) + \\epsilon$"
   ]
  },
  {
   "cell_type": "code",
   "execution_count": 46,
   "metadata": {
    "slideshow": {
     "slide_type": "skip"
    }
   },
   "outputs": [],
   "source": [
    "# generate data\n",
    "n = 4000  # number of datapoints\n",
    "d = 1  # dimensionality of parameters theta"
   ]
  },
  {
   "cell_type": "code",
   "execution_count": 47,
   "metadata": {
    "slideshow": {
     "slide_type": "skip"
    }
   },
   "outputs": [],
   "source": [
    "theta = torch.rand((n, d))\n",
    "\n",
    "noise = torch.randn((n, d)) * 0.05\n",
    "x = theta + 0.3*torch.sin(2*pi*theta) + noise"
   ]
  },
  {
   "cell_type": "code",
   "execution_count": 48,
   "metadata": {
    "slideshow": {
     "slide_type": "skip"
    }
   },
   "outputs": [],
   "source": [
    "val_to_eval = torch.tensor(0.1)"
   ]
  },
  {
   "cell_type": "code",
   "execution_count": 21,
   "metadata": {
    "slideshow": {
     "slide_type": "skip"
    }
   },
   "outputs": [
    {
     "data": {
      "image/png": "[encoded data removed]",
      "text/plain": [
       "<Figure size 450x220 with 1 Axes>"
      ]
     },
     "metadata": {},
     "output_type": "display_data"
    }
   ],
   "source": [
    "# Data t_train and x_train\n",
    "with mpl.rc_context(fname=\".matplotlibrc\"):\n",
    "    fig = plt.figure(figsize=(4.5, 2.2))\n",
    "    plt.plot(theta[:400], x[:400], 'go', alpha=0.4, markerfacecolor='none')\n",
    "    plt.axvline(val_to_eval.numpy())\n",
    "    plt.xlabel(r'$\\theta$')\n",
    "    plt.ylabel('x')\n",
    "    plt.savefig(\"figures/2_1_cde/cde_samples.png\", dpi=200, bbox_inches=\"tight\")\n",
    "    plt.show()"
   ]
  },
  {
   "cell_type": "code",
   "execution_count": 43,
   "metadata": {
    "slideshow": {
     "slide_type": "skip"
    }
   },
   "outputs": [
    {
     "name": "stderr",
     "output_type": "stream",
     "text": [
      "findfont: Font family ['serif'] not found. Falling back to DejaVu Sans.\n",
      "findfont: Generic family 'serif' not found because none of the following families were found: Arial, sans-serif\n"
     ]
    },
    {
     "data": {
      "image/png": "[encoded data removed]",
      "text/plain": [
       "<Figure size 450x220 with 1 Axes>"
      ]
     },
     "metadata": {},
     "output_type": "display_data"
    }
   ],
   "source": [
    "# Data t_train and x_train\n",
    "\n",
    "mean = val_to_eval + 0.3*torch.sin(2*pi*val_to_eval)\n",
    "\n",
    "with mpl.rc_context(fname=\".matplotlibrc\"):\n",
    "    fig, ax = plt.subplots(1, 1, figsize=(4.5, 2.2))\n",
    "    x_vals = torch.linspace(-0.2, 1.0, 1000)\n",
    "    n = Normal(mean, 0.05)\n",
    "    y_vals = n.log_prob(x_vals).exp().numpy()\n",
    "    x_vals = x_vals.numpy()\n",
    "    plt.plot(x_vals, np.flip(y_vals), linewidth=2)\n",
    "    plt.xticks([])\n",
    "    plt.yticks([])\n",
    "    ax.spines[\"left\"].set_visible(False)\n",
    "    ax.spines[\"bottom\"].set_visible(False)\n",
    "    ax.set_ylabel(r\"$p(x|\\theta=0.1)$\", rotation=90, fontsize=18)\n",
    "    plt.savefig(\"figures/2_1_cde/conditional.png\", dpi=300, bbox_inches=\"tight\")"
   ]
  },
  {
   "cell_type": "markdown",
   "metadata": {
    "slideshow": {
     "slide_type": "fragment"
    }
   },
   "source": [
    "<img src=\"figures/2_1_cde/cde_samples_raw.png\" alt=\"drawing\" width=\"900\"/>  "
   ]
  },
  {
   "cell_type": "markdown",
   "metadata": {
    "slideshow": {
     "slide_type": "slide"
    }
   },
   "source": [
    "The goal is to estimate parameters of a conditional distribution:\n",
    "<img src=\"figures/2_1_cde/cond_assembled.png\" alt=\"drawing\" width=\"1500\"/>  "
   ]
  },
  {
   "cell_type": "markdown",
   "metadata": {
    "slideshow": {
     "slide_type": "slide"
    }
   },
   "source": [
    "# How to do this?\n",
    "\n",
    "We will assume that, **for a given $\\theta$**, the probability density of $x$ is Gaussian, i.e.:\n",
    "\n",
    "$p(x|\\theta) = \\mathcal{N}(x; \\mu(\\theta), \\sigma(\\theta))$\n",
    "\n",
    "Importantly, the conditional mean $\\mu(\\theta)$ and the conditional st.dev. $\\sigma(\\theta)$ can be **non-linear functions** of $\\theta$, i.e. \n",
    "\n",
    "$\\mu = f(\\theta)$  \n",
    "$\\sigma = g(\\theta)$"
   ]
  },
  {
   "cell_type": "markdown",
   "metadata": {
    "slideshow": {
     "slide_type": "fragment"
    }
   },
   "source": [
    "<img src=\"figures/2_1_cde/cond_assembled.png\" alt=\"drawing\" width=\"800\"/>  "
   ]
  },
  {
   "cell_type": "markdown",
   "metadata": {
    "slideshow": {
     "slide_type": "slide"
    }
   },
   "source": [
    "<img src=\"figures/2_1_cde/nn.png\" alt=\"drawing\" width=\"2000\"/>  "
   ]
  },
  {
   "cell_type": "markdown",
   "metadata": {
    "slideshow": {
     "slide_type": "slide"
    }
   },
   "source": [
    "# Learning mean and standard deviation conditional on inputs"
   ]
  },
  {
   "cell_type": "code",
   "execution_count": 52,
   "metadata": {
    "slideshow": {
     "slide_type": "fragment"
    }
   },
   "outputs": [],
   "source": [
    "dataset = data.TensorDataset(theta, x)\n",
    "train_loader = data.DataLoader(\n",
    "    dataset, batch_size=20)\n",
    "\n",
    "net = nn.Sequential(\n",
    "    nn.Linear(1, 20), nn.ReLU(),\n",
    "    nn.Linear(20, 20), nn.ReLU(),\n",
    "    nn.Linear(20, 2))\n",
    "\n",
    "opt = optim.Adam(net.parameters(), lr=0.01)\n",
    "for e in range(100):\n",
    "    for theta_batch, x_batch in train_loader:\n",
    "        opt.zero_grad()\n",
    "        nn_output = net(theta_batch)\n",
    "        mean = nn_output[:, 0].unsqueeze(1)\n",
    "        std = torch.exp(nn_output[:,1]).unsqueeze(1)\n",
    "        prob_Gauss = 1/torch.sqrt(2*pi*std**2) * torch.exp(-.5/std**2*(mean-x_batch)**2)\n",
    "        loss = -torch.log(prob_Gauss).sum()\n",
    "        loss.backward()\n",
    "        opt.step()"
   ]
  },
  {
   "cell_type": "markdown",
   "metadata": {
    "slideshow": {
     "slide_type": "fragment"
    }
   },
   "source": [
    "We now have a neural network which outputs the parameters of a probability density distribution given inputs.\n",
    "In this case, it was a Gaussian distribution of which we learned the mean and standard deviation. To evaluate the result, we can look at samples from the returned distribution."
   ]
  },
  {
   "cell_type": "markdown",
   "metadata": {
    "slideshow": {
     "slide_type": "slide"
    }
   },
   "source": [
    "### Inspect the distribution for $\\theta$ = 0.1"
   ]
  },
  {
   "cell_type": "code",
   "execution_count": 2,
   "metadata": {
    "slideshow": {
     "slide_type": "fragment"
    }
   },
   "outputs": [],
   "source": [
    "theta_test = tensor([0.1])  # the theta at which we evaluate the neural network.\n",
    "nn_output = net(theta_test)\n",
    "conditional_mean = nn_output[0].detach().numpy()\n",
    "conditional_std = torch.exp(nn_output[1]).detach().numpy()\n",
    "print(\"Conditional mean: \", conditional_mean, \", conditional std: \", conditional_std)"
   ]
  },
  {
   "cell_type": "code",
   "execution_count": 54,
   "metadata": {
    "slideshow": {
     "slide_type": "skip"
    }
   },
   "outputs": [
    {
     "name": "stderr",
     "output_type": "stream",
     "text": [
      "/home/michael/anaconda3/envs/workshop/lib/python3.8/site-packages/numpy/core/shape_base.py:65: FutureWarning: The input object of type 'Tensor' is an array-like implementing one of the corresponding protocols (`__array__`, `__array_interface__` or `__array_struct__`); but not a sequence (or 0-D). In the future, this object will be coerced as if it was first converted using `np.array(obj)`. To retain the old behaviour, you have to either modify the type 'Tensor', or assign to an empty array created with `np.empty(correct_shape, dtype=object)`.\n",
      "  ary = asanyarray(ary)\n",
      "/home/michael/anaconda3/envs/workshop/lib/python3.8/site-packages/numpy/core/shape_base.py:65: VisibleDeprecationWarning: Creating an ndarray from ragged nested sequences (which is a list-or-tuple of lists-or-tuples-or ndarrays with different lengths or shapes) is deprecated. If you meant to do this, you must specify 'dtype=object' when creating the ndarray.\n",
      "  ary = asanyarray(ary)\n"
     ]
    },
    {
     "data": {
      "image/png": "[encoded data removed]",
      "text/plain": [
       "<Figure size 450x220 with 1 Axes>"
      ]
     },
     "metadata": {},
     "output_type": "display_data"
    }
   ],
   "source": [
    "# Data t_train and x_train\n",
    "with mpl.rc_context(fname=\".matplotlibrc\"):\n",
    "\n",
    "    fig = plt.figure(figsize=(4.5, 2.2))\n",
    "    plt.plot(theta[:400], x[:400], 'go', alpha=0.4, markerfacecolor='none', zorder=-100)\n",
    "    plt.plot([theta_test, theta_test], [conditional_mean-conditional_std, conditional_mean+conditional_std], c=\"r\", linewidth=2)\n",
    "    plt.scatter(theta_test, conditional_mean, c=\"r\", s=30, alpha=1.0)\n",
    "    plt.xlabel(r'$\\theta$')\n",
    "    plt.ylabel('x')\n",
    "    plt.savefig(\"figures/2_1_cde/cde_fitted.png\", dpi=200, bbox_inches=\"tight\")\n",
    "    plt.show()"
   ]
  },
  {
   "cell_type": "markdown",
   "metadata": {
    "slideshow": {
     "slide_type": "fragment"
    }
   },
   "source": [
    "<img src=\"figures/2_1_cde/cde_fitted.png\" alt=\"drawing\" width=\"600\"/>"
   ]
  },
  {
   "cell_type": "markdown",
   "metadata": {
    "slideshow": {
     "slide_type": "slide"
    }
   },
   "source": [
    "# Exercise 3: Evaluate the NN for different values of $\\theta$\n",
    "\n",
    "Use the two cells above to evaluate the NN for other values of $\\theta$, e.g. $\\theta = 0.4$."
   ]
  },
  {
   "cell_type": "markdown",
   "metadata": {
    "slideshow": {
     "slide_type": "slide"
    }
   },
   "source": [
    "# Alternative evaluation: for every $\\theta$, sample from the Gaussian"
   ]
  },
  {
   "cell_type": "code",
   "execution_count": 55,
   "metadata": {
    "slideshow": {
     "slide_type": "fragment"
    }
   },
   "outputs": [],
   "source": [
    "samples = []\n",
    "theta_test = torch.linspace(0.0, 1.0, 500).unsqueeze(1)\n",
    "\n",
    "for single_theta in theta_test:\n",
    "    network_outs = net(single_theta.unsqueeze(1))\n",
    "    m = network_outs[:,0]\n",
    "    s = torch.exp(network_outs[:,1])\n",
    "    conditional_distribution = Normal(m, s)\n",
    "    sample = conditional_distribution.sample((1,))\n",
    "    \n",
    "    samples.append(sample)\n",
    "samples = torch.cat(samples).data"
   ]
  },
  {
   "cell_type": "code",
   "execution_count": 57,
   "metadata": {
    "slideshow": {
     "slide_type": "skip"
    }
   },
   "outputs": [
    {
     "data": {
      "image/png": "[encoded data removed]",
      "text/plain": [
       "<Figure size 450x220 with 1 Axes>"
      ]
     },
     "metadata": {},
     "output_type": "display_data"
    }
   ],
   "source": [
    "with mpl.rc_context(fname=\".matplotlibrc\"):\n",
    "    fig = plt.figure(figsize=(4.5, 2.2))\n",
    "    plt.plot(theta[:400], x[:400], 'go', alpha=0.5, markerfacecolor='none')\n",
    "    plt.plot(theta_test, samples.squeeze().detach(), 'ro', linewidth=3.0)\n",
    "    plt.xlabel(r'$\\theta$')\n",
    "    plt.ylabel('x')\n",
    "    # plt.savefig(\"data_prob_std_fit.png\", dpi=200)\n",
    "    plt.savefig(\"figures/2_1_cde/cde_fitted_samples.png\", dpi=200, bbox_inches=\"tight\")\n",
    "    plt.show()"
   ]
  },
  {
   "cell_type": "markdown",
   "metadata": {
    "slideshow": {
     "slide_type": "fragment"
    }
   },
   "source": [
    "<img src=\"figures/2_1_cde/cde_fitted_samples.png\" alt=\"drawing\" width=\"500\"/>"
   ]
  },
  {
   "cell_type": "markdown",
   "metadata": {
    "slideshow": {
     "slide_type": "slide"
    }
   },
   "source": [
    "# Small detour\n",
    "How does this relate to e.g. Bayesian linear regression?"
   ]
  },
  {
   "cell_type": "markdown",
   "metadata": {
    "slideshow": {
     "slide_type": "fragment"
    }
   },
   "source": [
    "\n",
    "<img src=\"figures/2_1_cde/bayes_lin_reg_assembled.png\" alt=\"drawing\" width=\"1500\"/>  \n"
   ]
  },
  {
   "cell_type": "markdown",
   "metadata": {
    "slideshow": {
     "slide_type": "slide"
    }
   },
   "source": [
    "# But what if the conditional distribution is not Gaussian?"
   ]
  },
  {
   "cell_type": "markdown",
   "metadata": {
    "slideshow": {
     "slide_type": "fragment"
    },
    "tags": []
   },
   "source": [
    "Again, generate data from $x = \\theta + 0.3 \\sin(2 \\pi \\theta) + \\epsilon$. But now, predict $\\theta$ from $x$, i.e. learn $p(\\theta | x)$."
   ]
  },
  {
   "cell_type": "code",
   "execution_count": 28,
   "metadata": {
    "slideshow": {
     "slide_type": "skip"
    }
   },
   "outputs": [
    {
     "data": {
      "image/png": "[encoded data removed]",
      "text/plain": [
       "<Figure size 450x220 with 1 Axes>"
      ]
     },
     "metadata": {},
     "output_type": "display_data"
    }
   ],
   "source": [
    "with mpl.rc_context(fname=\".matplotlibrc\"):\n",
    "\n",
    "    fig = plt.figure(figsize=(4.5, 2.2))\n",
    "    plt.plot(x[:400], theta[:400], 'go', alpha=0.5, markerfacecolor='none')\n",
    "    plt.xlabel('x')\n",
    "    plt.ylabel(r'$\\theta$')\n",
    "    plt.savefig(\"figures/2_1_cde/cde_samples_inv.png\", dpi=200, bbox_inches=\"tight\")\n",
    "    plt.show()"
   ]
  },
  {
   "cell_type": "markdown",
   "metadata": {
    "slideshow": {
     "slide_type": "fragment"
    }
   },
   "source": [
    "<img src=\"figures/2_1_cde/cde_samples_inv.png\" alt=\"drawing\" width=\"600\"/>"
   ]
  },
  {
   "cell_type": "markdown",
   "metadata": {
    "slideshow": {
     "slide_type": "fragment"
    }
   },
   "source": [
    "# Exercise 4: Your guesses.\n",
    "\n",
    "What will the neural network predict for $x = 0.35$ ?"
   ]
  },
  {
   "cell_type": "code",
   "execution_count": 29,
   "metadata": {
    "slideshow": {
     "slide_type": "skip"
    }
   },
   "outputs": [],
   "source": [
    "_ = torch.manual_seed(1)"
   ]
  },
  {
   "cell_type": "markdown",
   "metadata": {
    "slideshow": {
     "slide_type": "slide"
    }
   },
   "source": [
    "### Let's train this just like before, but now predicting $\\theta$ from $x$."
   ]
  },
  {
   "cell_type": "code",
   "execution_count": 30,
   "metadata": {
    "slideshow": {
     "slide_type": "fragment"
    }
   },
   "outputs": [],
   "source": [
    "dataset = data.TensorDataset(x, theta)\n",
    "train_loader = data.DataLoader(dataset, batch_size=20)\n",
    "\n",
    "net = nn.Sequential(\n",
    "    nn.Linear(1, 20), nn.ReLU(), nn.Linear(20, 20), nn.ReLU(), nn.Linear(20, 2))\n",
    "\n",
    "opt = optim.Adam(net.parameters(), lr=0.01)\n",
    "for e in range(100):\n",
    "    for x_batch, theta_batch in train_loader:\n",
    "        opt.zero_grad()\n",
    "        nn_output = net(x_batch)\n",
    "        mean = nn_output[:, 0].unsqueeze(1)\n",
    "        std = torch.exp(nn_output[:,1]).unsqueeze(1)\n",
    "        prob_Gauss = 1/torch.sqrt(2*pi*std**2) * torch.exp(-.5/std**2*(mean-theta_batch)**2)\n",
    "        loss = -torch.log(prob_Gauss).sum()\n",
    "        loss.backward()\n",
    "        opt.step()"
   ]
  },
  {
   "cell_type": "code",
   "execution_count": 31,
   "metadata": {
    "slideshow": {
     "slide_type": "skip"
    }
   },
   "outputs": [],
   "source": [
    "samples = []\n",
    "x_test = torch.linspace(-0.1, 1.1, 500).unsqueeze(1)\n",
    "\n",
    "for single_x in x_test:\n",
    "    network_outs = net(single_x.unsqueeze(1))\n",
    "    mean = network_outs[:,0]\n",
    "    std = torch.exp(network_outs[:,1])\n",
    "    conditional_distribution = Normal(mean, std)\n",
    "    sample = conditional_distribution.sample((1,))\n",
    "    \n",
    "    samples.append(sample)\n",
    "samples = torch.cat(samples).data"
   ]
  },
  {
   "cell_type": "code",
   "execution_count": 32,
   "metadata": {
    "slideshow": {
     "slide_type": "skip"
    }
   },
   "outputs": [
    {
     "data": {
      "image/png": "[encoded data removed]",
      "text/plain": [
       "<Figure size 450x220 with 1 Axes>"
      ]
     },
     "metadata": {},
     "output_type": "display_data"
    }
   ],
   "source": [
    "# plot\n",
    "with mpl.rc_context(fname=\".matplotlibrc\"):\n",
    "\n",
    "    fig = plt.figure(figsize=(4.5, 2.2))\n",
    "    plt.plot(x[:400], theta[:400], 'go', alpha=0.5, markerfacecolor='none')\n",
    "    plt.plot(x_test, samples.squeeze().detach(), 'ro', linewidth=3.0)\n",
    "    plt.xlabel('x')\n",
    "    plt.ylabel(r'$\\theta$')\n",
    "    plt.savefig(\"figures/2_1_cde/cde_fitted_inv_samples.png\", dpi=200, bbox_inches=\"tight\")\n",
    "    plt.show()"
   ]
  },
  {
   "cell_type": "markdown",
   "metadata": {
    "slideshow": {
     "slide_type": "fragment"
    }
   },
   "source": [
    "<img src=\"figures/2_1_cde/cde_fitted_inv_samples.png\" alt=\"drawing\" width=\"900\"/>"
   ]
  },
  {
   "cell_type": "markdown",
   "metadata": {
    "slideshow": {
     "slide_type": "slide"
    }
   },
   "source": [
    "# Okey, but how can we fix this?"
   ]
  },
  {
   "cell_type": "markdown",
   "metadata": {
    "slideshow": {
     "slide_type": "slide"
    },
    "tags": []
   },
   "source": [
    "# Mixture Density Networks\n",
    "$$\n",
    "$$\n",
    "<img src=\"figures/2_1_cde/architecture.png\" alt=\"drawing\" width=\"1200\"/>\n",
    "\n",
    "The loss is now the probability under this mixture of Gaussians  <br/>\n",
    "\n",
    "$\\mathcal{L} = -\\sum_i \\log q(\\theta_i | x_i) = -\\sum_i \\log \\sum_j \\alpha_{j,i} \\mathcal{N}(\\theta_i; \\mu_{j,i}(x_i), \\sigma_{j,i}(x_i)$  <br/>\n",
    "\n",
    "We learn the mixture components $\\alpha_j$, the means $\\mu_j$, and the variances $\\sigma_j$."
   ]
  },
  {
   "cell_type": "markdown",
   "metadata": {
    "slideshow": {
     "slide_type": "slide"
    }
   },
   "source": [
    "# Let's look at this in code!"
   ]
  },
  {
   "cell_type": "code",
   "execution_count": null,
   "metadata": {
    "slideshow": {
     "slide_type": "fragment"
    }
   },
   "outputs": [],
   "source": [
    "class MultivariateGaussianMDN(nn.Module):\n",
    "    def __init__(\n",
    "        self,\n",
    "        number_of_parameters, hidden_net,\n",
    "        number_of_gaussians, hidden_features,\n",
    "    ):\n",
    "        # ...\n",
    "        self._hidden_net = hidden_net\n",
    "        self._weights_layer = nn.Linear(hidden_features, number_of_gaussians)\n",
    "        self._means_layer = nn.Linear(hidden_features, number_of_gaussians * number_of_parameters)\n",
    "        self._log_variances_layer = nn.Linear(\n",
    "            hidden_features, number_of_gaussians * features\n",
    "        )\n",
    "\n",
    "    def get_mixture_components(\n",
    "        self, context\n",
    "    ):\n",
    "        h = self._hidden_net(context)\n",
    "\n",
    "        logits = self._logits_layer(h)\n",
    "        logits = logits - torch.logsumexp(logits, dim=1).unsqueeze(1)\n",
    "        means = self._means_layer(h).view(-1, self._num_components, self._features)\n",
    "\n",
    "        log_variances = self._log_variances_layer(h).view(\n",
    "            -1, self._num_components, self._features\n",
    "        )\n",
    "        variances = torch.exp(log_variances)\n",
    "        return logits, means, variances"
   ]
  },
  {
   "cell_type": "code",
   "execution_count": 33,
   "metadata": {
    "slideshow": {
     "slide_type": "skip"
    }
   },
   "outputs": [],
   "source": [
    "class MultivariateGaussianMDN(nn.Module):\n",
    "    def __init__(\n",
    "        self,\n",
    "        number_of_parameters, hidden_net,\n",
    "        number_of_gaussians, hidden_features,\n",
    "    ):\n",
    "        super().__init__()\n",
    "        self._features = number_of_parameters\n",
    "        self._number_of_gaussians = number_of_gaussians\n",
    "        \n",
    "        self._hidden_net = hidden_net\n",
    "        self._weights_layer = nn.Linear(hidden_features, number_of_gaussians)\n",
    "        self._means_layer = nn.Linear(hidden_features, number_of_gaussians * number_of_parameters)\n",
    "        self._log_variances_layer = nn.Linear(\n",
    "            hidden_features, number_of_gaussians * number_of_parameters\n",
    "        )\n",
    "\n",
    "    def get_mixture_components(\n",
    "        self, context\n",
    "    ):\n",
    "        h = self._hidden_net(context)\n",
    "\n",
    "        weights_of_each_gaussian = self._weights_layer(h)\n",
    "        weights_of_each_gaussian = weights_of_each_gaussian - torch.logsumexp(logits, dim=1).unsqueeze(1)\n",
    "        means = self._means_layer(h).view(-1, self._num_components, self._features)\n",
    "\n",
    "        log_variances = self._log_variances_layer(h).view(\n",
    "            -1, self._num_components, self._features\n",
    "        )\n",
    "        variances = torch.exp(log_variances)\n",
    "\n",
    "        return weights_of_each_gaussian, means, variances"
   ]
  },
  {
   "cell_type": "code",
   "execution_count": 34,
   "metadata": {
    "slideshow": {
     "slide_type": "skip"
    }
   },
   "outputs": [],
   "source": [
    "def mog_log_prob(theta, logits, means, variances):\n",
    "\n",
    "    _, _, theta_dim = means.size()\n",
    "    theta = theta.view(-1, 1, theta_dim)\n",
    "\n",
    "    log_cov_det = -0.5*torch.log(torch.prod(variances, dim=2))\n",
    "\n",
    "    a = logits\n",
    "    b = -(theta_dim / 2.0) * log(2 * pi)\n",
    "    c = log_cov_det\n",
    "    d1 = theta.expand_as(means) - means\n",
    "    precisions = 1.0 / variances\n",
    "    exponent = torch.sum(d1 * precisions * d1, dim=2)\n",
    "    exponent = tensor(-0.5) * exponent\n",
    "\n",
    "    return torch.logsumexp(a + b + c + exponent, dim=-1)"
   ]
  },
  {
   "cell_type": "markdown",
   "metadata": {
    "slideshow": {
     "slide_type": "slide"
    }
   },
   "source": [
    "# Exercise 5: Training the network\n",
    "\n",
    "Your task is to train the neural network. You will have to use the above defined `mog_log_prob()` method to compute the log-probability of the parameters $\\theta$ under a mixture of Gaussians with $(\\alpha, \\mu, \\sigma^2)$."
   ]
  },
  {
   "cell_type": "code",
   "execution_count": 36,
   "metadata": {
    "slideshow": {
     "slide_type": "fragment"
    }
   },
   "outputs": [],
   "source": [
    "def mog_log_prob(theta, logits, means, variances):\n",
    "    # Evaluate the log probability of a mixture of Gaussians.\n",
    "    return log_probability"
   ]
  },
  {
   "cell_type": "code",
   "execution_count": 69,
   "metadata": {
    "slideshow": {
     "slide_type": "skip"
    }
   },
   "outputs": [],
   "source": [
    "_= torch.manual_seed(1)"
   ]
  },
  {
   "cell_type": "code",
   "execution_count": 70,
   "metadata": {
    "slideshow": {
     "slide_type": "fragment"
    }
   },
   "outputs": [],
   "source": [
    "dataset = data.TensorDataset(x, theta)\n",
    "train_loader = data.DataLoader(\n",
    "    dataset, batch_size=50,\n",
    ")\n",
    "mdn = MultivariateGaussianMDN(\n",
    "    number_of_parameters=1,\n",
    "    hidden_net=nn.Sequential(\n",
    "        nn.Linear(1, 30), nn.ReLU(),\n",
    "        nn.Linear(30, 30), nn.ReLU(),\n",
    "        nn.Linear(30, 30), nn.ReLU(),\n",
    "    ),\n",
    "    number_of_gaussians=5,\n",
    "    hidden_features=30,\n",
    ")\n",
    "opt = optim.Adam(mdn.parameters(), lr=0.001)\n",
    "for e in range(200):\n",
    "    for x_batch, theta_batch in train_loader:\n",
    "        opt.zero_grad()\n",
    "        weights_of_each_gaussian, means, variances = mdn.get_mixture_components(x_batch)\n",
    "        ###################################################\n",
    "        # Implement probability of `theta_batch` under a Mixture of Gaussians with (weights, means, variances).\n",
    "        # Hint: use the `mog_log_prob` method defined in the cell above.\n",
    "        # log_probs = ...\n",
    "        loss = -log_probs.sum()\n",
    "        loss.backward()\n",
    "        opt.step()"
   ]
  },
  {
   "cell_type": "markdown",
   "metadata": {
    "slideshow": {
     "slide_type": "slide"
    }
   },
   "source": [
    "# Let's evaluate this!"
   ]
  },
  {
   "cell_type": "code",
   "execution_count": null,
   "metadata": {
    "slideshow": {
     "slide_type": "slide"
    }
   },
   "outputs": [],
   "source": [
    "def mog_samples(logits, means, variances):\n",
    "    # Draw a sample from a mixture of Gaussians."
   ]
  },
  {
   "cell_type": "code",
   "execution_count": 71,
   "metadata": {
    "slideshow": {
     "slide_type": "skip"
    }
   },
   "outputs": [],
   "source": [
    "def mog_sample(logits, means, variances):\n",
    "\n",
    "    coefficients = F.softmax(logits, dim=-1)\n",
    "    choices = torch.multinomial(\n",
    "        coefficients, num_samples=1, replacement=True\n",
    "    ).view(-1)\n",
    "\n",
    "    chosen_means = means[0, choices, :] # 0 for first batch position\n",
    "    chosen_variances = variances[0, choices, :]\n",
    "\n",
    "    _, _, output_dim = means.shape\n",
    "    standard_normal_samples = torch.randn(output_dim)\n",
    "    zero_mean_samples = standard_normal_samples * torch.sqrt(chosen_variances)\n",
    "    samples = chosen_means + zero_mean_samples\n",
    "\n",
    "    return samples"
   ]
  },
  {
   "cell_type": "code",
   "execution_count": 72,
   "metadata": {
    "slideshow": {
     "slide_type": "fragment"
    }
   },
   "outputs": [],
   "source": [
    "samples = []\n",
    "x_test = torch.linspace(-0.1, 1.1, 500).unsqueeze(1)\n",
    "\n",
    "for single_x in x_test:\n",
    "    weights, means, variances = mdn.get_mixture_components(single_x.unsqueeze(1))\n",
    "    sample = mog_sample(weights, means, variances)\n",
    "    \n",
    "    samples.append(sample)\n",
    "samples = torch.cat(samples).data"
   ]
  },
  {
   "cell_type": "code",
   "execution_count": 99,
   "metadata": {
    "slideshow": {
     "slide_type": "skip"
    }
   },
   "outputs": [],
   "source": [
    "x_demo = torch.as_tensor([[0.6]])\n",
    "logits, means, variances = mdn.get_mixture_components(x_demo)\n",
    "demo_probs = []\n",
    "for t_demo in torch.linspace(-0.1, 1., 100):\n",
    "    prob = mog_log_prob(torch.as_tensor([t_demo]), logits, means, variances)\n",
    "    demo_probs.append(prob)\n",
    "demo_probs = torch.stack(demo_probs).detach().exp()"
   ]
  },
  {
   "cell_type": "code",
   "execution_count": 110,
   "metadata": {
    "slideshow": {
     "slide_type": "skip"
    }
   },
   "outputs": [
    {
     "data": {
      "image/png": "[encoded data removed]",
      "text/plain": [
       "<Figure size 450x220 with 1 Axes>"
      ]
     },
     "metadata": {},
     "output_type": "display_data"
    }
   ],
   "source": [
    "with mpl.rc_context(fname=\".matplotlibrc\"):\n",
    "    fig = plt.figure(figsize=(4.5, 2.2))\n",
    "    plt.plot(x[:400], theta[:400], 'go', alpha=0.5, markerfacecolor='none')\n",
    "    plt.plot(x_test, samples.squeeze().detach(), 'ro', linewidth=3.0)\n",
    "    plt.plot(demo_probs.numpy()*0.1+x_demo.item(), np.linspace(-0.1, 1, 100))\n",
    "    plt.plot([0.6]*100, np.linspace(-0.1, 1, 100), linestyle=\"--\", color=\"k\")\n",
    "    plt.ylim([-0.05, 1.1])\n",
    "    plt.xlabel('x')\n",
    "    plt.ylabel(r'$\\theta$')\n",
    "    plt.savefig(\"figures/2_1_cde/cde_fitted_inv_samples_mdn.png\", dpi=200, bbox_inches=\"tight\")\n",
    "    plt.show()"
   ]
  },
  {
   "cell_type": "markdown",
   "metadata": {
    "slideshow": {
     "slide_type": "fragment"
    }
   },
   "source": [
    "<img src=\"figures/2_1_cde/cde_fitted_inv_samples_mdn.png\" alt=\"drawing\" width=\"1000\"/>"
   ]
  },
  {
   "cell_type": "markdown",
   "metadata": {
    "slideshow": {
     "slide_type": "slide"
    }
   },
   "source": [
    "# Exercise 6: Evaluate the MoG for different values of $x$\n",
    "\n",
    "Use the two cells above to inspect the distribution for different values of $x$."
   ]
  },
  {
   "cell_type": "markdown",
   "metadata": {
    "slideshow": {
     "slide_type": "slide"
    }
   },
   "source": [
    "# Example: estimating parameters of a neural circuit\n",
    "\n",
    "We want to estimate the distribution of sodium and potassium conductances given an observed trace:\n",
    "\n",
    "<img src=\"figures/2_1_cde/full_HH_fig.png\" alt=\"drawing\" width=\"1500\"/>"
   ]
  },
  {
   "cell_type": "markdown",
   "metadata": {
    "slideshow": {
     "slide_type": "slide"
    }
   },
   "source": [
    "# What are the limitations?\n",
    "<br/>\n",
    "- One has to decide on hyperparameters: e.g. how many components (i.e. Gaussians) will I need? <br/>\n",
    "<br/>\n",
    "- Training often does not converge perfectly. <br/>\n",
    "<br/>\n",
    "- In practice, high-dimensional distributions might not be captured perfectly even with a high number of components. <br/>\n",
    "<br/>\n",
    "- Normalizing flows, VAEs, and GANs are more flexible. However, Mixtures of Gaussians often allow for useful computations in closed form and are still sometimes used in practice.<br/>\n",
    "<br/>"
   ]
  },
  {
   "cell_type": "markdown",
   "metadata": {
    "slideshow": {
     "slide_type": "fragment"
    }
   },
   "source": [
    "<img src=\"figures/2_1_cde/full_HH_fig.png\" alt=\"drawing\" width=\"1200\"/>"
   ]
  },
  {
   "cell_type": "markdown",
   "metadata": {
    "slideshow": {
     "slide_type": "slide"
    }
   },
   "source": [
    "## Summary: Conditional density estimation\n",
    "\n",
    "- Density estimation means to estimate a probability distribution (=density) from samples. <br/>\n",
    "<br/>\n",
    "- Here, we assume a `model` (e.g. a Gaussian) and fit its parameters with maximum likelihood (i.e. maximizing the probability of the data under the model) <br/>\n",
    "<br/>\n",
    "- In conditional density estimation, we fit the parameters of a distribution given another quantity. <br/>\n",
    "<br/>\n",
    "- We can do this by regressing onto the parameters of the distribution with a neural network. <br/>\n",
    "<br/>\n",
    "- Mixture density networks predict parameters of a mixture of Gaussians <br/>\n",
    "<br/>\n",
    "- Because of this, this can capture variability and multi-modality <br/>\n",
    "<br/>\n",
    "- To look at their predictions, one can either draw samples from the predicted mixture of Gaussians or evaluate the probability of the prediction"
   ]
  },
  {
   "cell_type": "markdown",
   "metadata": {
    "slideshow": {
     "slide_type": "slide"
    }
   },
   "source": [
    "# Acknowledgments\n",
    "<br/>\n",
    "<br/>\n",
    "\n",
    "Parts of the code from: https://mikedusenberry.com/mixture-density-networks  <br/>\n",
    "Code of MDNs based on Conor Durkan's `lfi` package.  <br/>\n",
    "Bishop, 1994  <br/>\n",
    "[MDN graphic](https://towardsdatascience.com/a-hitchhikers-guide-to-mixture-density-networks-76b435826cca)  \n",
    "Pedro Gonçalves et al. for figure."
   ]
  }
 ],
 "metadata": {
  "celltoolbar": "Slideshow",
  "kernelspec": {
   "display_name": "workshop",
   "language": "python",
   "name": "workshop"
  },
  "language_info": {
   "codemirror_mode": {
    "name": "ipython",
    "version": 3
   },
   "file_extension": ".py",
   "mimetype": "text/x-python",
   "name": "python",
   "nbconvert_exporter": "python",
   "pygments_lexer": "ipython3",
   "version": "3.8.10"
  }
 },
 "nbformat": 4,
 "nbformat_minor": 4
}
