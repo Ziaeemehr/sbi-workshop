{
 "cells": [
  {
   "cell_type": "markdown",
   "metadata": {
    "slideshow": {
     "slide_type": "slide"
    }
   },
   "source": [
    "# SNLE & SNRE\n",
    "## Alternative ML Tools for Simulation Based Inference"
   ]
  },
  {
   "cell_type": "markdown",
   "metadata": {
    "slideshow": {
     "slide_type": "fragment"
    }
   },
   "source": [
    "- Brief refresher on key concepts\n",
    "- **S**equential **N**eural **L**ikelihood **E**stimation\n",
    "    - Getting the posterior through Bayes' rule\n",
    "    - Why learn likelihoods?\n",
    "    - Likelihood learning demo\n",
    "    - Sampling via MCMC\n",
    "- **S**equential **N**eural **R**atio **E**stimation\n",
    "- Learning likelihoods vs. posteriors?\n",
    "- Further reading"
   ]
  },
  {
   "cell_type": "code",
   "execution_count": 1,
   "metadata": {
    "slideshow": {
     "slide_type": "skip"
    }
   },
   "outputs": [],
   "source": [
    "%load_ext autoreload\n",
    "%autoreload 2"
   ]
  },
  {
   "cell_type": "code",
   "execution_count": 2,
   "metadata": {
    "slideshow": {
     "slide_type": "skip"
    }
   },
   "outputs": [],
   "source": [
    "import sys"
   ]
  },
  {
   "cell_type": "code",
   "execution_count": 3,
   "metadata": {
    "slideshow": {
     "slide_type": "skip"
    }
   },
   "outputs": [],
   "source": [
    "from mdn import MultivariateGaussianMDN, mog_log_prob, mog_sample"
   ]
  },
  {
   "cell_type": "code",
   "execution_count": 4,
   "metadata": {
    "slideshow": {
     "slide_type": "skip"
    }
   },
   "outputs": [],
   "source": [
    "import os\n",
    "os.environ['KMP_DUPLICATE_LIB_OK']='True'"
   ]
  },
  {
   "cell_type": "code",
   "execution_count": 5,
   "metadata": {
    "slideshow": {
     "slide_type": "skip"
    }
   },
   "outputs": [],
   "source": [
    "import math\n",
    "import matplotlib as mpl\n",
    "import matplotlib.pyplot as plt\n",
    "import torch\n",
    "import torch.nn as nn\n",
    "import torch.nn.functional as F\n",
    "import torch.optim as optim\n",
    "from math import pi\n",
    "from torch.utils import data\n",
    "import numpy as np\n",
    "from torch import tensor, ones, zeros, eye\n",
    "from scipy.signal import argrelextrema\n",
    "#from sbi.analysis import pairplot\n",
    "#from sbi.utils import BoxUniform\n",
    "#from torch.distributions import Normalcon\n",
    "#import sdeint\n",
    "_ = torch.manual_seed(0)"
   ]
  },
  {
   "cell_type": "code",
   "execution_count": 6,
   "metadata": {
    "slideshow": {
     "slide_type": "skip"
    }
   },
   "outputs": [],
   "source": [
    "from numpy import *\n",
    "from scipy import integrate"
   ]
  },
  {
   "cell_type": "markdown",
   "metadata": {
    "slideshow": {
     "slide_type": "slide"
    }
   },
   "source": [
    "# Refresher: Prior, Joint, Likelihood and Posterior\n",
    "\n",
    "<img src=\"./figures/2_2_snpe/simple_joint_all.png\" alt=\"drawing\" width=\"1500\"/>\n",
    "\n",
    "Simulator parameters have prior distribution $p(\\theta)$.\n",
    "\n",
    "For any *fixed* parameters $\\theta$, observations are distributed according to the likelihood function $p(x|\\theta)$. This is a well-normalized probability density in $x$, but not in $\\theta$.\n",
    "\n",
    "Together, simulator parameters $\\theta$ and observations $x$ follow the joint density $p(\\theta, x) = p(\\theta)p(x|\\theta)$.\n",
    "\n",
    "For fixed observations $x_o$, we want the *posterior distribution* $p(\\theta | x_o)$"
   ]
  },
  {
   "cell_type": "markdown",
   "metadata": {
    "slideshow": {
     "slide_type": "slide"
    }
   },
   "source": [
    "## SNPE works by mapping any observations $x$ directly to a posterior $p(\\theta | x)$\n",
    "\n",
    "For example, we previously used a mixture density network to map from observations to the means, variances and weights of a Gaussian mixture:\n",
    "\n",
    "` weights_of_gaussians, means, variances = mdn.get_mixture_components(x)`\n"
   ]
  },
  {
   "cell_type": "markdown",
   "metadata": {
    "slideshow": {
     "slide_type": "fragment"
    }
   },
   "source": [
    "## But we can also get the posterior through the likelihood, by applying Bayes' rule \n",
    "\n",
    "$$ p(\\theta | x) = \\frac{p(x | \\theta) p(\\theta)}{p(x)}$$"
   ]
  },
  {
   "cell_type": "markdown",
   "metadata": {
    "slideshow": {
     "slide_type": "fragment"
    }
   },
   "source": [
    "We already know the prior $p(\\theta)$, so if we can calculate the likelihood $p(x | \\theta)$, we can evaluate $p(\\theta | x)$.\n"
   ]
  },
  {
   "cell_type": "markdown",
   "metadata": {
    "slideshow": {
     "slide_type": "fragment"
    }
   },
   "source": [
    "Caveat: we end up with a *scaled* version of $p(\\theta | x)$, with scaling factor $1 / p(x)$. But for fixed observations $x_o$ this scaling factor doesn't depend on $\\theta$.\n",
    "\n",
    "Later on, we will discuss how to obtain samples from the scaled posterior."
   ]
  },
  {
   "cell_type": "markdown",
   "metadata": {
    "slideshow": {
     "slide_type": "slide"
    }
   },
   "source": [
    "SBI using neural density estimators to learn likelihoods instead of posteriors is called (**S**equential) **N**eural **L**ikelihood **E**stimation or (S)NLE\n",
    "<img src=\"./figures/2_3_snle_snre/snle_paper.png\" alt=\"drawing\" width=\"400\"/>"
   ]
  },
  {
   "cell_type": "markdown",
   "metadata": {
    "slideshow": {
     "slide_type": "fragment"
    }
   },
   "source": [
    "Just like SNPE, SNLE reduces Simulation Based Inference / Likelihood Free Inference to a conditional density estimation problem, and uses neural density estimation to solve that problem.\n",
    "\n",
    "As before the training data are pairs $(\\theta_j, x_j)$ where parameters $\\theta_j$ were used for the simulation that generated observations $x_j$.\n",
    "\n",
    "But while SNPE learns the conditional distribution $\\theta|x$, SNLE learns $x|\\theta$ \n"
   ]
  },
  {
   "cell_type": "markdown",
   "metadata": {
    "slideshow": {
     "slide_type": "slide"
    }
   },
   "source": [
    "# Why SNLE?\n",
    "## We want the posterior $p(\\theta|x)$, so why learn the mapping $\\theta \\rightarrow p(x|\\theta)$ instead of $x \\rightarrow p(\\theta | x)$?\n",
    "\n"
   ]
  },
  {
   "cell_type": "markdown",
   "metadata": {
    "slideshow": {
     "slide_type": "fragment"
    }
   },
   "source": [
    "## Likelihood learning has two clear advantages:\n",
    "\n",
    "1. When $\\theta$ is not prior-sampled, SNPE requires correction since the posterior changes. But SNLE works out of the box on any $(\\theta, x)$ simulation pairs since the likelihood doesn't change. We can sample $\\theta$ from any distribution, or pick it with any algorithm.\n",
    "\n",
    "2. With several statistically independent observations $x_i$, $p(x|\\theta)=\\prod_i p(x_i | \\theta)$. Therefore we can learn the conditional distribution for just one observation. In contrast, learning $p(\\theta | x)$ requires the network to take all observations as input at once, a more difficult learning task.\n",
    "\n",
    "But SNLE also has disadvantages, and each problem could favor SNPE or SNLE. We'll return to this later with a full comparison."
   ]
  },
  {
   "cell_type": "markdown",
   "metadata": {
    "slideshow": {
     "slide_type": "slide"
    }
   },
   "source": [
    "## Now let's solve an SBI problem with SNLE!"
   ]
  },
  {
   "cell_type": "markdown",
   "metadata": {
    "slideshow": {
     "slide_type": "fragment"
    }
   },
   "source": [
    "### Simulator: 1D sinusoid + linear trend + noise\n",
    "$$x = 2\\theta + \\sin(6\\theta) + \\varepsilon \\\\\n",
    "\\varepsilon \\sim \\mathcal{N}(0, 0.3^2)$$"
   ]
  },
  {
   "cell_type": "markdown",
   "metadata": {
    "slideshow": {
     "slide_type": "fragment"
    }
   },
   "source": [
    "### Prior: Uniform on $(0, 1)$"
   ]
  },
  {
   "cell_type": "markdown",
   "metadata": {
    "slideshow": {
     "slide_type": "fragment"
    }
   },
   "source": [
    "### Observations: $x_o = 1$"
   ]
  },
  {
   "cell_type": "code",
   "execution_count": 7,
   "metadata": {
    "slideshow": {
     "slide_type": "skip"
    }
   },
   "outputs": [],
   "source": [
    "def simulator(theta):\n",
    "    return theta*2.0 + torch.sin(theta*6) + torch.randn(theta.shape) * 0.3\n",
    "\n",
    "theta = torch.rand(10000)  # Uniform on (0, 1)\n",
    "x = simulator(theta)\n",
    "\n",
    "x_o = torch.ones(1,1, dtype=torch.float32)"
   ]
  },
  {
   "cell_type": "code",
   "execution_count": 8,
   "metadata": {
    "slideshow": {
     "slide_type": "skip"
    }
   },
   "outputs": [
    {
     "data": {
      "image/png": "[encoded data removed]",
      "text/plain": [
       "<Figure size 216x216 with 1 Axes>"
      ]
     },
     "metadata": {
      "needs_background": "light"
     },
     "output_type": "display_data"
    }
   ],
   "source": [
    "fig, ax = plt.subplots(1, 1, figsize=(3, 3))\n",
    "plt.plot(theta.detach().numpy(), x.detach().numpy(), '.')\n",
    "\n",
    "ax.set_xticks([0, 1])\n",
    "ax.set_yticks([-1, 3.0])\n",
    "ax.set_xlabel(r\"$\\theta$\", fontsize=20.)\n",
    "ax.set_ylabel(r\"$x$\", fontsize=20.)\n",
    "#ax.set_title(r\"Training data\", fontsize=20)\n",
    "plt.savefig(\"figures/2_3_snle_snre/scatter.png\", dpi=200, bbox_inches=\"tight\")"
   ]
  },
  {
   "cell_type": "markdown",
   "metadata": {
    "slideshow": {
     "slide_type": "fragment"
    }
   },
   "source": [
    "### Training data: simulations with prior-samples $\\theta$\n",
    "\n",
    "<img src=\"./figures/2_3_snle_snre/scatter.png\" alt=\"drawing\" width=\"300\"/>"
   ]
  },
  {
   "cell_type": "markdown",
   "metadata": {
    "slideshow": {
     "slide_type": "slide"
    }
   },
   "source": [
    "## Learning the likelihood $p(x | \\theta)$\n",
    "\n",
    "We use a mixture density network as for SNPE, but now the roles of $x$ and $\\theta$ are switched."
   ]
  },
  {
   "cell_type": "code",
   "execution_count": 9,
   "metadata": {
    "slideshow": {
     "slide_type": "skip"
    }
   },
   "outputs": [],
   "source": [
    "_ = torch.manual_seed(0)"
   ]
  },
  {
   "cell_type": "code",
   "execution_count": 10,
   "metadata": {
    "slideshow": {
     "slide_type": "fragment"
    }
   },
   "outputs": [],
   "source": [
    "dataset = data.TensorDataset(theta.reshape(-1, 1), x.reshape(-1, 1))\n",
    "train_loader = data.DataLoader(\n",
    "    dataset, batch_size=50,\n",
    ")\n",
    "mdn = MultivariateGaussianMDN(\n",
    "    features=1,\n",
    "    hidden_net=nn.Sequential(\n",
    "        nn.Linear(1, 10),\n",
    "        nn.ReLU(),\n",
    "        nn.Linear(10, 10),\n",
    "        nn.ReLU(),\n",
    "        nn.Linear(10, 10),\n",
    "        nn.ReLU(),\n",
    "    ),\n",
    "    num_components=1,\n",
    "    hidden_features=10,\n",
    ")"
   ]
  },
  {
   "cell_type": "code",
   "execution_count": 11,
   "metadata": {
    "slideshow": {
     "slide_type": "fragment"
    }
   },
   "outputs": [],
   "source": [
    "opt = optim.Adam(mdn.parameters(), lr=0.001)\n",
    "for e in range(100):\n",
    "    for theta_batch, x_batch in train_loader:\n",
    "        opt.zero_grad()\n",
    "        weights_of_gaussians, means, variances = mdn.get_mixture_components(theta_batch)\n",
    "        out = mog_log_prob(x_batch, weights_of_gaussians, means, variances)\n",
    "        loss = -out.sum()\n",
    "        loss.backward()\n",
    "        opt.step()"
   ]
  },
  {
   "cell_type": "markdown",
   "metadata": {
    "slideshow": {
     "slide_type": "slide"
    }
   },
   "source": [
    "## Now let's test our likelihood estimate for several values of $\\theta$"
   ]
  },
  {
   "cell_type": "code",
   "execution_count": 12,
   "metadata": {
    "slideshow": {
     "slide_type": "skip"
    }
   },
   "outputs": [
    {
     "data": {
      "image/png": "[encoded data removed]",
      "text/plain": [
       "<Figure size 1440x1440 with 6 Axes>"
      ]
     },
     "metadata": {
      "needs_background": "light"
     },
     "output_type": "display_data"
    }
   ],
   "source": [
    "n = 5000\n",
    "theta_test = [0.25, 0.5, 0.75]\n",
    "\n",
    "bin_edges = np.linspace(-1, 3, 100)\n",
    "bin_width = np.diff(bin_edges[:2])\n",
    "bin_centers = bin_edges[:-1] + bin_width / 2\n",
    "\n",
    "plt.figure(figsize=(20, 20))\n",
    "\n",
    "for k, th in enumerate(theta_test):\n",
    "    # simulate\n",
    "    theta_vals = torch.ones(n) * th\n",
    "    x_vals = simulator(theta_vals).detach().numpy().reshape(-1)\n",
    "    \n",
    "    w, means, variances = mdn.get_mixture_components(torch.ones(1,1,) * th)  # get likelihood estimate\n",
    "    # sample x|\\theta based on the likelihood\n",
    "    samples = [mog_sample(w, means, variances) for _ in range(n)]\n",
    "    samples = torch.cat(samples, axis=0).detach().numpy().reshape(-1)\n",
    "    \n",
    "        \n",
    "    ax = plt.subplot(len(theta_test), 2, 1 + 2 * k)\n",
    "    plt.bar(bin_centers, np.histogram(x_vals, bin_edges)[0], width = bin_width * 0.8)\n",
    "    ax.set_ylabel(f\"$\\\\theta = {th}$\", fontsize=20., rotation=0, horizontalalignment='right')    \n",
    "    ax.set_yticks([])\n",
    "    if k == len(theta_test) - 1:\n",
    "        ax.set_xlabel(r\"$x$\", fontsize=20.)\n",
    "    if k == 0:\n",
    "        ax.set_title(r\"True $p(x|\\theta)$\", fontsize=20.)\n",
    "        \n",
    "    ax = plt.subplot(len(theta_test), 2, 2 + 2 * k)\n",
    "    plt.bar(bin_centers, np.histogram(samples, bin_edges)[0], width = bin_width * 0.8)\n",
    "    if k == len(theta_test) - 1:\n",
    "        ax.set_xlabel(r\"$x$\", fontsize=20.)\n",
    "    ax.set_yticks([])\n",
    "   \n",
    "    if k == 0:\n",
    "        ax.set_title(r\"Learned $p(x|\\theta)$\", fontsize=20.)\n",
    "    if k == len(theta_test) - 1:\n",
    "        ax.set_xlabel(r\"$x$\", fontsize=20.)\n",
    "        \n",
    "plt.savefig(\"figures/2_3_snle_snre/hists.png\", dpi=200, bbox_inches=\"tight\")"
   ]
  },
  {
   "cell_type": "markdown",
   "metadata": {
    "slideshow": {
     "slide_type": "fragment"
    }
   },
   "source": [
    "<img src=\"./figures/2_3_snle_snre/hists.png\" alt=\"drawing\" width=\"600\"/>    \n",
    "   \n",
    "## Our MDN has learned the mapping $\\theta \\rightarrow p(x|\\theta)$"
   ]
  },
  {
   "cell_type": "markdown",
   "metadata": {
    "slideshow": {
     "slide_type": "slide"
    }
   },
   "source": [
    "### Our MDN has now learned to calculate $p(x | \\theta)$ for any $x$ and $\\theta$.\n",
    "\n",
    "### We also know $p(\\theta)$.\n",
    "\n",
    "### But how can we sample from $p(\\theta |x) = \\frac{p(x | \\theta) p(\\theta)}{p(x)}$?\n",
    "\n",
    "We can evaluate the $p(\\theta |x)$ up to an unknown constant scaling factor. How can we use this to generate samples?"
   ]
  },
  {
   "cell_type": "markdown",
   "metadata": {
    "slideshow": {
     "slide_type": "slide"
    }
   },
   "source": [
    "We use **Markov Chain Monte Carlo**, a general technique for sampling from a density we can evaluate up to an unknown constant scaling factor.\n",
    "\n",
    "Basic idea: start with any $\\theta$, and randomly transform it according to $\\theta \\rightarrow \\mathcal T(\\theta)$\n",
    "\n",
    "The trick is to set up the random transformation $\\mathcal T$ to map $p(\\theta|x_o)$ onto itself: when $\\theta\\sim p(\\theta|x_o)$ we should also have $\\mathcal T(\\theta) \\sim p(\\theta|x_o)$. Then we  repeatedly apply $\\mathcal T$ to generate independent samples from $p(\\theta|x_o)$. "
   ]
  },
  {
   "cell_type": "markdown",
   "metadata": {
    "slideshow": {
     "slide_type": "fragment"
    }
   },
   "source": [
    "One way of doing this is using the Metropolis Hasting algorithm. We use a particularly simple form of this method as follows:\n",
    "\n",
    "$$ \\theta^\\prime = \\theta + z \\\\\n",
    "z \\sim \\mathcal N(0, 0.25^2) \\\\\n",
    "a = \\min\\left(1, \\frac{p(\\theta^\\prime|x_o)}{p(\\theta|x_o)}\\right) \\\\\n",
    "\\mathcal T(\\theta) = \\begin{cases}\n",
    "\\theta^\\prime\\quad\\quad\\quad\\text{with probability } a \\\\\n",
    "\\theta\\quad\\quad\\quad\\text{with probability } 1-a\n",
    "\\end{cases} $$"
   ]
  },
  {
   "cell_type": "markdown",
   "metadata": {
    "slideshow": {
     "slide_type": "fragment"
    }
   },
   "source": [
    "Because the posterior appears in the numerator and denominator of $a$, the unknown scaling factor cancels out and we can calculate $a$:\n",
    "\n",
    "$$\\frac{p(\\theta^\\prime|x_o)}{p(\\theta|x_o)} = \n",
    "\\frac{p(x_o|\\theta^\\prime) p(\\theta^\\prime)/p(x_o)}{p(x_o|\\theta)p(\\theta)/p(x_o)} = \\frac{p(x_o|\\theta^\\prime) p(\\theta^\\prime)}{p(x_o|\\theta)p(\\theta)}$$"
   ]
  },
  {
   "cell_type": "markdown",
   "metadata": {
    "slideshow": {
     "slide_type": "slide"
    }
   },
   "source": [
    "## Let's try it!"
   ]
  },
  {
   "cell_type": "code",
   "execution_count": 13,
   "metadata": {
    "slideshow": {
     "slide_type": "fragment"
    }
   },
   "outputs": [],
   "source": [
    "n = 100000  # MCMC steps\n",
    "\n",
    "def likelihood(theta, x):\n",
    "    w, means, variances = mdn.get_mixture_components(theta)\n",
    "    return torch.exp(mog_log_prob(x, w, means, variances)).detach().numpy()[0]\n",
    "    \n",
    "# start at the middle of the prior. doesn't matter where, as long as the prior is nonzero here\n",
    "theta = torch.zeros(1, 1) + 0.5\n",
    "\n",
    "likelihood_theta = likelihood(theta, x_o)\n",
    "prior_theta = 1.  # uniform prior on (0, 1)\n",
    "\n",
    "theta_samples = []\n",
    "for i in range(n):\n",
    "    thetaprime = theta + 0.25 * torch.randn(1, 1)  # random perturbation\n",
    "    \n",
    "    likelihood_thetaprime = likelihood(thetaprime, x_o)\n",
    "    \n",
    "    # uniform prior on (0, 1)\n",
    "    if thetaprime < 0 or thetaprime > 1:\n",
    "        prior_thetaprime = 0.\n",
    "    else:\n",
    "        prior_thetaprime = 1.\n",
    "\n",
    "    a = np.minimum(1.0, (likelihood_thetaprime * prior_thetaprime) / (likelihood_theta * prior_theta))\n",
    "    if np.random.rand() < a:\n",
    "        theta, likelihood_theta, prior_theta = thetaprime, likelihood_thetaprime, prior_thetaprime\n",
    "        \n",
    "    \n",
    "    theta_samples.append(theta.detach().numpy()[0,0])\n",
    "\n",
    "theta_samples = np.array(theta_samples)"
   ]
  },
  {
   "cell_type": "code",
   "execution_count": 14,
   "metadata": {
    "slideshow": {
     "slide_type": "skip"
    }
   },
   "outputs": [
    {
     "data": {
      "image/png": "[encoded data removed]",
      "text/plain": [
       "<Figure size 432x288 with 1 Axes>"
      ]
     },
     "metadata": {
      "needs_background": "light"
     },
     "output_type": "display_data"
    }
   ],
   "source": [
    "plt.plot(theta_samples[:300])\n",
    "plt.gca().set_yticks([0, 1])\n",
    "plt.yticks(fontsize=20)\n",
    "plt.xticks(fontsize=20)\n",
    "plt.xlabel('MCMC iteration', fontsize=20)\n",
    "plt.ylabel('$\\\\theta$', fontsize=20, rotation=0)\n",
    "plt.savefig(\"./figures/2_3_snle_snre/mcmc_samples.png\", dpi=200, bbox_inches=\"tight\")"
   ]
  },
  {
   "cell_type": "markdown",
   "metadata": {
    "slideshow": {
     "slide_type": "slide"
    }
   },
   "source": [
    "### Now we have samples from $p(\\theta|x_o)$\n",
    "\n",
    "<img src=\"./figures/2_3_snle_snre/mcmc_samples.png\" alt=\"drawing\" width=\"250\"/>    "
   ]
  },
  {
   "cell_type": "markdown",
   "metadata": {
    "slideshow": {
     "slide_type": "fragment"
    }
   },
   "source": [
    "But each $\\theta$ depends on the previous one, so the samples are correlated. Let's measure this:"
   ]
  },
  {
   "cell_type": "code",
   "execution_count": 15,
   "metadata": {
    "slideshow": {
     "slide_type": "fragment"
    }
   },
   "outputs": [],
   "source": [
    "kmax = 30\n",
    "cc = [np.corrcoef(theta_samples[:-k], theta_samples[k:])[0,1] for k in range(1, kmax)]"
   ]
  },
  {
   "cell_type": "code",
   "execution_count": 16,
   "metadata": {
    "slideshow": {
     "slide_type": "skip"
    }
   },
   "outputs": [
    {
     "data": {
      "image/png": "[encoded data removed]",
      "text/plain": [
       "<Figure size 432x288 with 1 Axes>"
      ]
     },
     "metadata": {
      "needs_background": "light"
     },
     "output_type": "display_data"
    }
   ],
   "source": [
    "plt.plot(np.arange(1, kmax), cc)\n",
    "plt.gca().set_yticks([0, 1])\n",
    "plt.xticks(fontsize=20)\n",
    "plt.gca().set_xticks(np.arange(0, kmax+1, 10))\n",
    "plt.yticks(fontsize=20)\n",
    "plt.xlabel('Number of MCMC steps', fontsize=20)\n",
    "plt.ylabel('Correlation of\\nnew and old $\\\\theta$', fontsize=20, rotation=0, horizontalalignment='right')\n",
    "plt.savefig(\"./figures/2_3_snle_snre/mcmc_corr.png\", dpi=200, bbox_inches=\"tight\")"
   ]
  },
  {
   "cell_type": "markdown",
   "metadata": {
    "scrolled": true,
    "slideshow": {
     "slide_type": "fragment"
    }
   },
   "source": [
    "<img src=\"./figures/2_3_snle_snre/mcmc_corr.png\" alt=\"drawing\" width=\"300\"/>\n",
    "\n",
    "To obtain independent posterior samples, we keep every 30-th MCMC step."
   ]
  },
  {
   "cell_type": "code",
   "execution_count": 17,
   "metadata": {
    "slideshow": {
     "slide_type": "skip"
    }
   },
   "outputs": [],
   "source": [
    "theta_samples_decimated = theta_samples[::30]\n",
    "\n",
    "bin_edges = np.linspace(0, 1, 101)\n",
    "bin_width = np.diff(bin_centers[:2])\n",
    "bin_centers = bin_edges[:-1] + bin_width / 2\n",
    "\n",
    "theta_hist = np.histogram(theta_samples_decimated, bin_edges)[0]"
   ]
  },
  {
   "cell_type": "code",
   "execution_count": 18,
   "metadata": {
    "scrolled": false,
    "slideshow": {
     "slide_type": "skip"
    }
   },
   "outputs": [
    {
     "data": {
      "image/png": "[encoded data removed]",
      "text/plain": [
       "<Figure size 432x288 with 1 Axes>"
      ]
     },
     "metadata": {
      "needs_background": "light"
     },
     "output_type": "display_data"
    }
   ],
   "source": [
    "plt.bar(bin_centers, theta_hist, width = bin_width * 0.8)\n",
    "plt.xlim(0, 1)\n",
    "plt.gca().set_xticks([0, 1])\n",
    "plt.xticks(fontsize=20)\n",
    "plt.gca().set_yticks([])\n",
    "plt.ylabel('Estimated \\n$p(\\\\theta | x_o)$', rotation=0, fontsize=20, horizontalalignment='right')\n",
    "plt.xlabel(r'$\\theta$', fontsize=20)\n",
    "plt.savefig(\"./figures/2_3_snle_snre/mcmc_posterior.png\", dpi=200, bbox_inches=\"tight\")"
   ]
  },
  {
   "cell_type": "markdown",
   "metadata": {
    "slideshow": {
     "slide_type": "slide"
    }
   },
   "source": [
    "### Finally, we use the remaining samples as our posterior\n",
    "\n",
    "<img src=\"./figures/2_3_snle_snre/mcmc_posterior.png\" alt=\"drawing\" width=\"300\"/>\n",
    "\n",
    "For this simple 1D problem, we can compare to a 'brute force' calculation:\n",
    "\n",
    "<img src=\"./figures/2_3_snle_snre/simple_joint_x_o_1.png\" alt=\"drawing\" width=\"300\"/>"
   ]
  },
  {
   "cell_type": "markdown",
   "metadata": {
    "slideshow": {
     "slide_type": "slide"
    }
   },
   "source": [
    "### Sequential Neural Ratio Estimation (SNRE)\n",
    "\n",
    "<img src=\"./figures/2_3_snle_snre/snre_paper.png\" alt=\"drawing\" width=\"300\"/>\n",
    "\n",
    "Instead of training a neural density estimator for $p(\\theta|x)$ or $p(x|\\theta)$, we train a *classifier* to distinguish between samples from $p(x, \\theta)$ and $p(x)p(\\theta)$."
   ]
  },
  {
   "cell_type": "markdown",
   "metadata": {
    "slideshow": {
     "slide_type": "fragment"
    }
   },
   "source": [
    "If for a pair of inputs $(x, \\theta)$, the trained classifier assign the probability $d$ that $x$ was simulated by $\\theta$, and not other random parameters from the prior, we can calculate\n",
    "\n",
    "$$ d / (1 - d) = p(x|\\theta) / p(x)$$"
   ]
  },
  {
   "cell_type": "markdown",
   "metadata": {
    "slideshow": {
     "slide_type": "fragment"
    }
   },
   "source": [
    "This is the same likelihood that we learned with SNLE, only now we have the normalization constant as well. We can use this to perform MCMC sampling as we did for SNLE.\n",
    "\n",
    "The advantage here is that training a classifier is usually easier than training a neural density estimator.\n",
    "\n",
    "However, a potential difficulty is that $d$ might be close to zero or one for many training pairs $(x, \\theta)$, which can cause difficulties during training."
   ]
  },
  {
   "cell_type": "markdown",
   "metadata": {
    "slideshow": {
     "slide_type": "slide"
    }
   },
   "source": [
    "### Comparing Our Three Methods\n",
    "**SNPE**\n",
    "\n",
    "**+** Fast amortized inference\n",
    "\n",
    "**-** Requires special corrections if $\\theta$ is not prior-sampled in the training data.\n",
    "\n",
    "**SNLE**\n",
    "\n",
    "**+** Likelihood factorizes for i.i.d. observations\n",
    "\n",
    "**+** Can generate training data with $\\theta$ from any distribution or algorithm\n",
    "\n",
    "**-** For high-dimensional observations, learning $p(x|\\theta)$ can be very challenging\n",
    "\n",
    "**-** Requires MCMC\n",
    "\n",
    "**SNRE**\n",
    "\n",
    "**+** Likelihood factorizes for i.i.d. observations\n",
    "\n",
    "**+** Training a classifier can be easier than training a NDE\n",
    "\n",
    "**-** Possible numerical issues when $d$ is close to zero or 1\n",
    "\n",
    "**-** Requires MCMC\n",
    "\n"
   ]
  },
  {
   "cell_type": "markdown",
   "metadata": {
    "slideshow": {
     "slide_type": "slide"
    }
   },
   "source": [
    "### Learning $p(\\theta|x)$ directly vs.  learning $p(x|\\theta)$ for MCMC\n",
    "\n",
    "- Consider $\\dim(x)$ and $\\dim(\\theta)$. Learning neural density estimators in high-dimensional spaces is hard, but neural nets can take high dimesional input easily. So use SNPE when $\\dim(x) >> \\dim(\\theta)$, and SNLE/SNRE when $\\dim(x) << \\dim(\\theta)$\n",
    "- Consider **structure** in $x$ or $\\theta$. When one of these is an image (or time series), we could use a CNN (RNN) to process it as input. Specialized neural density estimators also exist for structured outputs. Other structure (graphs, sets, etc.) can also be exploited.\n",
    "- Feasibility of MCMC depends on the shape and dimension of the posterior.\n",
    "- For high dimensional parameter spaces and expensive simulations, multi-round methods (initial posterior estimate used to guide simulations) are helpful. But SNPE might have issues when the prior has sharp boundaries, and repeated MCMC could be quite slow.\n",
    "- All of these considerations are active areas of research, and the set of SBI/LFI problems for which these methods have been tested remains small!"
   ]
  },
  {
   "cell_type": "markdown",
   "metadata": {
    "slideshow": {
     "slide_type": "slide"
    }
   },
   "source": [
    "## Further reading\n",
    "\n",
    "**SNL** Papamakarios, Sterratt & Murray. \"Sequential neural likelihood: Fast likelihood-free inference with autoregressive flows.\" AISTATS, 2019.\n",
    "\n",
    "**MCMC** Svensén & Bishop. \"Pattern recognition and machine learning.\" 2007.\n",
    "\n",
    "**SNRE** Hermans, Begy & Louppe. \"Likelihood-free mcmc with amortized approximate ratio estimators.\" ICML, 2020.\n",
    "\n",
    "Durkan, Murray & Papamakarios. \"On contrastive learning for likelihood-free inference.\" ICML, 2020.\n",
    "\n",
    "**Benchmarks** Durkan, George Papamakarios & Murray. \"Sequential neural methods for likelihood-free inference.\" arXiv, 2018.\n",
    "\n",
    "Lueckmann et al. \"Benchmarking Simulation-Based Inference.\" AISTATS, 2021.\n",
    "\n",
    "**..and beyond!** Brehmer, Johann, et al. \"Mining gold from implicit models to improve likelihood-free inference.\" PNAS, 2020.\n",
    "\n",
    "Cranmer, Kyle, Johann Brehmer, and Gilles Louppe. \"The frontier of simulation-based inference.\" PNAS, 2020."
   ]
  }
 ],
 "metadata": {
  "celltoolbar": "Slideshow",
  "kernelspec": {
   "display_name": "Python 3",
   "language": "python",
   "name": "python3"
  },
  "language_info": {
   "codemirror_mode": {
    "name": "ipython",
    "version": 3
   },
   "file_extension": ".py",
   "mimetype": "text/x-python",
   "name": "python",
   "nbconvert_exporter": "python",
   "pygments_lexer": "ipython3",
   "version": "3.7.4"
  }
 },
 "nbformat": 4,
 "nbformat_minor": 4
}
