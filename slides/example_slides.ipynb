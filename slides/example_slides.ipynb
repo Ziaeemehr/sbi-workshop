{
 "cells": [
  {
   "cell_type": "code",
   "execution_count": null,
   "metadata": {
    "slideshow": {
     "slide_type": "slide"
    }
   },
   "outputs": [],
   "source": [
    "from notebook.services.config import ConfigManager\n",
    "from traitlets.config.manager import BaseJSONConfigManager\n",
    "# set jupyter configurations\n",
    "path = \"/home/stefan/.jupyter/nbconfig\" # update with your path\n",
    "cm = BaseJSONConfigManager(config_dir=path)\n",
    "cm.update('livereveal', {\n",
    "              'theme': 'white',\n",
    "              'transition': 'fade',\n",
    "              'start_slideshow_at': 'selected',\n",
    "                'center' : False,\n",
    "                'width' : 1024,\n",
    "                'height': 768,   \n",
    "                'scroll': True,\n",
    "                'slideNumber': True,\n",
    "})\n",
    "import torch\n",
    "from sbi import utils as utils\n",
    "from sbi import analysis as analysis\n",
    "from sbi.inference.base import infer\n",
    "import numpy as np\n",
    "import matplotlib.pyplot as plt\n",
    "from ipywidgets import interact, interactive, fixed, interact_manual\n",
    "import ipywidgets as widgets"
   ]
  },
  {
   "cell_type": "markdown",
   "metadata": {
    "slideshow": {
     "slide_type": "slide"
    }
   },
   "source": [
    "### Simulating Waves\n",
    "\n",
    "- Let's say, we are investigating sine waves\n",
    "- Interested in finding amplitude $\\theta$ given an observed wave $x$\n",
    "    - Posterior $p(\\theta | x)$\n",
    "- We can implicitly define likelihood $p(x | \\theta)$ by building simulator\n",
    "- Let's have a look at this simulator"
   ]
  },
  {
   "cell_type": "code",
   "execution_count": null,
   "metadata": {
    "slideshow": {
     "slide_type": "slide"
    }
   },
   "outputs": [],
   "source": [
    "def wave_simulator(theta, plot=False):\n",
    "    \"\"\" f(x | theta) = theta * sin(x) \"\"\"\n",
    "    xs = np.linspace(0,10,100) # x values\n",
    "    observation = theta * torch.sin(torch.Tensor(xs))  + torch.randn(len(xs)) * 0.1 # y values\n",
    "    if plot: # make it usable in interactive plot\n",
    "        plt.plot(observation,label=f'$\\\\theta={theta}$',color='#FF1053')\n",
    "        plt.ylim(-5, 5)\n",
    "        plt.legend()\n",
    "        plt.show()\n",
    "\n",
    "    return observation"
   ]
  },
  {
   "cell_type": "markdown",
   "metadata": {
    "slideshow": {
     "slide_type": "subslide"
    }
   },
   "source": [
    "You can play around with the simulator and produce different observations by adjusting the $\\theta$ parameter."
   ]
  },
  {
   "cell_type": "code",
   "execution_count": null,
   "metadata": {
    "slideshow": {
     "slide_type": "slide"
    }
   },
   "outputs": [],
   "source": [
    "simulation = interactive(wave_simulator, theta=(-2.0, 2.0), plot=True)\n",
    "simulation"
   ]
  },
  {
   "cell_type": "markdown",
   "metadata": {
    "slideshow": {
     "slide_type": "slide"
    }
   },
   "source": [
    "- Use simulator to produce many observations $x$ and form synthetic dataset\n",
    "- Choose sample size $n$ \n",
    "- Define uniform distribution to represent prior belive about what $\\theta$ could be\n",
    "- Let `sbi` do the work"
   ]
  },
  {
   "cell_type": "code",
   "execution_count": null,
   "metadata": {
    "slideshow": {
     "slide_type": "subslide"
    }
   },
   "outputs": [],
   "source": [
    "simulation_hyperparameters = interactive(lambda sample_size, prior_lower, prior_upper: (sample_size, prior_lower, prior_upper),\n",
    "                          sample_size=(0,1000),prior_lower=(-2,-0.1),prior_upper=(0.1,2))\n",
    "\n",
    "simulation_hyperparameters"
   ]
  },
  {
   "cell_type": "code",
   "execution_count": null,
   "metadata": {
    "slideshow": {
     "slide_type": "slide"
    }
   },
   "outputs": [],
   "source": [
    "# initiate samples \n",
    "num_samples, prior_lower, prior_upper = simulation_hyperparameters.result\n",
    "\n",
    "samples = np.zeros((num_samples, len(np.linspace(0,10,100))))\n",
    "\n",
    "# create prior\n",
    "prior = utils.BoxUniform(low=prior_lower*torch.ones(1), high=prior_upper*torch.ones(1))\n",
    "\n",
    "# run simulator and infer \n",
    "posterior = infer(wave_simulator, prior, method='SNPE', num_simulations=num_samples)"
   ]
  },
  {
   "cell_type": "markdown",
   "metadata": {
    "slideshow": {
     "slide_type": "slide"
    }
   },
   "source": [
    "- Great! We now have a posterior over $\\theta$\n",
    "- Let's have a look whether it is good\n",
    "- Use simulator to create another example observation\n",
    "- See whether probability mass accumulates at chosen $\\theta$"
   ]
  },
  {
   "cell_type": "code",
   "execution_count": null,
   "metadata": {
    "slideshow": {
     "slide_type": "slide"
    }
   },
   "outputs": [],
   "source": [
    " simulation"
   ]
  },
  {
   "cell_type": "code",
   "execution_count": null,
   "metadata": {
    "slideshow": {
     "slide_type": "slide"
    }
   },
   "outputs": [],
   "source": [
    "sample = posterior.sample((10000,), x=simulation.result)\n",
    "\n",
    "_ = analysis.pairplot(sample, limits=[[-2,2],[-2,2],[-2,2]], figsize=(6,6))"
   ]
  },
  {
   "cell_type": "markdown",
   "metadata": {
    "slideshow": {
     "slide_type": "subslide"
    }
   },
   "source": [
    "Are you satisfied with the conditional posterior? If not, maybe, try out different hyperparameters."
   ]
  }
 ],
 "metadata": {
  "celltoolbar": "Slideshow",
  "kernelspec": {
   "display_name": "Python 3",
   "language": "python",
   "name": "python3"
  },
  "language_info": {
   "codemirror_mode": {
    "name": "ipython",
    "version": 3
   },
   "file_extension": ".py",
   "mimetype": "text/x-python",
   "name": "python",
   "nbconvert_exporter": "python",
   "pygments_lexer": "ipython3",
   "version": "3.7.10"
  }
 },
 "nbformat": 4,
 "nbformat_minor": 2
}
