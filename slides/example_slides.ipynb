{
 "cells": [
  {
   "cell_type": "markdown",
   "metadata": {
    "slideshow": {
     "slide_type": "slide"
    }
   },
   "source": [
    "<!--  Title slide -->\n",
    "<h1><strong>Module 1: Intro to SBI (module name) </strong></h1>\n",
    "<h2> <em> Simulation-based Inference for scientific discovery </em></h2>\n",
    "\n",
    "<h3>Instructor (your name)</h3>"
   ]
  },
  {
   "cell_type": "code",
   "execution_count": null,
   "metadata": {
    "slideshow": {
     "slide_type": "slide"
    }
   },
   "outputs": [],
   "source": [
    "# imports\n",
    "import torch\n",
    "from sbi import utils as utils\n",
    "from sbi import analysis as analysis\n",
    "from sbi.inference.base import infer\n",
    "import numpy as np\n",
    "import matplotlib.pyplot as plt\n",
    "from ipywidgets import interact, interactive, fixed, interact_manual\n",
    "import ipywidgets as widgets\n",
    "\n",
    "\n",
    "def plotting_boilerplate(ax, xlabel='',ylabel='',title='',xlim=None,ylim=None,legend=True, grid=False):\n",
    "    \"\"\" Helper function to avoid wasting cell space on plotting code. Feel free to extend. \"\"\"\n",
    "    ax.set_xlabel(xlabel)\n",
    "    ax.set_ylabel(ylabel)\n",
    "    if legend:\n",
    "        ax.legend()\n",
    "    if grid:\n",
    "        ax.grid(True)\n",
    "    ax.set_xlim(xlim)\n",
    "    ax.set_ylim(ylim)\n",
    "    ax.set_title(title)\n",
    "    plt.show()"
   ]
  },
  {
   "cell_type": "markdown",
   "metadata": {
    "slideshow": {
     "slide_type": "slide"
    }
   },
   "source": [
    "<!--  Theory slide -->\n",
    "<!-- ## corresponds to section name, ### to subsection-->\n",
    "## Simulators for science (section name)\n",
    "### Simulators (sub-section name)\n",
    "- Let's say, we are investigating sine waves\n",
    "- Interested in finding amplitude $\\theta$ given an observed wave $x$\n",
    "    - Posterior $p(\\theta | x)$\n",
    "- We can implicitly define likelihood $p(x | \\theta)$ by building simulator\n",
    "- Let's have a look at this simulator"
   ]
  },
  {
   "cell_type": "markdown",
   "metadata": {
    "slideshow": {
     "slide_type": "slide"
    }
   },
   "source": [
    "### Example simulator - Practical 🛠️\n",
    "\n",
    "- With our theoretic background on sine waves, we can now explore practical examples"
   ]
  },
  {
   "cell_type": "code",
   "execution_count": null,
   "metadata": {
    "slideshow": {
     "slide_type": "subslide"
    }
   },
   "outputs": [],
   "source": [
    "# code slides for practical\n",
    "\n",
    "def wave_simulator(theta, plot=False):\n",
    "    \"\"\" f(x | theta) = theta * sin(x) -- intented to be used in interactive widget. \"\"\"\n",
    "    xs = np.linspace(0,10,100) # x values\n",
    "    observation = theta * torch.sin(torch.Tensor(xs))  + torch.randn(len(xs)) * 0.1 # y values\n",
    "    if plot: # make it usable in interactive plot -- boilerplate for functions to be used in interactive widgets\n",
    "        fig, ax = plt.subplots()\n",
    "        ax.plot(observation,label=f'$\\\\theta={theta}$',color='#FF1053')\n",
    "        plotting_boilerplate(ax, ylim=(-5,5), legend=True) # here we make use of the plotting function from above\n",
    "\n",
    "    return observation\n",
    "\n",
    "# code, text that belongs together (i.e. because of shared variables) can be navigated downwards in slide mode.\n",
    "# This is done, by selecting Sub-Slide in the dropdown menu on the top right. \n",
    "# Will keep this whole practical as Sub-Slides"
   ]
  },
  {
   "cell_type": "markdown",
   "metadata": {
    "slideshow": {
     "slide_type": "subslide"
    }
   },
   "source": [
    "You can play around with the simulator and produce different observations by adjusting the $\\theta$ parameter."
   ]
  },
  {
   "cell_type": "code",
   "execution_count": null,
   "metadata": {
    "slideshow": {
     "slide_type": "subslide"
    }
   },
   "outputs": [],
   "source": [
    "# boilerplate for interactive widgets\n",
    "simulation = interactive(wave_simulator, theta=(-2.0, 2.0), plot=True)\n",
    "simulation"
   ]
  },
  {
   "cell_type": "markdown",
   "metadata": {
    "slideshow": {
     "slide_type": "subslide"
    }
   },
   "source": [
    "- Use simulator to produce many observations $x$ and form synthetic dataset\n",
    "- Choose sample size $n$ \n",
    "- Define uniform distribution to represent prior belive about what $\\theta$ could be\n",
    "- Let `sbi` do the work"
   ]
  },
  {
   "cell_type": "code",
   "execution_count": null,
   "metadata": {
    "slideshow": {
     "slide_type": "subslide"
    }
   },
   "outputs": [],
   "source": [
    "# initiate samples \n",
    "num_samples, prior_lower, prior_upper = 500, -1, 1 # try out different values and see which work well and why\n",
    "\n",
    "samples = np.zeros((num_samples, len(np.linspace(0,10,100))))\n",
    "\n",
    "# create prior\n",
    "prior = utils.BoxUniform(low=prior_lower*torch.ones(1), high=prior_upper*torch.ones(1))\n",
    "\n",
    "# run simulator and infer \n",
    "posterior = infer(wave_simulator, prior, method='SNPE', num_simulations=num_samples)"
   ]
  },
  {
   "cell_type": "markdown",
   "metadata": {
    "slideshow": {
     "slide_type": "subslide"
    }
   },
   "source": [
    "- Great! We now have a posterior over $\\theta$\n",
    "- Let's have a look whether it is good\n",
    "- Use simulator to create another example observation\n",
    "- See whether probability mass accumulates at chosen $\\theta$"
   ]
  },
  {
   "cell_type": "code",
   "execution_count": null,
   "metadata": {
    "slideshow": {
     "slide_type": "subslide"
    }
   },
   "outputs": [],
   "source": [
    "simulation"
   ]
  },
  {
   "cell_type": "code",
   "execution_count": null,
   "metadata": {
    "slideshow": {
     "slide_type": "subslide"
    }
   },
   "outputs": [],
   "source": [
    "# the simulation.result is boilerplate to obtain the returned values of the function used in the widget\n",
    "sample = posterior.sample((10000,), x=simulation.result) \n",
    "_ = analysis.pairplot(sample, limits=[[-2,2],[-2,2],[-2,2]], figsize=(6,6))\n",
    "plt.show()"
   ]
  },
  {
   "cell_type": "markdown",
   "metadata": {
    "slideshow": {
     "slide_type": "subslide"
    }
   },
   "source": [
    "Are you satisfied with the conditional posterior? If not, maybe, try out different hyperparameters."
   ]
  }
 ],
 "metadata": {
  "celltoolbar": "Slideshow",
  "kernelspec": {
   "display_name": "Python 3",
   "language": "python",
   "name": "python3"
  },
  "language_info": {
   "codemirror_mode": {
    "name": "ipython",
    "version": 3
   },
   "file_extension": ".py",
   "mimetype": "text/x-python",
   "name": "python",
   "nbconvert_exporter": "python",
   "pygments_lexer": "ipython3",
   "version": "3.7.10"
  },
  "rise": {
   "enable_chalkboard": true,
   "scroll": true
  }
 },
 "nbformat": 4,
 "nbformat_minor": 2
}
