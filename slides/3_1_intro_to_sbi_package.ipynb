{
 "cells": [
  {
   "cell_type": "markdown",
   "id": "b9863a73",
   "metadata": {
    "slideshow": {
     "slide_type": "slide"
    }
   },
   "source": [
    "# `sbi` -- a toolkit for simulation-based inference\n",
    "\n",
    "Demo at https://github.com/mackelab/sbi\n",
    "\n",
    "### Installation\n",
    "`pip install sbi`"
   ]
  },
  {
   "cell_type": "markdown",
   "id": "fbcc2f3d",
   "metadata": {
    "slideshow": {
     "slide_type": "slide"
    }
   },
   "source": [
    "## Simple vs. flexible interface\n",
    "\n",
    "### What we need to run `sbi`\n",
    "- **prior**: `PyTorch` distribution or `scipy` distribution over parameters\n",
    "- **simulator**: python function `f(parameters) -> data`\n",
    "\n",
    "### Simple interface\n",
    "`parameter_posterior = infer(simulator, prior, method='SNPE', num_simulations=100)`"
   ]
  },
  {
   "cell_type": "markdown",
   "id": "977db18a",
   "metadata": {
    "slideshow": {
     "slide_type": "slide"
    }
   },
   "source": [
    "## Flexible interface \n",
    "\n",
    "### Three steps\n",
    "1. (pre-)simulate\n",
    "2. train density estimator\n",
    "3. obtain posterior"
   ]
  },
  {
   "cell_type": "markdown",
   "id": "3f06c036",
   "metadata": {
    "slideshow": {
     "slide_type": "subslide"
    }
   },
   "source": [
    "### 1. Simulate"
   ]
  },
  {
   "cell_type": "code",
   "execution_count": null,
   "id": "38ec0787",
   "metadata": {
    "slideshow": {
     "slide_type": "skip"
    }
   },
   "outputs": [],
   "source": [
    "import torch\n",
    "from torch import zeros, ones\n",
    "\n",
    "import sbi\n",
    "from sbi.utils import BoxUniform\n",
    "from sbi.inference import prepare_for_sbi, simulate_for_sbi, SNPE, SNLE, SNRE\n",
    "from sbi.analysis import pairplot"
   ]
  },
  {
   "cell_type": "code",
   "execution_count": null,
   "id": "3f963904",
   "metadata": {
    "slideshow": {
     "slide_type": "fragment"
    }
   },
   "outputs": [],
   "source": [
    "# Uniform prior in three dimensions.\n",
    "prior = BoxUniform(-ones(3), ones(3))\n",
    "\n",
    "# Gaussian simulator.\n",
    "def simulator(theta, scale=0.1):\n",
    "    return scale * torch.randn(theta.shape) + theta"
   ]
  },
  {
   "cell_type": "code",
   "execution_count": null,
   "id": "cfe17dd9",
   "metadata": {
    "slideshow": {
     "slide_type": "fragment"
    }
   },
   "outputs": [],
   "source": [
    "# Run simulations ourselves\n",
    "num_simulations = 1000\n",
    "# Check simulator and prior (batch dimensions, processing scipy prior etc.)\n",
    "simulator, prior = prepare_for_sbi(simulator, prior)\n",
    "\n",
    "theta = prior.sample((num_simulations, ))\n",
    "\n",
    "x = simulator(theta)"
   ]
  },
  {
   "cell_type": "code",
   "execution_count": null,
   "id": "8fb5e844",
   "metadata": {
    "slideshow": {
     "slide_type": "fragment"
    }
   },
   "outputs": [],
   "source": [
    "# or with sbi utils (parallelization!)\n",
    "theta, x = simulate_for_sbi(simulator, prior, num_simulations, num_workers=1)"
   ]
  },
  {
   "cell_type": "markdown",
   "id": "1c5ce48d",
   "metadata": {
    "slideshow": {
     "slide_type": "subslide"
    }
   },
   "source": [
    "### 2. Train density estimator"
   ]
  },
  {
   "cell_type": "code",
   "execution_count": null,
   "id": "b3e38f48",
   "metadata": {
    "slideshow": {
     "slide_type": "fragment"
    }
   },
   "outputs": [],
   "source": [
    "# Create inference object: choose method and estimator\n",
    "inferer = SNPE(prior, density_estimator=\"mdn\", device=\"cpu\")  # SNLE, SNRE"
   ]
  },
  {
   "cell_type": "code",
   "execution_count": null,
   "id": "2f95c29c",
   "metadata": {
    "slideshow": {
     "slide_type": "fragment"
    }
   },
   "outputs": [],
   "source": [
    "# Append training data\n",
    "inferer = inferer.append_simulations(theta, x)\n",
    "\n",
    "# Train\n",
    "density_estimator = inferer.train()  # Lots of training settings."
   ]
  },
  {
   "cell_type": "markdown",
   "id": "b6c667e2",
   "metadata": {
    "slideshow": {
     "slide_type": "subslide"
    }
   },
   "source": [
    "### 3. Obtain posterior"
   ]
  },
  {
   "cell_type": "code",
   "execution_count": null,
   "id": "5a433162",
   "metadata": {
    "slideshow": {
     "slide_type": "fragment"
    }
   },
   "outputs": [],
   "source": [
    "# Build posterior using trained density estimator\n",
    "posterior = inferer.build_posterior(density_estimator)  # Posterior sampling settings."
   ]
  },
  {
   "cell_type": "code",
   "execution_count": null,
   "id": "4c2ae312",
   "metadata": {
    "scrolled": true,
    "slideshow": {
     "slide_type": "fragment"
    }
   },
   "outputs": [],
   "source": [
    "# Generate samples\n",
    "theta_o = prior.sample((1,))\n",
    "x_o = simulator(theta_o)\n",
    "num_samples = 1000\n",
    "snpe_posterior_samples = posterior.sample((num_samples,), x=x_o)"
   ]
  },
  {
   "cell_type": "code",
   "execution_count": null,
   "id": "4d459075",
   "metadata": {
    "slideshow": {
     "slide_type": "fragment"
    }
   },
   "outputs": [],
   "source": [
    "pairplot(snpe_posterior_samples, points=theta_o, points_colors=[\"k\"], upper=\"scatter\", limits=[[-1, 1]], figsize=(5,5));"
   ]
  },
  {
   "cell_type": "markdown",
   "id": "dfe9e877",
   "metadata": {
    "slideshow": {
     "slide_type": "slide"
    }
   },
   "source": [
    "## Practical: Inference with SNPE, SNLE and SNRE.\n",
    "\n",
    "### inference problem\n",
    "$$ \\text{prior: } \\theta \\sim \\mathcal{N}(0, I) \\\\ \n",
    "\\text{simulator: } x \\sim \\mathcal{N}(\\theta, \\; 0.1 \\; I)\n",
    "$$\n",
    "\n",
    "1. [optional] Explore the `sbi` documentation, have a look at the API references on the website etc. \n",
    "\n",
    "2. Repeat the steps above to run inference with `SNPE`.\n",
    "\n",
    "3. Try the other two methods you learned about: [`SNLE`](https://www.mackelab.org/sbi/reference/#sbi.inference.snle.snle_a.SNLE_A), which estimates the likelihood to then run MCMC, and [`SNRE`](https://www.mackelab.org/sbi/reference/#sbi.inference.snre.snre_b.SNRE_B) which trains a classifier to approximate likelihood ratios to then run MCMC. \n",
    "4. Do you notice any differences when drawing posterior samples, if yes, why?\n",
    "\n",
    "5. [optional] Work through a couple of the notebooks in the `sbi` repository (`/tutorials`)."
   ]
  },
  {
   "cell_type": "markdown",
   "id": "788e8323",
   "metadata": {
    "slideshow": {
     "slide_type": "slide"
    }
   },
   "source": [
    "## Solutions and open questions"
   ]
  },
  {
   "cell_type": "markdown",
   "id": "31e3c754",
   "metadata": {
    "slideshow": {
     "slide_type": "slide"
    }
   },
   "source": [
    "### Inference with SNLE"
   ]
  },
  {
   "cell_type": "code",
   "execution_count": null,
   "id": "bc3642eb",
   "metadata": {
    "slideshow": {
     "slide_type": "fragment"
    }
   },
   "outputs": [],
   "source": [
    "inferer = SNLE(prior, density_estimator=\"mdn\")\n",
    "inferer = inferer.append_simulations(theta, x)\n",
    "likelihood_estimator = inferer.train(training_batch_size=50)\n",
    "posterior = inferer.build_posterior(mcmc_method=\"slice_np_vectorized\", \n",
    "                                    mcmc_parameters=dict(thin=10))"
   ]
  },
  {
   "cell_type": "code",
   "execution_count": null,
   "id": "7b85d770",
   "metadata": {
    "slideshow": {
     "slide_type": "fragment"
    }
   },
   "outputs": [],
   "source": [
    "# Sampling with MCMC\n",
    "snle_posterior_samples = posterior.sample((num_samples,), x=x_o)"
   ]
  },
  {
   "cell_type": "markdown",
   "id": "cee85927",
   "metadata": {
    "cell_style": "center",
    "slideshow": {
     "slide_type": "slide"
    }
   },
   "source": [
    "### Inference with SNRE"
   ]
  },
  {
   "cell_type": "code",
   "execution_count": null,
   "id": "ee144fbe",
   "metadata": {
    "slideshow": {
     "slide_type": "fragment"
    }
   },
   "outputs": [],
   "source": [
    "inferer = SNRE(prior, classifier=\"mlp\")  # passing a classifier, could be 'resnet' as well.\n",
    "inferer = inferer.append_simulations(theta, x)\n",
    "likelihood_estimator = inferer.train(training_batch_size=50)\n",
    "posterior = inferer.build_posterior(mcmc_method=\"slice\",  # using pyro slice sampling here\n",
    "                                    mcmc_parameters=dict(thin=10))"
   ]
  },
  {
   "cell_type": "code",
   "execution_count": null,
   "id": "4a7c36e5",
   "metadata": {
    "slideshow": {
     "slide_type": "fragment"
    }
   },
   "outputs": [],
   "source": [
    "# Sampling with MCMC\n",
    "snre_posterior_samples = posterior.sample((num_samples,), x=x_o)"
   ]
  },
  {
   "cell_type": "markdown",
   "id": "d1145931",
   "metadata": {
    "slideshow": {
     "slide_type": "slide"
    }
   },
   "source": [
    "## Comparing posterior samples from all three methods"
   ]
  },
  {
   "cell_type": "code",
   "execution_count": null,
   "id": "d3d3c3b3",
   "metadata": {
    "slideshow": {
     "slide_type": "subslide"
    }
   },
   "outputs": [],
   "source": [
    "pairplot([snpe_posterior_samples, snle_posterior_samples, snre_posterior_samples],\n",
    "         points=theta_o, points_colors=[\"k\"], upper=\"scatter\", limits=[[-1, 1]], figsize=(5,5));"
   ]
  },
  {
   "cell_type": "markdown",
   "id": "c46b5a0c",
   "metadata": {
    "slideshow": {
     "slide_type": "slide"
    }
   },
   "source": [
    "## Passing different priors for different parameters"
   ]
  },
  {
   "cell_type": "code",
   "execution_count": null,
   "id": "b42726d5",
   "metadata": {
    "slideshow": {
     "slide_type": "subslide"
    }
   },
   "outputs": [],
   "source": [
    "# just pass a list of prior in the order corresponding to the parameters\n",
    "simulator, prior = prepare_for_sbi(simulator, prior = [\n",
    "    BoxUniform(-ones(2), ones(2)), \n",
    "    BoxUniform(zeros(1), 2 * ones(1)),  # the last parameter has different prior bounds. Could also be a Gamma() etc. \n",
    "])\n",
    "\n",
    "inferer = SNLE(prior)\n",
    "# ..."
   ]
  }
 ],
 "metadata": {
  "celltoolbar": "Slideshow",
  "kernelspec": {
   "display_name": "Python 3 (ipykernel)",
   "language": "python",
   "name": "python3"
  },
  "language_info": {
   "codemirror_mode": {
    "name": "ipython",
    "version": 3
   },
   "file_extension": ".py",
   "mimetype": "text/x-python",
   "name": "python",
   "nbconvert_exporter": "python",
   "pygments_lexer": "ipython3",
   "version": "3.7.10"
  }
 },
 "nbformat": 4,
 "nbformat_minor": 5
}
