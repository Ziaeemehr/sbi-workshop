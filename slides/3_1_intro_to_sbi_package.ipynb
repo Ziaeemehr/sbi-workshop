{
 "cells": [
  {
   "cell_type": "markdown",
   "id": "e98be10b",
   "metadata": {},
   "source": [
    "TBD."
   ]
  },
  {
   "cell_type": "code",
   "execution_count": null,
   "id": "40ee05e9",
   "metadata": {},
   "outputs": [],
   "source": []
  }
 ],
 "metadata": {
  "kernelspec": {
   "display_name": "Python 3.8.3 64-bit",
   "language": "python",
   "name": "python38364bitcee550ab67d24f3cae8fb0c41293cc24"
  }
 },
 "nbformat": 4,
 "nbformat_minor": 5
}
