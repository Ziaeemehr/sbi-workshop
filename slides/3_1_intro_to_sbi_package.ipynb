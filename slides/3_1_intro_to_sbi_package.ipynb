{
 "cells": [
  {
   "cell_type": "markdown",
   "id": "5719d04c",
   "metadata": {
    "slideshow": {
     "slide_type": "slide"
    }
   },
   "source": [
    "# `sbi` -- a toolkit for simulation-based inference\n",
    "\n",
    "https://github.com/mackelab/sbi\n",
    "\n",
    "### Installation\n",
    "`pip install sbi`"
   ]
  },
  {
   "cell_type": "markdown",
   "id": "54a360dd",
   "metadata": {
    "slideshow": {
     "slide_type": "slide"
    }
   },
   "source": [
    "## Simple vs. flexible interface\n",
    "\n",
    "### What we need to run `sbi`\n",
    "- **prior**: `PyTorch` distribution or `scipy` distribution over parameters\n",
    "- **simulator**: python function `f(parameters) -> data`\n",
    "\n",
    "### Simple interface\n",
    "`parameter_posterior = infer(simulator, prior, method='SNPE', num_simulations=100)`"
   ]
  },
  {
   "cell_type": "markdown",
   "id": "b01006ba",
   "metadata": {
    "slideshow": {
     "slide_type": "slide"
    }
   },
   "source": [
    "## Flexible interface \n",
    "\n",
    "### Three steps\n",
    "1. (pre-)simulate\n",
    "2. train density estimator\n",
    "3. obtain posterior"
   ]
  },
  {
   "cell_type": "markdown",
   "id": "6ed231a2",
   "metadata": {
    "slideshow": {
     "slide_type": "subslide"
    }
   },
   "source": [
    "### 1. Simulate"
   ]
  },
  {
   "cell_type": "code",
   "execution_count": null,
   "id": "d6b23ca6",
   "metadata": {
    "slideshow": {
     "slide_type": "skip"
    }
   },
   "outputs": [],
   "source": [
    "import torch\n",
    "from torch import zeros, ones\n",
    "\n",
    "import sbi\n",
    "from sbi.utils import BoxUniform\n",
    "from sbi.inference import prepare_for_sbi, simulate_for_sbi, SNPE\n",
    "from sbi.analysis import pairplot"
   ]
  },
  {
   "cell_type": "code",
   "execution_count": null,
   "id": "3d325b8d",
   "metadata": {
    "slideshow": {
     "slide_type": "fragment"
    }
   },
   "outputs": [],
   "source": [
    "# Uniform prior in three dimensions.\n",
    "prior = BoxUniform(-ones(3), ones(3))\n",
    "\n",
    "# Gaussian simulator.\n",
    "def simulator(theta, scale=0.1):\n",
    "    return scale * torch.randn(theta.shape) + theta"
   ]
  },
  {
   "cell_type": "code",
   "execution_count": null,
   "id": "5f17fa3a",
   "metadata": {
    "slideshow": {
     "slide_type": "fragment"
    }
   },
   "outputs": [],
   "source": [
    "# Run simulations by hand\n",
    "num_simulations = 100\n",
    "simulator, prior = prepare_for_sbi(simulator, prior)\n",
    "\n",
    "theta = prior.sample((num_simulations, ))\n",
    "x = simulator(theta)"
   ]
  },
  {
   "cell_type": "code",
   "execution_count": null,
   "id": "53c571ed",
   "metadata": {
    "slideshow": {
     "slide_type": "fragment"
    }
   },
   "outputs": [],
   "source": [
    "# or with sbi utils (parallelization!)\n",
    "theta, x = simulate_for_sbi(simulator, prior, num_simulations, num_workers=1)"
   ]
  },
  {
   "cell_type": "markdown",
   "id": "b2575413",
   "metadata": {
    "slideshow": {
     "slide_type": "subslide"
    }
   },
   "source": [
    "### 2. Train density estimator"
   ]
  },
  {
   "cell_type": "code",
   "execution_count": null,
   "id": "6232a403",
   "metadata": {
    "slideshow": {
     "slide_type": "fragment"
    }
   },
   "outputs": [],
   "source": [
    "# Create inference object: choose method and estimator\n",
    "inferer = SNPE(prior, density_estimator=\"mdn\", device=\"cpu\")  # SNLE, SNRE"
   ]
  },
  {
   "cell_type": "code",
   "execution_count": null,
   "id": "670477d8",
   "metadata": {
    "slideshow": {
     "slide_type": "fragment"
    }
   },
   "outputs": [],
   "source": [
    "# Append training data\n",
    "inferer = inferer.append_simulations(theta, x)\n",
    "\n",
    "# Train\n",
    "density_estimator = inferer.train()  # Lots of training settings."
   ]
  },
  {
   "cell_type": "markdown",
   "id": "b91d376c",
   "metadata": {
    "slideshow": {
     "slide_type": "subslide"
    }
   },
   "source": [
    "### 3. Obtain posterior"
   ]
  },
  {
   "cell_type": "code",
   "execution_count": null,
   "id": "4cd75a50",
   "metadata": {
    "slideshow": {
     "slide_type": "fragment"
    }
   },
   "outputs": [],
   "source": [
    "# Build posterior using trained density estimator\n",
    "posterior = inferer.build_posterior(density_estimator)  # Posterior sampling settings."
   ]
  },
  {
   "cell_type": "code",
   "execution_count": null,
   "id": "2c2af792",
   "metadata": {
    "slideshow": {
     "slide_type": "fragment"
    }
   },
   "outputs": [],
   "source": [
    "# Generate samples\n",
    "theta_o = prior.sample((1,))\n",
    "x_o = simulator(theta_o)\n",
    "samples = posterior.sample((1000,), x=x_o)"
   ]
  },
  {
   "cell_type": "code",
   "execution_count": null,
   "id": "5a347d2e",
   "metadata": {
    "slideshow": {
     "slide_type": "fragment"
    }
   },
   "outputs": [],
   "source": [
    "pairplot(samples, points=theta_o, points_colors=[\"k\"], upper=\"scatter\", limits=[[-1, 1]], figsize=(5,5));"
   ]
  },
  {
   "cell_type": "markdown",
   "id": "830c3466",
   "metadata": {
    "slideshow": {
     "slide_type": "slide"
    }
   },
   "source": [
    "## Practical\n",
    "\n",
    "### inference problem\n",
    "$$ \\text{prior: } \\theta \\sim \\mathcal{N}(0, I) \\\\ \n",
    "\\text{simulator: } x \\sim \\mathcal{N}(\\theta, \\; 0.1 \\; I)\n",
    "$$\n",
    "\n",
    "1. Repeat the steps above to run inference with `SNPE`.\n",
    "\n",
    "2. Try the other two methods you learned about: [`SNLE`](https://www.mackelab.org/sbi/reference/#sbi.inference.snle.snle_a.SNLE_A) which estimates the likelihood to then run MCMC, and [`SNRE`](https://www.mackelab.org/sbi/reference/#sbi.inference.snre.snre_b.SNRE_B) which trains a classifier to approximate likelihood ratios to do MCMC. \n",
    "3. Do you notice any differences when drawing posterior samples, if yes, why?\n",
    "\n",
    "3. Using the method of your choice, run the inference with a density estimator other than `mdn`."
   ]
  },
  {
   "cell_type": "code",
   "execution_count": null,
   "id": "3edafaf7",
   "metadata": {
    "slideshow": {
     "slide_type": "fragment"
    }
   },
   "outputs": [],
   "source": []
  }
 ],
 "metadata": {
  "celltoolbar": "Slideshow",
  "kernelspec": {
   "display_name": "Python 3 (ipykernel)",
   "language": "python",
   "name": "python3"
  },
  "language_info": {
   "codemirror_mode": {
    "name": "ipython",
    "version": 3
   },
   "file_extension": ".py",
   "mimetype": "text/x-python",
   "name": "python",
   "nbconvert_exporter": "python",
   "pygments_lexer": "ipython3",
   "version": "3.7.10"
  }
 },
 "nbformat": 4,
 "nbformat_minor": 5
}
