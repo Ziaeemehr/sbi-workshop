{
 "cells": [
  {
   "cell_type": "code",
   "execution_count": null,
   "id": "e13ec846",
   "metadata": {
    "slideshow": {
     "slide_type": "slide"
    }
   },
   "outputs": [],
   "source": [
    "import torch\n",
    "from sbi import utils as utils\n",
    "from sbi import analysis as analysis\n",
    "from sbi.inference.base import infer\n",
    "import numpy as np\n",
    "import matplotlib.pyplot as plt\n",
    "from ipywidgets import interact, interactive, fixed, interact_manual\n",
    "import ipywidgets as widgets\n",
    "from scipy.linalg import inv\n",
    "from numpy.random import multivariate_normal\n",
    "from notebook.services.config import ConfigManager\n",
    "from traitlets.config.manager import BaseJSONConfigManager\n",
    "import matplotlib as mpl\n",
    "import math\n",
    "from scipy.integrate import odeint, solve_ivp\n",
    "import random\n",
    "import torch.nn as nn\n",
    "from typing import Callable, List\n",
    "\n",
    "# import helper code\n",
    "from utils import set_plot_attributes, interactive_projectile, interactive_pendulum, displacement_deriv, COLORS\n",
    "\n",
    "\n",
    "# set jupyter configurations\n",
    "%matplotlib inline\n",
    "%config InlineBackend.figure_format='retina'\n",
    "default_dpi = mpl.rcParamsDefault['figure.dpi']\n",
    "mpl.rcParams['figure.dpi'] = default_dpi*1.2  \n"
   ]
  },
  {
   "cell_type": "markdown",
   "id": "838197ae",
   "metadata": {
    "cell_style": "center",
    "slideshow": {
     "slide_type": "slide"
    }
   },
   "source": [
    "### 1.4.1 Ballistic motion problem\n",
    "- projectile is launched with given launch velocity, launch angle, and a drag coefficient\n",
    "- we can measure height of projectile with certain imprecision"
   ]
  },
  {
   "cell_type": "code",
   "execution_count": null,
   "id": "6e0e601c",
   "metadata": {
    "cell_style": "center",
    "slideshow": {
     "slide_type": "-"
    }
   },
   "outputs": [],
   "source": [
    "def projectile_sim(θ:np.array)->dict:\n",
    "    \"\"\" Blackbox simulator that takes in a parameter vector and outputs a synthetic observation. \"\"\"\n",
    "    launch_velocity, launch_angle, drag_coefficient = θ\n",
    "    drag_constant = 0.5 * drag_coefficient * 1.28 * 0.008 # 0.5 * drag_coefficent * air_density * projectile_area\n",
    "    deriv = lambda t,u: (u[1],\n",
    "                         -drag_constant/0.2 * np.hypot(u[1],u[3]) * u[1],\n",
    "                         u[3],\n",
    "                         -drag_constant/0.2 * np.hypot(u[1], u[3]) * u[3] - 9.81)\n",
    "    \n",
    "    # Initial conditions: x0, v0_x, z0, v0_z.\n",
    "    u0 = 0, launch_velocity * np.cos(np.radians(launch_angle)), 0., launch_velocity * np.sin(np.radians(launch_angle))\n",
    "    # Set range where we want to integrate\n",
    "    t0, tf = 0, 400\n",
    "    solution = solve_ivp(deriv, (t0, tf), u0, dense_output=True) # df/dt = f(t,y); f(t_i) = y_i\n",
    "    # A fine grid of time points from 0 until impact time.\n",
    "    time = np.linspace(0, tf, 2000)\n",
    "    # get solution of ivp -> distance and height at each time point\n",
    "    solution = solution.sol(time)\n",
    "    distance_travelled, height = solution[0], solution[2]\n",
    "    \n",
    "    measurements = height + np.random.randn(distance_travelled.shape[0]) * 3\n",
    "    \n",
    "    return dict(θ=θ, distance_travelled=distance_travelled, height=height, x=measurements)\n",
    "\n",
    "\n",
    "ballistic_motion = interactive_projectile(projectile_sim)\n",
    "ballistic_motion"
   ]
  },
  {
   "cell_type": "markdown",
   "id": "5814d119",
   "metadata": {
    "cell_style": "center",
    "slideshow": {
     "slide_type": "subslide"
    }
   },
   "source": [
    "### 1.4.2 Linear regression as baseline\n",
    "- how can we find the underlying parameters of the observation?\n",
    "- with linear regression on quadratic polynomial parameters? "
   ]
  },
  {
   "cell_type": "code",
   "execution_count": null,
   "id": "41cf96b0",
   "metadata": {
    "cell_style": "center",
    "slideshow": {
     "slide_type": "-"
    }
   },
   "outputs": [],
   "source": [
    "# get parameter and observation\n",
    "θ = np.array(ballistic_motion.result['θ'])\n",
    "x_o = ballistic_motion.result['x']\n",
    "domain = ballistic_motion.result['distance_travelled']\n",
    "# linear regression baseline\n",
    "features = np.stack([domain**0, domain**1, domain**2]).T\n",
    "linreg_param = inv(features.T @ features).dot(features.T @ x_o)\n",
    "linreg_reconstruction = features @ linreg_param"
   ]
  },
  {
   "cell_type": "code",
   "execution_count": null,
   "id": "542714d1",
   "metadata": {
    "slideshow": {
     "slide_type": "subslide"
    }
   },
   "outputs": [],
   "source": [
    "# plotting\n",
    "fig, ax = plt.subplots()\n",
    "ax.scatter(domain, x_o, marker='x', label='$x_o$', color=COLORS['data'], alpha=0.3)\n",
    "ax.plot(domain, linreg_reconstruction, label = 'Linear regression prediction', color=COLORS['linreg'])\n",
    "set_plot_attributes(ax, legend=True, ylim=(0, 250), xlabel='distance (m)', ylabel='height (m)')"
   ]
  },
  {
   "cell_type": "markdown",
   "id": "a18fc991",
   "metadata": {
    "slideshow": {
     "slide_type": "slide"
    }
   },
   "source": [
    "### 1.4.3 Try to reproduce data manually 🛠️\n",
    "- assuming you can build a forward model\n",
    "- can you beat the linear regression model?"
   ]
  },
  {
   "cell_type": "code",
   "execution_count": null,
   "id": "5995a4c0",
   "metadata": {
    "slideshow": {
     "slide_type": "subslide"
    }
   },
   "outputs": [],
   "source": [
    "def distance(prediction:np.array, data:np.array, distance_function:Callable) -> float:\n",
    "    \"\"\" Second-order function that takes in a distance function and its arguments and returns the result. \"\"\"\n",
    "    return distance_function(prediction, data)\n",
    "\n",
    "\n",
    "# sample parameters from a uniform distribution\n",
    "θ = np.array([np.random.uniform(50, 250), np.random.uniform(10, 45), np.random.uniform(0.2, 0.7)])\n",
    "\n",
    "# pass parameters to simulator and see result\n",
    "simulation = projectile_sim(θ)\n",
    "\n",
    "x_reconstruction = simulation['x']\n",
    "domain = simulation['distance_travelled']\n",
    "\n",
    "# θ\n",
    "# plotting\n",
    "fig, ax = plt.subplots()\n",
    "ax.plot(domain,x_reconstruction, label='x_reconstruction', color=COLORS['abc'])\n",
    "ax.scatter(domain, x_o, marker='x', label='x_o', color=COLORS['data'], alpha=0.3)\n",
    "\n",
    "# choose a distance function\n",
    "l2 = lambda prediction, data: np.square(prediction - data).mean()\n",
    "chebyshev = lambda prediction, data: max([np.abs(data[i]-prediction[i]) for i in range(data.shape[0])])\n",
    "\n",
    "# and an acceptance threshold ε\n",
    "ε = 100000\n",
    "\n",
    "# assesed visually, what would be a good acceptance threshold?\n",
    "set_plot_attributes(ax, legend=True, ylim=(0,150), xlabel='distance (m)', ylabel='height (m)')\n",
    "\n",
    "\n",
    "print(f'Distance of simulation with parameters launch velocity={θ[0]:.1f},\\\n",
    "                    launch angle={θ[1]:.1f},\\\n",
    "                    and drag coefficient={θ[2]:.2f}: \\033[1m{distance(x_reconstruction, x_o, l2):.2f}\\033[0m')\n",
    "\n",
    "print(f'Based on chosen \\033[1mε={ε}\\033[0m, the simulation was \\033[1m\\\n",
    "{\"accepted\" if (distance(x_reconstruction, x_o, l2) <= ε) else \"not accepted\"}\\033[0m')"
   ]
  },
  {
   "cell_type": "markdown",
   "id": "ff6253c6",
   "metadata": {
    "slideshow": {
     "slide_type": "slide"
    }
   },
   "source": [
    "### 1.4.4 Automate the search for parameters 🛠️\n",
    "- there should be a smarter way to approach this\n",
    "- your task is now to automate what we just tried manually and make decisions which paramters to keep, based on distance"
   ]
  },
  {
   "cell_type": "code",
   "execution_count": null,
   "id": "1884d6ca",
   "metadata": {
    "slideshow": {
     "slide_type": "subslide"
    }
   },
   "outputs": [],
   "source": [
    "def rejection_abc(ε:float, distance_function:Callable, num_simulations:int=1000)-> List:\n",
    "    \"\"\" Can your approach be automated? \"\"\"\n",
    "    θ_accepted = []\n",
    "    \n",
    "    for _ in range(num_simulations):\n",
    "        # sample θ from a uniform prior\n",
    "        θ = np.array([np.random.uniform(50, 250), np.random.uniform(10, 45), np.random.uniform(0.2, 0.7)])\n",
    "        ######################################################################## Solution\n",
    "        # pass to simulator\n",
    "        simulation = projectile_sim(θ)\n",
    "        domain, x_reconstruction = simulation['distance_travelled'], simulation['x']\n",
    "        # compute distance\n",
    "        dist = distance(x_o, x_reconstruction, distance_function)\n",
    "        # check if within epsilon\n",
    "        if dist <= ε:\n",
    "            # if so return parameters\n",
    "            θ_accepted.append(θ)\n",
    "        ######################################################################## Solution end\n",
    "    return θ_accepted\n",
    "\n",
    "ε = 1000\n",
    "θ_accepted = rejection_abc(ε, l2)\n",
    "print(f'Your rejection-ABC implementation has found {len(θ_accepted)} parameters that produce observations within ε={ε}.')"
   ]
  },
  {
   "cell_type": "code",
   "execution_count": null,
   "id": "87f7b95a",
   "metadata": {
    "slideshow": {
     "slide_type": "subslide"
    }
   },
   "outputs": [],
   "source": [
    "# plot with one of the found parameters\n",
    "θ = random.choice(θ_accepted)\n",
    "sim_result = projectile_sim(θ)\n",
    "\n",
    "# plotting\n",
    "fig, ax = plt.subplots()\n",
    "ax.plot(sim_result['distance_travelled'], sim_result['x'], label='Reconstruction', color=COLORS['abc'])\n",
    "ax.scatter(sim_result['distance_travelled'], x_o, marker='x', label='Real measurements', color=COLORS['data'], alpha=0.3)\n",
    "# plotting_boilerplate(ax, ylim=0, legend=True)\n",
    "set_plot_attributes(ax, legend=True, ylim=(0,150), xlabel='distance (m)', ylabel='height (m)')\n",
    "\n",
    "print(f'Distance of simulation with automatically found parameters launch velocity={θ[0]:.1f},\\\n",
    "                    launch angle={θ[1]:.1f}, and drag coefficient={θ[2]:.2f}: \\033[1m{distance(sim_result[\"x\"], x_o, l2):.2f}\\033[0m')"
   ]
  },
  {
   "cell_type": "markdown",
   "id": "f3c66eb5",
   "metadata": {
    "slideshow": {
     "slide_type": "subslide"
    }
   },
   "source": [
    "- You just discovered rejection ABC!\n",
    "- Reflect on how choice of $\\epsilon$, $d$ was made"
   ]
  },
  {
   "cell_type": "markdown",
   "id": "54847ec1",
   "metadata": {
    "slideshow": {
     "slide_type": "slide"
    }
   },
   "source": [
    "### 1.4.5 When does this break?\n",
    "- suppose our observation is more complex"
   ]
  },
  {
   "cell_type": "code",
   "execution_count": null,
   "id": "b06908c5",
   "metadata": {
    "slideshow": {
     "slide_type": "subslide"
    }
   },
   "outputs": [],
   "source": [
    "def pendulum_sim(θ:np.array)->np.array:\n",
    "    \"\"\"\n",
    "    Blackbox simulator that takes in a parameter vector\n",
    "    and produces an observation of angular dispalement\n",
    "    of a damped pendulum.\n",
    "    \"\"\"\n",
    "    dampening_factor, mass, length = θ\n",
    "    theta_0 = [0,3]\n",
    "    t = np.linspace(0,20,150)    \n",
    "    # solve ODE\n",
    "    solution = odeint(displacement_deriv, theta_0,t,args =(dampening_factor,mass,9.81,length))\n",
    "    angular_velocity_measurements =  solution[:,0] + np.random.randn(t.shape[0]) * 0.05\n",
    "    # return observation\n",
    "    return angular_velocity_measurements\n",
    "\n",
    "pendulum = interactive_pendulum(pendulum_sim)\n",
    "pendulum"
   ]
  },
  {
   "cell_type": "markdown",
   "id": "4200f548",
   "metadata": {
    "slideshow": {
     "slide_type": "slide"
    }
   },
   "source": [
    "### 1.4.6 What can we do about this?\n",
    "- What summary statistics for this data would come to your  mind?\n",
    "- Can we learn summary statistics with neural networks?"
   ]
  },
  {
   "cell_type": "markdown",
   "id": "41faf0de",
   "metadata": {
    "slideshow": {
     "slide_type": "slide"
    }
   },
   "source": [
    "### 1.4.7 Introduce SBI as a potentially useful approach to solve our problem"
   ]
  },
  {
   "cell_type": "code",
   "execution_count": null,
   "id": "4748e268",
   "metadata": {
    "slideshow": {
     "slide_type": "subslide"
    }
   },
   "outputs": [],
   "source": [
    "# define an initial, three-dimensional prior \n",
    "num_dim = 3\n",
    "prior = utils.BoxUniform(low=torch.Tensor([0,0.01,1]), high=torch.Tensor([1,5,4]))\n",
    "\n",
    "# and infer the posterior over θ using the sbi toolkit\n",
    "posterior = infer(pendulum_sim, prior, method='SNPE', num_simulations=500)"
   ]
  },
  {
   "cell_type": "code",
   "execution_count": null,
   "id": "6352db33",
   "metadata": {
    "slideshow": {
     "slide_type": "subslide"
    }
   },
   "outputs": [],
   "source": [
    "x_o = pendulum.result['x_o']\n",
    "samples = posterior.sample((10000,), x=x_o)\n",
    "θ = samples.mean(dim=0).numpy()\n",
    "log_probability = posterior.log_prob(samples, x=x_o)\n",
    "_ = analysis.pairplot(samples, figsize=(6,6))"
   ]
  },
  {
   "cell_type": "code",
   "execution_count": null,
   "id": "ab6ed7bf",
   "metadata": {
    "slideshow": {
     "slide_type": "subslide"
    }
   },
   "outputs": [],
   "source": [
    "_, ax = plt.subplots()\n",
    "ax.plot(np.linspace(0,20,150), pendulum_sim(θ), label='sbi reconstruction', color=COLORS['sbi'])\n",
    "ax.plot(np.linspace(0,20,150), x_o, label='x_o', color=COLORS['data'], marker='x')\n",
    "set_plot_attributes(ax, legend=True, xlabel='$t$', grid=True, ylabel='Angular displacement')"
   ]
  }
 ],
 "metadata": {
  "celltoolbar": "Slideshow",
  "kernelspec": {
   "display_name": "Python 3",
   "language": "python",
   "name": "python3"
  },
  "language_info": {
   "codemirror_mode": {
    "name": "ipython",
    "version": 3
   },
   "file_extension": ".py",
   "mimetype": "text/x-python",
   "name": "python",
   "nbconvert_exporter": "python",
   "pygments_lexer": "ipython3",
   "version": "3.7.10"
  },
  "rise": {
   "enable_chalkboard": true,
   "footer": "<h3>World!</h3>",
   "header": "<h1>Hello</h1>",
   "overlay": "<div class='myheader'><h2>my company</h2></div><div class='myfooter'><h2>the date</h2></div>",
   "scroll": true
  }
 },
 "nbformat": 4,
 "nbformat_minor": 5
}
