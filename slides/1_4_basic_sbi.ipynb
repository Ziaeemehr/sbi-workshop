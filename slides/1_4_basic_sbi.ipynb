{
 "cells": [
  {
   "cell_type": "code",
   "execution_count": null,
   "id": "e13ec846",
   "metadata": {
    "slideshow": {
     "slide_type": "slide"
    }
   },
   "outputs": [],
   "source": [
    "import torch\n",
    "from sbi import utils as utils\n",
    "from sbi import analysis as analysis\n",
    "from sbi.inference.base import infer\n",
    "import numpy as np\n",
    "import matplotlib.pyplot as plt\n",
    "from ipywidgets import interact, interactive, fixed, interact_manual\n",
    "import ipywidgets as widgets\n",
    "from scipy.linalg import inv\n",
    "from numpy.random import multivariate_normal\n",
    "from notebook.services.config import ConfigManager\n",
    "from traitlets.config.manager import BaseJSONConfigManager\n",
    "import matplotlib as mpl\n",
    "import math\n",
    "from scipy.integrate import odeint\n",
    "\n",
    "\n",
    "# set jupyter configurations\n",
    "%matplotlib inline\n",
    "%config InlineBackend.figure_format='retina'\n",
    "default_dpi = mpl.rcParamsDefault['figure.dpi']\n",
    "mpl.rcParams['figure.dpi'] = default_dpi*1.2\n",
    "\n",
    "\n",
    "# set global variables\n",
    "gt_color = 'r'\n",
    "data_color = '#0000FF'\n",
    "linreg_color = '#519872'\n",
    "abc_color = 'purple'\n",
    "sbi_color  = '#DE1A1A'"
   ]
  },
  {
   "cell_type": "markdown",
   "id": "b7b3b7d2",
   "metadata": {},
   "source": [
    "### 1.4.1 Ballistic motion problem"
   ]
  },
  {
   "cell_type": "code",
   "execution_count": null,
   "id": "d65ec3bb",
   "metadata": {},
   "outputs": [],
   "source": [
    "def ballistic(launch_velocity, launch_angle, drag_coefficient=1.0000e-6, sample=False):\n",
    "    \"\"\" ... \"\"\"\n",
    "    y_t = lambda t: launch_velocity * t * np.sin(math.radians(launch_angle)) - 0.5*9.81*t**2 \n",
    "    x = np.linspace(0,100,101)\n",
    "    y = y_t(x)\n",
    "\n",
    "    samples = y + np.random.randn(x.shape[0]) * 150\n",
    "   \n",
    "    plt.plot(x,y, label='Ground truth', color=gt_color)\n",
    "    if sample:\n",
    "        plt.scatter(x, samples,label='Samples', marker='x', color=data_color)\n",
    "    plt.ylim(0)\n",
    "    plt.xlim(0)\n",
    "    plt.legend()\n",
    "    plt.show()\n",
    "    \n",
    "    return dict(param=(launch_velocity, launch_angle, drag_coefficient), y=y, samples=samples)\n",
    "\n",
    "\n",
    "ballistic_motion = interactive(ballistic, launch_velocity=(50,500), launch_angle=(30,60), sample=False)\n",
    "ballistic_motion "
   ]
  },
  {
   "cell_type": "markdown",
   "id": "5814d119",
   "metadata": {
    "slideshow": {
     "slide_type": "subslide"
    }
   },
   "source": [
    "### 1.4.2 Linear regression as baseline"
   ]
  },
  {
   "cell_type": "code",
   "execution_count": null,
   "id": "41cf96b0",
   "metadata": {
    "slideshow": {
     "slide_type": "-"
    }
   },
   "outputs": [],
   "source": [
    "# get data from ground truth\n",
    "ballistic_param = np.array(ballistic_motion.result['param'])\n",
    "data = ballistic_motion.result['samples']\n",
    "\n",
    "X = np.linspace(0,100,101)\n",
    "# # linear regression baseline\n",
    "features = np.array([X**0, X**1, X**2]).T\n",
    "linreg_param = inv(features.T @ features).dot(features.T @ data)\n",
    "linreg_reconstruction = features @ linreg_param"
   ]
  },
  {
   "cell_type": "code",
   "execution_count": null,
   "id": "542714d1",
   "metadata": {
    "slideshow": {
     "slide_type": "subslide"
    }
   },
   "outputs": [],
   "source": [
    "# plotting\n",
    "plt.scatter(X, data, marker='x', label='Samples', color=data_color, alpha=0.3)\n",
    "plt.plot(X, linreg_reconstruction, 'k', label = 'Linear regression', color=linreg_color)\n",
    "\n",
    "plt.legend()\n",
    "plt.ylim(0)\n",
    "plt.xlabel('$x$')\n",
    "plt.ylabel('$f_x$')\n",
    "plt.show()"
   ]
  },
  {
   "cell_type": "markdown",
   "id": "a18fc991",
   "metadata": {},
   "source": [
    "### 1.4.3 Try to reproduce data manually 🛠️"
   ]
  },
  {
   "cell_type": "code",
   "execution_count": null,
   "id": "5995a4c0",
   "metadata": {
    "slideshow": {
     "slide_type": "-"
    }
   },
   "outputs": [],
   "source": [
    "def ballistic_simulator(param, domain = X):\n",
    "    y_t = lambda t: param[0] * t * np.sin(math.radians(param[1])) - 0.5*9.81*t**2 \n",
    "    return y_t(domain) + np.random.randn(domain.shape[0]) #* 250\n",
    "\n",
    "\n",
    "def distance(distance_function, prediction, data):\n",
    "    \"\"\" Second-order function that takes in a distance function and its arguments and returns the result. \"\"\"\n",
    "    return distance_function(prediction, data)\n",
    "\n",
    "\n",
    "\n",
    "# sample parameters from a uniform distribution\n",
    "param = np.array([np.random.uniform(200, 350), np.random.uniform(40, 50)])\n",
    "\n",
    "\n",
    "# pass parameters to simulator and see result\n",
    "prediction = ballistic_simulator(param, X)\n",
    "plt.plot(prediction, label='Reconstruction', color=abc_color)\n",
    "plt.scatter(X, data, marker='x', label='Samples', color=data_color, alpha=0.3)\n",
    "\n",
    "plt.ylim(0)\n",
    "plt.legend()\n",
    "\n",
    "\n",
    "\n",
    "\n",
    "# write own distance functions\n",
    "mse = lambda prediction, data: np.square(prediction - data).mean()\n",
    "chebyshev = lambda prediction, data: max([np.abs(data[i]-prediction[i]) for i in range(data.shape[0])])\n",
    "\n",
    "# what would be a good acceptance threshold?\n",
    "plt.title(f'distance for $v_0={param[0]:.1f}$ and $\\\\theta={param[1]:.1f}$: {distance(chebyshev, prediction, data):.2f}')"
   ]
  },
  {
   "cell_type": "markdown",
   "id": "5c43a32f",
   "metadata": {},
   "source": [
    "### 1.4.4 Automate the search for parameters 🛠️"
   ]
  },
  {
   "cell_type": "code",
   "execution_count": null,
   "id": "1884d6ca",
   "metadata": {},
   "outputs": [],
   "source": [
    "num_simulations = 100\n",
    "best_param = None\n",
    "for _ in range(num_simulations):\n",
    "    param = np.array([np.random.uniform(50, 500), np.random.uniform(30, 60)])\n",
    "    # pass to simulator\n",
    "    prediction = ballistic_simulator(param, X)\n",
    "    # compute distance\n",
    "    dist = distance(chebyshev, prediction, data)\n",
    "    # check if within epsilon\n",
    "    if dist < 500:\n",
    "        # if so return parameters\n",
    "        best_param = param\n",
    "print(best_param)"
   ]
  },
  {
   "cell_type": "code",
   "execution_count": null,
   "id": "87f7b95a",
   "metadata": {},
   "outputs": [],
   "source": [
    "# plot with found parameters\n",
    "plt.plot(ballistic_simulator(best_param, X), label='Reconstruction', color=abc_color)\n",
    "plt.scatter(X, data, marker='x', label='Samples', color=data_color, alpha=0.3)\n",
    "\n",
    "plt.ylim(0)\n",
    "plt.legend()"
   ]
  },
  {
   "cell_type": "markdown",
   "id": "f3c66eb5",
   "metadata": {},
   "source": [
    "- You just discovered rejection ABC!\n",
    "- Reflect on how choice of $\\epsilon$, $d$ was made"
   ]
  },
  {
   "cell_type": "markdown",
   "id": "8d88163e",
   "metadata": {},
   "source": [
    "### 1.4.5 When does this break?"
   ]
  },
  {
   "cell_type": "code",
   "execution_count": null,
   "id": "b06908c5",
   "metadata": {},
   "outputs": [],
   "source": [
    "def d0_dt(theta, t,b,m,g,l):\n",
    "    theta1 = theta[0]\n",
    "    theta2 = theta[1]\n",
    "    dtheta1_dt = theta2\n",
    "    dtheta2_dt = -(b/m * theta2) - (g/l * math.sin(theta1))\n",
    "    dtheta_dt = [ dtheta1_dt, dtheta2_dt]\n",
    "    \n",
    "    return dtheta_dt\n",
    "\n",
    "\n",
    "def pendulum(b,m,l, sample=True):\n",
    "    theta_0 = [0,3]\n",
    "    t = np.linspace(0,20,150)    \n",
    "    # solve ODE\n",
    "    solution = odeint(d0_dt, theta_0,t,args =(b,m,9.81,l))\n",
    "    angular_velocity_measurements =  solution[:,0] + np.random.randn(t.shape[0]) * 0.2\n",
    "\n",
    "    \n",
    "    # plot angular displacement - also plot angular velocity?\n",
    "    plt.plot(t, solution[:,0], color = gt_color, linestyle = '-',linewidth = 2,label =r'$ \\frac{d\\theta_1}{dt}$ = $\\theta_2$')\n",
    "    if sample: # and measurements\n",
    "        plt.scatter(t,angular_velocity_measurements,marker='x', color=data_color, label='measurements')\n",
    "    plt.xlabel('$t$')\n",
    "    plt.grid(True)\n",
    "    plt.ylabel('Angular displacement $\\\\theta$')\n",
    "    plt.legend(loc = 'best')\n",
    "    plt.show()\n",
    "    \n",
    "    return dict(param=(b,m,l), solution=solution, data=angular_velocity_measurements)\n",
    "\n",
    "\n",
    "damped_pendulum = interactive(pendulum, b=(0,1,0.1), m=(0.01,5,0.1), l=(1,4,0.5), sample=True)\n",
    "damped_pendulum"
   ]
  },
  {
   "cell_type": "markdown",
   "id": "4200f548",
   "metadata": {},
   "source": [
    "### 1.4.6 What can we do about this?\n",
    "- What summary statistics for this data would come to your  mind?\n",
    "- Can we learn summary statistics with neural networks?"
   ]
  },
  {
   "cell_type": "markdown",
   "id": "aa0381ef",
   "metadata": {},
   "source": [
    "### 1.4.7 Introduce SBI as a potentially useful approach to solve our problem"
   ]
  },
  {
   "cell_type": "code",
   "execution_count": null,
   "id": "4748e268",
   "metadata": {},
   "outputs": [],
   "source": []
  },
  {
   "cell_type": "code",
   "execution_count": null,
   "id": "6352db33",
   "metadata": {},
   "outputs": [],
   "source": []
  }
 ],
 "metadata": {
  "celltoolbar": "Slideshow",
  "kernelspec": {
   "display_name": "Python 3",
   "language": "python",
   "name": "python3"
  },
  "language_info": {
   "codemirror_mode": {
    "name": "ipython",
    "version": 3
   },
   "file_extension": ".py",
   "mimetype": "text/x-python",
   "name": "python",
   "nbconvert_exporter": "python",
   "pygments_lexer": "ipython3",
   "version": "3.7.10"
  }
 },
 "nbformat": 4,
 "nbformat_minor": 5
}
