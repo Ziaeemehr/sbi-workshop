{
 "cells": [
  {
   "cell_type": "code",
   "execution_count": null,
   "id": "e13ec846",
   "metadata": {
    "slideshow": {
     "slide_type": "slide"
    }
   },
   "outputs": [],
   "source": [
    "import torch\n",
    "from sbi import utils as utils\n",
    "from sbi import analysis as analysis\n",
    "from sbi.inference.base import infer\n",
    "import numpy as np\n",
    "import matplotlib.pyplot as plt\n",
    "from ipywidgets import interact, interactive, fixed, interact_manual\n",
    "import ipywidgets as widgets\n",
    "from scipy.linalg import inv\n",
    "from numpy.random import multivariate_normal\n",
    "from notebook.services.config import ConfigManager\n",
    "from traitlets.config.manager import BaseJSONConfigManager\n",
    "import matplotlib as mpl\n",
    "import math\n",
    "from scipy.integrate import odeint, solve_ivp\n",
    "import random\n",
    "import torch.nn as nn\n",
    "\n",
    "\n",
    "\n",
    "# set jupyter configurations\n",
    "%matplotlib inline\n",
    "%config InlineBackend.figure_format='retina'\n",
    "default_dpi = mpl.rcParamsDefault['figure.dpi']\n",
    "mpl.rcParams['figure.dpi'] = default_dpi*1.2\n",
    "\n",
    "\n",
    "# set global variables\n",
    "gt_color = 'r'\n",
    "data_color = '#0000FF'\n",
    "linreg_color = '#519872'\n",
    "abc_color = 'purple'\n",
    "sbi_color  = '#DE1A1A'\n",
    "\n",
    "def plotting_boilerplate(ax, xlabel='',ylabel='',title='',xlim=None,ylim=None,legend=True, grid=False):\n",
    "    \"\"\" Helper function to avoid wasting cell space on plotting code. Feel free to extend. \"\"\"\n",
    "    ax.set_xlabel(xlabel)\n",
    "    ax.set_ylabel(ylabel)\n",
    "    if legend:\n",
    "        ax.legend()\n",
    "    if grid:\n",
    "        ax.grid(True)\n",
    "    ax.set_xlim(xlim)\n",
    "    ax.set_ylim(ylim)\n",
    "    ax.set_title(title)\n",
    "    plt.show()"
   ]
  },
  {
   "cell_type": "markdown",
   "id": "838197ae",
   "metadata": {
    "slideshow": {
     "slide_type": "slide"
    }
   },
   "source": [
    "### 1.4.1 Ballistic motion problem"
   ]
  },
  {
   "cell_type": "code",
   "execution_count": null,
   "id": "6e0e601c",
   "metadata": {
    "slideshow": {
     "slide_type": "subslide"
    }
   },
   "outputs": [],
   "source": [
    "def projectile_sim(launch_velocity, launch_angle, drag_coefficient, sample=True, plot=True):\n",
    "#     c = 0.47\n",
    "    \"\"\" Blackbox simulator\"\"\"\n",
    "    deriv = lambda t,u: (u[1],\n",
    "                         -.5 * drag_coefficient * 1.28 * 0.008/0.2 * np.hypot(u[1],u[3]) * u[1],\n",
    "                         u[3],\n",
    "                         -.5 * drag_coefficient * 1.28 * 0.008/0.2 * np.hypot(u[1], u[3]) * u[3] - 9.81)\n",
    "    \n",
    "    # Initial conditions: x0, v0_x, z0, v0_z.\n",
    "    u0 = 0, launch_velocity * np.cos(np.radians(launch_angle)), 0., launch_velocity * np.sin(np.radians(launch_angle))\n",
    "    # Integrate up to tf unless we hit the target sooner.\n",
    "    t0, tf = 0, 50\n",
    "\n",
    "    solution = solve_ivp(deriv, (t0, tf), u0, dense_output=True)#,\n",
    "    # A fine grid of time points from 0 until impact time.\n",
    "    t = np.linspace(0, 10, 100)\n",
    "    # Retrieve the solution for the time grid and plot the trajectory.\n",
    "    solution = solution.sol(t)\n",
    "    x, z = solution[0], solution[2]\n",
    "    \n",
    "    samples = z + np.random.randn(x.shape[0]) * 3\n",
    "\n",
    "    if plot:\n",
    "        fig,ax = plt.subplots()\n",
    "        ax.plot(x, z,label='Ground truth', color=gt_color)\n",
    "        if sample:\n",
    "            ax.scatter(x, samples, label='Samples', marker='x', color=data_color)\n",
    "        plotting_boilerplate(ax, xlim=(0,250), ylim=0, xlabel='x /m', ylabel='x /m', legend=True)\n",
    "\n",
    "    return dict(param=(launch_velocity, launch_angle), x=x, z=z, samples=samples)\n",
    "\n",
    "ballistic_motion = interactive(projectile_sim, launch_velocity=(50,250), launch_angle=(10,45), drag_coefficient=(0.4,0.7,0.01), sample=False)\n",
    "ballistic_motion \n"
   ]
  },
  {
   "cell_type": "markdown",
   "id": "5814d119",
   "metadata": {
    "slideshow": {
     "slide_type": "subslide"
    }
   },
   "source": [
    "### 1.4.2 Linear regression as baseline"
   ]
  },
  {
   "cell_type": "code",
   "execution_count": null,
   "id": "41cf96b0",
   "metadata": {
    "slideshow": {
     "slide_type": "slide"
    }
   },
   "outputs": [],
   "source": [
    "# get data from ground truth\n",
    "ballistic_param = np.array(ballistic_motion.result['param'])\n",
    "data = ballistic_motion.result['samples']\n",
    "X = ballistic_motion.result['x']\n",
    "\n",
    "# # linear regression baseline\n",
    "features = np.array([X**0, X**1, X**2]).T\n",
    "linreg_param = inv(features.T @ features).dot(features.T @ data)\n",
    "linreg_reconstruction = features @ linreg_param"
   ]
  },
  {
   "cell_type": "code",
   "execution_count": null,
   "id": "542714d1",
   "metadata": {
    "slideshow": {
     "slide_type": "subslide"
    }
   },
   "outputs": [],
   "source": [
    "# plotting\n",
    "fig, ax = plt.subplots()\n",
    "ax.scatter(X, data, marker='x', label='Samples', color=data_color, alpha=0.3)\n",
    "ax.plot(X, linreg_reconstruction, 'k', label = 'Linear regression', color=linreg_color)\n",
    "plotting_boilerplate(ax, legend=True, ylim=0, xlabel='$x$', ylabel='$f_x$')"
   ]
  },
  {
   "cell_type": "markdown",
   "id": "a18fc991",
   "metadata": {
    "slideshow": {
     "slide_type": "slide"
    }
   },
   "source": [
    "### 1.4.3 Try to reproduce data manually 🛠️"
   ]
  },
  {
   "cell_type": "code",
   "execution_count": null,
   "id": "5995a4c0",
   "metadata": {
    "slideshow": {
     "slide_type": "subslide"
    }
   },
   "outputs": [],
   "source": [
    "def distance(distance_function, prediction, data):\n",
    "    \"\"\" Second-order function that takes in a distance function and its arguments and returns the result. \"\"\"\n",
    "    return distance_function(prediction, data)\n",
    "\n",
    "\n",
    "\n",
    "# sample parameters from a uniform distribution\n",
    "param = np.array([np.random.uniform(200, 350), np.random.uniform(40, 50)])\n",
    "\n",
    "\n",
    "# pass parameters to simulator and see result\n",
    "simulation = projectile_sim(300, 30, 0.47, plot=False)\n",
    "Y = simulation['z']\n",
    "param=simulation['param']\n",
    "\n",
    "\n",
    "# plotting\n",
    "fig, ax = plt.subplots()\n",
    "ax.plot(X,Y, label='Reconstruction', color=abc_color)\n",
    "ax.scatter(X, data, marker='x', label='Samples', color=data_color, alpha=0.3)\n",
    "\n",
    "\n",
    "# write own distance functions\n",
    "mse = lambda prediction, data: np.square(prediction - data).mean()\n",
    "chebyshev = lambda prediction, data: max([np.abs(data[i]-prediction[i]) for i in range(data.shape[0])])\n",
    "\n",
    "# assesed visually, what would be a good acceptance threshold?\n",
    "plotting_boilerplate(ax, ylim=0, legend=True,\n",
    "                     title=f'distance for $v_0={param[0]:.1f}$ and $\\\\theta={param[1]:.1f}$: {distance(chebyshev, Y, data):.2f}')"
   ]
  },
  {
   "cell_type": "markdown",
   "id": "ff6253c6",
   "metadata": {
    "slideshow": {
     "slide_type": "slide"
    }
   },
   "source": [
    "### 1.4.4 Automate the search for parameters 🛠️"
   ]
  },
  {
   "cell_type": "code",
   "execution_count": null,
   "id": "1884d6ca",
   "metadata": {
    "slideshow": {
     "slide_type": "subslide"
    }
   },
   "outputs": [],
   "source": [
    "num_simulations = 1000\n",
    "# best_param = None\n",
    "accepted_params=[]\n",
    "for _ in range(num_simulations):\n",
    "    lauch_velocity, launch_angle, drag_coefficient = np.array([np.random.uniform(50, 500), np.random.uniform(30, 60), np.random.uniform(0.3, 0.5)])\n",
    "    # pass to simulator\n",
    "    prediction = projectile_sim(lauch_velocity, launch_angle, drag_coefficient, plot=False)\n",
    "    x, y = prediction['x'], prediction['z']\n",
    "    # compute distance\n",
    "    dist = distance(chebyshev, y, data)\n",
    "    # check if within epsilon\n",
    "    if dist < 15:\n",
    "        # if so return parameters\n",
    "        accepted_params.append((lauch_velocity, launch_angle, drag_coefficient))\n",
    "print(len(accepted_params))"
   ]
  },
  {
   "cell_type": "code",
   "execution_count": null,
   "id": "87f7b95a",
   "metadata": {
    "slideshow": {
     "slide_type": "subslide"
    }
   },
   "outputs": [],
   "source": [
    "# plot with found parameters\n",
    "launch_velocity, launch_angle, drag_coefficient = random.choice(accepted_params)\n",
    "sim_result = projectile_sim(launch_velocity, launch_angle, drag_coefficient, plot=False)\n",
    "\n",
    "# plotting\n",
    "fig, ax = plt.subplots()\n",
    "ax.plot(sim_result['x'], sim_result['z'], label='Reconstruction', color=abc_color)\n",
    "ax.scatter(X, data, marker='x', label='Samples', color=data_color, alpha=0.3)\n",
    "plotting_boilerplate(ax, ylim=0, legend=True)\n"
   ]
  },
  {
   "cell_type": "markdown",
   "id": "f3c66eb5",
   "metadata": {
    "slideshow": {
     "slide_type": "subslide"
    }
   },
   "source": [
    "- You just discovered rejection ABC!\n",
    "- Reflect on how choice of $\\epsilon$, $d$ was made"
   ]
  },
  {
   "cell_type": "markdown",
   "id": "54847ec1",
   "metadata": {
    "slideshow": {
     "slide_type": "slide"
    }
   },
   "source": [
    "### 1.4.5 When does this break?"
   ]
  },
  {
   "cell_type": "code",
   "execution_count": null,
   "id": "b06908c5",
   "metadata": {
    "slideshow": {
     "slide_type": "subslide"
    }
   },
   "outputs": [],
   "source": [
    "def d0_dt(theta, t,b,m,g,l):\n",
    "    theta1 = theta[0]\n",
    "    theta2 = theta[1]\n",
    "    dtheta1_dt = theta2\n",
    "    dtheta2_dt = -(b/m * theta2) - (g/l * math.sin(theta1))\n",
    "    dtheta_dt = [ dtheta1_dt, dtheta2_dt]\n",
    "    \n",
    "    return dtheta_dt\n",
    "\n",
    "\n",
    "def pendulum(b,m,l, sample=True):\n",
    "    theta_0 = [0,3]\n",
    "    t = np.linspace(0,20,150)    \n",
    "    # solve ODE\n",
    "    solution = odeint(d0_dt, theta_0,t,args =(b,m,9.81,l))\n",
    "    angular_velocity_measurements =  solution[:,0] + np.random.randn(t.shape[0]) * 0.2\n",
    "\n",
    "    \n",
    "    # plotting\n",
    "    fig, ax = plt.subplots()\n",
    "    ax.plot(t, solution[:,0], color = gt_color, linestyle = '-',linewidth = 2,label =r'$ \\frac{d\\theta_1}{dt}$ = $\\theta_2$')\n",
    "    if sample: # and measurements\n",
    "        ax.scatter(t,angular_velocity_measurements,marker='x', color=data_color, label='measurements')\n",
    "    plotting_boilerplate(ax, xlabel='$t$', grid=True, ylabel='Angular displacement $\\\\theta$', legend=True)   \n",
    "    \n",
    "    return dict(param=(b,m,l), solution=solution, data=angular_velocity_measurements)\n",
    "\n",
    "\n",
    "damped_pendulum = interactive(pendulum, b=(0,1,0.1), m=(0.01,5,0.1), l=(1,4,0.5), sample=True)\n",
    "damped_pendulum"
   ]
  },
  {
   "cell_type": "markdown",
   "id": "4200f548",
   "metadata": {
    "slideshow": {
     "slide_type": "slide"
    }
   },
   "source": [
    "### 1.4.6 What can we do about this?\n",
    "- What summary statistics for this data would come to your  mind?\n",
    "- Can we learn summary statistics with neural networks?"
   ]
  },
  {
   "cell_type": "markdown",
   "id": "41faf0de",
   "metadata": {
    "slideshow": {
     "slide_type": "slide"
    }
   },
   "source": [
    "### 1.4.7 Introduce SBI as a potentially useful approach to solve our problem"
   ]
  },
  {
   "cell_type": "code",
   "execution_count": null,
   "id": "4748e268",
   "metadata": {
    "slideshow": {
     "slide_type": "subslide"
    }
   },
   "outputs": [],
   "source": [
    "num_dim = 3\n",
    "\n",
    "# define an initial prior\n",
    "prior = utils.BoxUniform(low=torch.Tensor([0,0.01,1]), high=torch.Tensor([1,5,4]))\n",
    "\n",
    "def pendulum_sim(param, sample=True):\n",
    "    b,m,l = param\n",
    "    theta_0 = [0,3]\n",
    "    t = np.linspace(0,20,150)    \n",
    "    # solve ODE\n",
    "    solution = odeint(d0_dt, theta_0,t,args =(b,m,9.81,l))\n",
    "    angular_velocity_measurements =  solution[:,0] + np.random.randn(t.shape[0]) * 0.2\n",
    "    return angular_velocity_measurements\n",
    "\n",
    "\n",
    "posterior = infer(pendulum_sim, prior, method='SNPE', num_simulations=500)"
   ]
  },
  {
   "cell_type": "code",
   "execution_count": null,
   "id": "6352db33",
   "metadata": {
    "slideshow": {
     "slide_type": "subslide"
    }
   },
   "outputs": [],
   "source": [
    "measurement = damped_pendulum.result['data']\n",
    "samples = posterior.sample((10000,), x=measurement)\n",
    "log_probability = posterior.log_prob(samples, x=measurement)\n",
    "_ = analysis.pairplot(samples, figsize=(6,6))"
   ]
  },
  {
   "cell_type": "code",
   "execution_count": null,
   "id": "ab6ed7bf",
   "metadata": {
    "slideshow": {
     "slide_type": "subslide"
    }
   },
   "outputs": [],
   "source": [
    "_, ax = plt.subplots()\n",
    "ax.plot(pendulum_sim(samples.mean(dim=0).numpy()), label='sbi reconstruction', color=sbi_color)\n",
    "ax.plot(measurement, label='measurement', color=data_color)\n",
    "plotting_boilerplate(ax, legend=True, xlabel='$t$', grid=True, ylabel='Angular displacement $\\\\theta$')"
   ]
  }
 ],
 "metadata": {
  "celltoolbar": "Slideshow",
  "kernelspec": {
   "display_name": "Python 3",
   "language": "python",
   "name": "python3"
  },
  "language_info": {
   "codemirror_mode": {
    "name": "ipython",
    "version": 3
   },
   "file_extension": ".py",
   "mimetype": "text/x-python",
   "name": "python",
   "nbconvert_exporter": "python",
   "pygments_lexer": "ipython3",
   "version": "3.7.10"
  }
 },
 "nbformat": 4,
 "nbformat_minor": 5
}
