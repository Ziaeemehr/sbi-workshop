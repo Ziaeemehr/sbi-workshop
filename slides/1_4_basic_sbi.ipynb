{
 "cells": [
  {
   "cell_type": "code",
   "execution_count": null,
   "id": "e13ec846",
   "metadata": {
    "slideshow": {
     "slide_type": "slide"
    }
   },
   "outputs": [],
   "source": [
    "import torch\n",
    "from sbi import utils as utils\n",
    "from sbi import analysis as analysis\n",
    "from sbi.inference.base import infer\n",
    "import numpy as np\n",
    "import matplotlib.pyplot as plt\n",
    "from ipywidgets import interact, interactive, fixed, interact_manual\n",
    "import ipywidgets as widgets\n",
    "from scipy.linalg import inv\n",
    "from numpy.random import multivariate_normal\n",
    "from notebook.services.config import ConfigManager\n",
    "from traitlets.config.manager import BaseJSONConfigManager\n",
    "import matplotlib as mpl\n",
    "import math\n",
    "import scipy.integrate\n",
    "import random\n",
    "import torch.nn as nn\n",
    "from typing import Callable, List\n",
    "\n",
    "# import helper code\n",
    "from workshop_utils import set_plot_attributes,\\\n",
    "                            interactive_projectile, interactive_pendulum,\\\n",
    "                            displacement_deriv, COLORS, plot_data_vs_model\n",
    "\n",
    "\n",
    "# set jupyter configurations\n",
    "%matplotlib inline\n",
    "%config InlineBackend.figure_format='retina'\n",
    "default_dpi = mpl.rcParamsDefault['figure.dpi']\n",
    "mpl.rcParams['figure.dpi'] = default_dpi*1.2  "
   ]
  },
  {
   "cell_type": "markdown",
   "id": "838197ae",
   "metadata": {
    "cell_style": "center",
    "slideshow": {
     "slide_type": "slide"
    }
   },
   "source": [
    "### 1.4.1 Ballistic motion problem\n",
    "- projectile is launched with given launch velocity, launch angle, and a drag coefficient\n",
    "- we can measure height of projectile with certain imprecision"
   ]
  },
  {
   "cell_type": "code",
   "execution_count": null,
   "id": "6e0e601c",
   "metadata": {
    "cell_style": "center",
    "slideshow": {
     "slide_type": "-"
    }
   },
   "outputs": [],
   "source": [
    "def mortar(\n",
    "    speed:float,\n",
    "    angle:int,\n",
    "    drag:float,\n",
    "    area:float=0.008,\n",
    "    mass:float=0.2,\n",
    "    measurement_noise:float=3.\n",
    "    )->dict:\n",
    "    \"\"\" Simulate the firing of a projectile with parameters:\n",
    "    Args:\n",
    "        speed (float): magnitude of initial speed (positive, m/s).\n",
    "        angle (int): launch angle in degrees\n",
    "        drag (float): drag coefficient\n",
    "        area (float): area of the fired projectile\n",
    "        mass (float): mass of the fired projectile\n",
    "    Returns:\n",
    "        simulation (dict): simulation results containing distance\n",
    "        travelled and height at time points   \n",
    "    \"\"\"\n",
    "    drag_constant = 0.5 * drag * 1.28 * area # 1.28 is air density\n",
    "    deriv = lambda t,u: (u[1],\n",
    "                         -drag_constant/mass * np.hypot(u[1],u[3]) * u[1],\n",
    "                         u[3],\n",
    "                         -drag_constant/mass * np.hypot(u[1], u[3]) * u[3] - 9.81)\n",
    "    \n",
    "    # Initial conditions: x0, v0_x, z0, v0_z.\n",
    "    u0 = 0, speed * np.cos(np.radians(angle)), 0., speed * np.sin(np.radians(angle))\n",
    "    t0, tf = 0, 400 # Set range where we want to integrate\n",
    "    # solve ivp to get distance traveld and height at each point in time -> df/dt = f(t,y); f(t_i) = y_i, \n",
    "    solution = scipy.integrate.solve_ivp(\n",
    "        deriv, (t0, tf), u0, dense_output=True) # dense_output gives continuous solution\n",
    "    # A fine grid of time points from 0 until impact time.\n",
    "    t = np.linspace(0, tf, 2000)\n",
    "    # get solution of ivp -> distance and height at each time point\n",
    "    d, _, h, _ = solution.sol(t)\n",
    "    \n",
    "    measurements = h + np.random.randn(d.shape[0]) * measurement_noise\n",
    "    # to obtain the params from the interactive plot, we need to return parameters here as well\n",
    "    return dict(θ=(speed,angle,drag,area,mass), d=d, h=h, x=measurements)\n",
    "\n",
    "\n",
    "ballistic_motion = interactive_projectile(mortar)\n",
    "ballistic_motion"
   ]
  },
  {
   "cell_type": "markdown",
   "id": "5814d119",
   "metadata": {
    "cell_style": "center",
    "slideshow": {
     "slide_type": "subslide"
    }
   },
   "source": [
    "### 1.4.2 Linear regression as baseline\n",
    "- how can we find the underlying parameters of the observation?\n",
    "- with linear regression on quadratic polynomial parameters? "
   ]
  },
  {
   "cell_type": "code",
   "execution_count": null,
   "id": "41cf96b0",
   "metadata": {
    "cell_style": "center",
    "slideshow": {
     "slide_type": "-"
    }
   },
   "outputs": [],
   "source": [
    "def linear_regression(data:np.array, features:np.array)-> np.array:\n",
    "    \"\"\" Perform linear regression with given features.\n",
    "    Args:\n",
    "        data (np.array): what we want to learn the parameters of\n",
    "        features (np.array): our features to describe the data\n",
    "    Returns:\n",
    "        Parameters found through solving (features^t * features)^-1 * features.T * observation\n",
    "    \"\"\"\n",
    "    linreg_param = inv(features.T @ features) @ (features.T @ data)\n",
    "    \n",
    "    return linreg_param\n",
    "\n",
    "\n",
    "x_o = ballistic_motion.result['x']\n",
    "domain = ballistic_motion.result['d']\n",
    "features = np.stack([domain**0, domain**1, domain**2]).T\n",
    "linreg_param = linear_regression(x_o, features)\n",
    "\n",
    "# generate reconstruction with found parameters\n",
    "linreg_reconstruction = features @ linreg_param"
   ]
  },
  {
   "cell_type": "code",
   "execution_count": null,
   "id": "542714d1",
   "metadata": {
    "slideshow": {
     "slide_type": "subslide"
    }
   },
   "outputs": [],
   "source": [
    "plot_data_vs_model(\n",
    "    domain,\n",
    "    x_o, linreg_reconstruction,\n",
    "    data_label='x_o',\n",
    "    model_label='Linear regression reconstruction')"
   ]
  },
  {
   "cell_type": "code",
   "execution_count": null,
   "id": "3b61066e",
   "metadata": {},
   "outputs": [],
   "source": [
    "def get_landing_distance(d, x_o):\n",
    "    \"\"\" Compute distance travelled until projectile hits the ground.\n",
    "    Args:\n",
    "        d (array): distance travelled by projectile\n",
    "        x_o (array): height of projectile at given distance\n",
    "    Returns:\n",
    "        Distance traveled in meter until projectile hits ground.\n",
    "    \"\"\"\n",
    "    height_greater_zero = x_o > 0\n",
    "    return d[np.argwhere(height_greater_zero == False).min()]\n",
    "    \n",
    "    \n",
    "def get_distance_at_highest_point(d, x_o):\n",
    "    \"\"\" Compute distance travelled until projectile reaches highest point.\n",
    "    Args:\n",
    "        d (array): distance travelled by projectile\n",
    "        x_o (array): height of projectile at given distance\n",
    "    Returns:\n",
    "        Distance traveled in meter until projectile reaches highest point of its trajectory.\n",
    "    \"\"\"\n",
    "    return d[x_o.argmax()]\n",
    "\n",
    "def get_impact_angle(d_highest_point, h_highest_point, d_impact):\n",
    "    \"\"\" Compute impact angle of projectile\n",
    "    Args:\n",
    "        d_highest_point (float): distance travelled at highest point\n",
    "        h_highest_point (float): height at highest point\n",
    "        d_impact (float): distance travelled at impact point\n",
    "    Returns:\n",
    "        Impact angle\n",
    "    \"\"\"\n",
    "    impact_angle_arctan = np.arctan(h_highest_point/ (d_impact-d_highest_point))\n",
    "    \n",
    "    return impact_angle_arctan * 180/np.pi\n",
    "    "
   ]
  },
  {
   "cell_type": "markdown",
   "id": "a18fc991",
   "metadata": {
    "slideshow": {
     "slide_type": "slide"
    }
   },
   "source": [
    "### 1.4.3 Try to reproduce data manually 🛠️\n",
    "- assuming you can build a forward model\n",
    "- can you beat the linear regression model?"
   ]
  },
  {
   "cell_type": "code",
   "execution_count": null,
   "id": "5995a4c0",
   "metadata": {
    "slideshow": {
     "slide_type": "subslide"
    }
   },
   "outputs": [],
   "source": [
    "def distance(prediction:np.array, data:np.array, distance_function:Callable) -> float:\n",
    "    \"\"\" Returns distance between arg1 and arg2 according to specified distance measure.\n",
    "    Args:\n",
    "        prediction (array): \n",
    "        data (array):\n",
    "        distance_function (Callable):\n",
    "    Returns:\n",
    "        distance between prediction and data.\n",
    "    \"\"\"\n",
    "    ensure_array = lambda x: np.array([x])\n",
    "    if not hasattr(prediction, \"__len__\") and not (hasattr(data, \"__len__\")):\n",
    "        prediction, data = map(ensure_array, [prediction, data])\n",
    "    assert len(prediction) == len(data)\n",
    "    \n",
    "    return distance_function(prediction, data)\n",
    "\n",
    "\n",
    "U = np.random.uniform\n",
    "# sample parameters from a uniform distribution\n",
    "speed = U(50, 250)\n",
    "angle = U(10, 45)\n",
    "drag = U(0.2, 0.7)\n",
    "\n",
    "\n",
    "# pass parameters to simulator and see result\n",
    "simulation = mortar(speed, angle, drag)\n",
    "\n",
    "x_reconstruction = simulation['x']\n",
    "domain = simulation['d']\n",
    "\n",
    "plot_data_vs_model(\n",
    "    domain,\n",
    "    x_o,\n",
    "    x_reconstruction,\n",
    "    data_label='x_o',\n",
    "    model_label='reconstruction')\n",
    "\n",
    "\n",
    "# choose a distance function\n",
    "mse = lambda prediction, data: np.square(prediction - data).mean()\n",
    "chebyshev = lambda prediction, data:\\\n",
    "                max([np.abs(data[i]-prediction[i]) for i in range(data.shape[0])])\n",
    "\n",
    "# and an acceptance threshold ε\n",
    "ε = 100000\n",
    "\n",
    "error = distance(x_reconstruction, x_o, mse)\n",
    "accepted = error <= ε\n",
    "\n",
    "\n",
    "start_bold = '\\033[1m'\n",
    "end_bold = '\\033[0m'\n",
    "print(f'Distance of simulation with parameters\\nlaunch velocity={speed:.1f},\\\n",
    "launch angle={angle:.1f},\\\n",
    "and drag coefficient={drag:.2f}:{start_bold}{error:.2f}{end_bold}')\n",
    "print(f'Based on chosen {start_bold}ε={ε}{end_bold}, the simulation was {start_bold}\\\n",
    "{\"accepted\" if {accepted} else \"not accepted\"}{end_bold}')"
   ]
  },
  {
   "cell_type": "markdown",
   "id": "ff6253c6",
   "metadata": {
    "slideshow": {
     "slide_type": "slide"
    }
   },
   "source": [
    "### 1.4.4 Automate the search for parameters 🛠️\n",
    "- there should be a smarter way to approach this\n",
    "- your task is now to automate what we just tried manually and make decisions which paramters to keep, based on distance"
   ]
  },
  {
   "cell_type": "code",
   "execution_count": null,
   "id": "1884d6ca",
   "metadata": {
    "slideshow": {
     "slide_type": "subslide"
    }
   },
   "outputs": [],
   "source": [
    "def rejection_abc(ε:float, distance_function:Callable, N:int=1000)-> List:\n",
    "    \"\"\" Can your approach be automated?\n",
    "    Args:\n",
    "        ε (float): acceptance threshold\n",
    "        distance_function (Callable): function to compute distance between prediction and observation\n",
    "        N (int): number of simulations\n",
    "    Returns:\n",
    "        List of parameters where distance of simulation to observation is <= ε\n",
    "    \"\"\"\n",
    "    θ_accepted = []\n",
    "    \n",
    "    for _ in range(N):\n",
    "        # sample θ from a uniform prior\n",
    "        speed = U(50, 250)\n",
    "        angle = U(10, 45)\n",
    "        drag = U(0.2, 0.7)\n",
    "        ######################################################################## Solution\n",
    "        # pass to simulator\n",
    "        simulation = mortar(speed, angle, drag)\n",
    "        domain, abc_reconstruction = simulation['d'], simulation['x']\n",
    "        # compute distance\n",
    "        dist = distance(x_o, abc_reconstruction, distance_function)\n",
    "        # check if within epsilon\n",
    "        if dist <= ε:\n",
    "            # if so return parameters\n",
    "            θ_accepted.append((speed, angle, drag))\n",
    "        ######################################################################## Solution end\n",
    "    return θ_accepted\n",
    "\n",
    "ε = 1000\n",
    "θ_accepted = rejection_abc(ε, mse)\n",
    "print(f'Your rejection-ABC implementation has found {len(θ_accepted)}\\\n",
    " parameters that produce observations within ε={ε}.')"
   ]
  },
  {
   "cell_type": "code",
   "execution_count": null,
   "id": "87f7b95a",
   "metadata": {
    "slideshow": {
     "slide_type": "subslide"
    }
   },
   "outputs": [],
   "source": [
    "# plot with one of the found parameters\n",
    "speed, angle, drag = random.choice(θ_accepted)\n",
    "sim_result = mortar(speed, angle, drag)\n",
    "error = distance(sim_result[\"x\"], x_o, mse)\n",
    "\n",
    "plot_data_vs_model(\n",
    "    sim_result['d'],\n",
    "    x_o,\n",
    "    sim_result['x'],\n",
    "    data_label='x_o',\n",
    "    model_label='rejection-ABC reconstruction')\n",
    "\n",
    "\n",
    "print(f'Distance of simulation with automatically found parameters\\nlaunch velocity={speed:.1f},\\\n",
    "launch angle={angle:.1f}, and drag coefficient={drag:.2f}: {start_bold}{error:.2f}{end_bold}')"
   ]
  },
  {
   "cell_type": "markdown",
   "id": "f3c66eb5",
   "metadata": {
    "slideshow": {
     "slide_type": "subslide"
    }
   },
   "source": [
    "- You just discovered rejection ABC!\n",
    "- Reflect on how choice of $\\epsilon$, $d$ was made"
   ]
  },
  {
   "cell_type": "markdown",
   "id": "54847ec1",
   "metadata": {
    "slideshow": {
     "slide_type": "slide"
    }
   },
   "source": [
    "### 1.4.5 When does this break?\n",
    "- suppose our observation is more complex"
   ]
  },
  {
   "cell_type": "code",
   "execution_count": null,
   "id": "b06908c5",
   "metadata": {
    "slideshow": {
     "slide_type": "subslide"
    }
   },
   "outputs": [],
   "source": [
    "def pendulum_sim(θ:np.array)->np.array:\n",
    "    \"\"\"\n",
    "    Blackbox simulator that takes in a parameter vector\n",
    "    and produces an observation of angular dispalement\n",
    "    of a damped pendulum.\n",
    "    \"\"\"\n",
    "    dampening_factor, mass, length = θ\n",
    "    theta_0 = [0,3]\n",
    "    t = np.linspace(0,20,150)    \n",
    "    # solve ODE\n",
    "    solution = scipy.integrate.odeint(displacement_deriv, theta_0,t,args =(dampening_factor,mass,9.81,length))\n",
    "    angular_velocity_measurements =  solution[:,0] + np.random.randn(t.shape[0]) * 0.05\n",
    "    # return observation\n",
    "    return angular_velocity_measurements\n",
    "\n",
    "pendulum = interactive_pendulum(pendulum_sim)\n",
    "pendulum"
   ]
  },
  {
   "cell_type": "markdown",
   "id": "4200f548",
   "metadata": {
    "slideshow": {
     "slide_type": "slide"
    }
   },
   "source": [
    "### 1.4.6 What can we do about this?\n",
    "- What summary statistics for this data would come to your  mind?\n",
    "- Can we learn summary statistics with neural networks?"
   ]
  },
  {
   "cell_type": "markdown",
   "id": "41faf0de",
   "metadata": {
    "slideshow": {
     "slide_type": "slide"
    }
   },
   "source": [
    "### 1.4.7 Introduce SBI as a potentially useful approach to solve our problem"
   ]
  },
  {
   "cell_type": "code",
   "execution_count": null,
   "id": "4748e268",
   "metadata": {
    "slideshow": {
     "slide_type": "subslide"
    }
   },
   "outputs": [],
   "source": [
    "# define an initial, three-dimensional prior \n",
    "num_dim = 3\n",
    "prior = utils.BoxUniform(low=torch.Tensor([0,0.01,1]), high=torch.Tensor([1,5,4]))\n",
    "\n",
    "# and infer the posterior over θ using the sbi toolkit\n",
    "posterior = infer(pendulum_sim, prior, method='SNPE', num_simulations=500)"
   ]
  },
  {
   "cell_type": "code",
   "execution_count": null,
   "id": "6352db33",
   "metadata": {
    "slideshow": {
     "slide_type": "subslide"
    }
   },
   "outputs": [],
   "source": [
    "x_o = pendulum.result['x_o']\n",
    "samples = posterior.sample((10000,), x=x_o)\n",
    "θ = samples.mean(dim=0).numpy()\n",
    "log_probability = posterior.log_prob(samples, x=x_o)\n",
    "_ = analysis.pairplot(samples, figsize=(6,6))"
   ]
  },
  {
   "cell_type": "code",
   "execution_count": null,
   "id": "ab6ed7bf",
   "metadata": {
    "slideshow": {
     "slide_type": "subslide"
    }
   },
   "outputs": [],
   "source": [
    "_, ax = plt.subplots()\n",
    "ax.plot(np.linspace(0,20,150), pendulum_sim(θ), label='sbi reconstruction', color=COLORS['sbi'])\n",
    "ax.plot(np.linspace(0,20,150), x_o, label='x_o', color=COLORS['data'], marker='x')\n",
    "set_plot_attributes(ax, legend=True, xlabel='$t$', grid=True, ylabel='Angular displacement')"
   ]
  }
 ],
 "metadata": {
  "celltoolbar": "Slideshow",
  "kernelspec": {
   "display_name": "Python 3",
   "language": "python",
   "name": "python3"
  },
  "language_info": {
   "codemirror_mode": {
    "name": "ipython",
    "version": 3
   },
   "file_extension": ".py",
   "mimetype": "text/x-python",
   "name": "python",
   "nbconvert_exporter": "python",
   "pygments_lexer": "ipython3",
   "version": "3.7.10"
  },
  "rise": {
   "enable_chalkboard": true,
   "footer": "<h3>World!</h3>",
   "header": "<h1>Hello</h1>",
   "overlay": "<div class='myheader'><h2>my company</h2></div><div class='myfooter'><h2>the date</h2></div>",
   "scroll": true
  }
 },
 "nbformat": 4,
 "nbformat_minor": 5
}
