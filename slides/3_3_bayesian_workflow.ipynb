{
 "cells": [
  {
   "cell_type": "markdown",
   "id": "f58680a1",
   "metadata": {
    "slideshow": {
     "slide_type": "slide"
    }
   },
   "source": [
    "# What could go wrong and how to fix it\n",
    "\n",
    "## 2. Take a step back: look at the full Bayesian workflow\n",
    "<img src=\"janfb/figures/what-if-i-told-you-this-is-not-fully-bayesian.jpg\" align=\"center\" alt=\"beadexample\" width=\"500\"/>"
   ]
  },
  {
   "cell_type": "markdown",
   "id": "ff8ebc4b",
   "metadata": {
    "slideshow": {
     "slide_type": "slide"
    }
   },
   "source": [
    "## Outline\n",
    "\n",
    "1) Model misspecification\n",
    "\n",
    "2) Bayesian workflow\n",
    "\n",
    "3) Bayesian workflow in `sbi`\n",
    "\n",
    "4) Simulation-based calibration\n",
    "\n",
    "5) Practical: Bayesian workflow in `sbi`"
   ]
  },
  {
   "cell_type": "markdown",
   "id": "a5431245",
   "metadata": {
    "slideshow": {
     "slide_type": "slide"
    }
   },
   "source": [
    "## Model misspecification\n",
    "\n",
    "- previous session: troubleshooting with the `sbi` package with **given** simulator and prior\n",
    "- what if the model and prior are not accurately (enough) modelling the observed data $x_o$\n",
    "\n",
    "- what if the model is **misspecified**?"
   ]
  },
  {
   "cell_type": "markdown",
   "id": "4c63cbbf",
   "metadata": {
    "cell_style": "center",
    "slideshow": {
     "slide_type": "subslide"
    }
   },
   "source": [
    "## Model misspecification example\n",
    "\n",
    "- the prior and simulator do not capture the actual data generating process\n",
    "- $x_o$ is not in the prior predictive distribution\n",
    "\n",
    "\n",
    "- prior predictive distribution\n",
    "    - all data the model can generate: $(\\theta, x) \\sim p(\\theta, x) = p(x | \\theta)p(\\theta)$"
   ]
  },
  {
   "cell_type": "code",
   "execution_count": null,
   "id": "5ad13186",
   "metadata": {
    "slideshow": {
     "slide_type": "skip"
    }
   },
   "outputs": [],
   "source": [
    "from sbi.inference import SNLE, SNPE, prepare_for_sbi, simulate_for_sbi\n",
    "from sbi.simulators.linear_gaussian import (\n",
    "    linear_gaussian,\n",
    "    samples_true_posterior_linear_gaussian_uniform_prior,\n",
    ")\n",
    "import torch\n",
    "from sbi.utils import BoxUniform\n",
    "import matplotlib.pyplot as plt\n",
    "from sbi.analysis import pairplot"
   ]
  },
  {
   "cell_type": "markdown",
   "id": "9c0d20b4",
   "metadata": {
    "cell_style": "center",
    "slideshow": {
     "slide_type": "subslide"
    }
   },
   "source": [
    "## Model misspecification example\n",
    "\n",
    "$$\n",
    "\\text{prior:  } \\theta \\sim \\mathcal{N}(0, I) \\\\\n",
    "\\text{simulator:  } x \\sim \\mathcal{N}(\\theta, I) \\\\\n",
    "\\\\\n",
    "\\text{but:  } x_o \\sim \\mathcal{N}(\\theta_o, 5 * I)\n",
    "$$"
   ]
  },
  {
   "cell_type": "code",
   "execution_count": null,
   "id": "2848eb44",
   "metadata": {
    "slideshow": {
     "slide_type": "fragment"
    }
   },
   "outputs": [],
   "source": [
    "# Gaussian simulator\n",
    "def simulator(theta, scale=0.5):\n",
    "    # Sample from standard normal, shift with mean.\n",
    "    return scale * torch.randn(theta.shape) + theta\n",
    "\n",
    "num_dim = 3\n",
    "# Misspecification.\n",
    "simulator_scale = 0.5\n",
    "true_scale = 5.0\n",
    "\n",
    "# Uniform prior.\n",
    "prior = BoxUniform(-5 * torch.ones(num_dim), 5 * torch.ones(num_dim))\n",
    "x_o = simulator(prior.sample((1,)), scale=true_scale)"
   ]
  },
  {
   "cell_type": "markdown",
   "id": "594fe6fd",
   "metadata": {
    "slideshow": {
     "slide_type": "subslide"
    }
   },
   "source": [
    "## Model misspecification: $x_o$ not in prior predictive"
   ]
  },
  {
   "cell_type": "code",
   "execution_count": null,
   "id": "3da50360",
   "metadata": {
    "slideshow": {
     "slide_type": "-"
    }
   },
   "outputs": [],
   "source": [
    "pairplot(simulator(prior.sample((1000,)), scale=simulator_scale), \n",
    "         upper=\"scatter\", points=x_o, points_colors=\"k\", limits=[[-10, 10]]);"
   ]
  },
  {
   "cell_type": "markdown",
   "id": "90bc8d2e",
   "metadata": {
    "slideshow": {
     "slide_type": "subslide"
    }
   },
   "source": [
    "## Other examples of model misspecification\n"
   ]
  },
  {
   "cell_type": "markdown",
   "id": "dcff6ce7",
   "metadata": {
    "slideshow": {
     "slide_type": "fragment"
    }
   },
   "source": [
    "- what we have here: one hyper-parameter (scale) of the simulator misspecified \n",
    "- more severe: wrong model class\n",
    "- prior misspecification\n",
    "- more examples? "
   ]
  },
  {
   "cell_type": "markdown",
   "id": "27a8091b",
   "metadata": {
    "cell_style": "split",
    "slideshow": {
     "slide_type": "slide"
    }
   },
   "source": [
    "## Bayesian inference vs. Bayesian workflow\n",
    "\n",
    "- Bayesian inference: \n",
    "    - obtain posterior distribution\n",
    "    - (or samples)\n",
    "- Bayesian workflow:\n",
    "    - model building\n",
    "    - inference\n",
    "    - model checking"
   ]
  },
  {
   "cell_type": "markdown",
   "id": "7424da83",
   "metadata": {
    "cell_style": "split",
    "slideshow": {
     "slide_type": "fragment"
    }
   },
   "source": [
    "<img src=\"janfb/figures/bayesian_worklow_chart.png\" align=\"center\" alt=\"beadexample\" width=\"800\"/> \n",
    "[Gelman et al. 2020]"
   ]
  },
  {
   "cell_type": "markdown",
   "id": "b666d734",
   "metadata": {
    "slideshow": {
     "slide_type": "subslide"
    }
   },
   "source": [
    "## Recommended reading\n",
    "\n",
    "- Gelman et al. 2020, \"Bayesian workflow\", \n",
    "https://arxiv.org/abs/2011.01808\n",
    "\n",
    "- Michael Betancourt, \"Towards a principled Bayesian Workflow\", 2020\n",
    "https://betanalpha.github.io/assets/case_studies/principled_bayesian_workflow.html\n"
   ]
  },
  {
   "cell_type": "markdown",
   "id": "ed969bff",
   "metadata": {
    "slideshow": {
     "slide_type": "slide"
    }
   },
   "source": [
    "\n",
    "## Bayesian workflow in `sbi`\n",
    "\n",
    "Which of the steps can we do in `sbi` (until now)?\n",
    "\n",
    "- prior predictive checks\n",
    "- convergence diagnostics (training logs)\n",
    "- posterior predictive checks\n",
    "- simulation-based calibration"
   ]
  },
  {
   "cell_type": "markdown",
   "id": "3a9e9e11",
   "metadata": {
    "slideshow": {
     "slide_type": "slide"
    }
   },
   "source": [
    "## Simulation-based calibration\n",
    "\n",
    "TBD."
   ]
  },
  {
   "cell_type": "markdown",
   "id": "8ab27c22",
   "metadata": {
    "slideshow": {
     "slide_type": "slide"
    }
   },
   "source": [
    "## Practical: Bayesian workflow in `sbi`\n",
    "\n",
    "### Tasks\n",
    "1) Take one the following inference problem (TBD) and perform as much of the Bayesian workflow as possible using `sbi`\n",
    "- prior predictive checks\n",
    "- convergence diagnostics\n",
    "- posterior predictive checks\n",
    "- [optional] simulation-based calibration\n",
    "\n",
    "2) Is the inference you performed valid? "
   ]
  },
  {
   "cell_type": "code",
   "execution_count": null,
   "id": "345ea5dc",
   "metadata": {},
   "outputs": [],
   "source": []
  }
 ],
 "metadata": {
  "celltoolbar": "Slideshow",
  "kernelspec": {
   "display_name": "Python 3 (ipykernel)",
   "language": "python",
   "name": "python3"
  },
  "language_info": {
   "codemirror_mode": {
    "name": "ipython",
    "version": 3
   },
   "file_extension": ".py",
   "mimetype": "text/x-python",
   "name": "python",
   "nbconvert_exporter": "python",
   "pygments_lexer": "ipython3",
   "version": "3.7.10"
  }
 },
 "nbformat": 4,
 "nbformat_minor": 5
}
